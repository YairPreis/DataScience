{
 "cells": [
  {
   "cell_type": "markdown",
   "metadata": {},
   "source": [
    "# Homework #4\n",
    " \n",
    "1. Extraction protocol\n",
    "2. EDA\n",
    "3. Data cleansing\n",
    " \n",
    "### Part 1 - Extraction protocol\n",
    " \n",
    "Fill the excel file with the variables, indicating the values required in the file.\n",
    "\n",
    "### Part 2 - EDA\n",
    " \n",
    "#### 2.1 - Descriptive statistics\n",
    " \n",
    "Generate a table showing the minimum, maximum, median, IQR, mean and standard deviation for each variable. Use the functions summary (in R), describe (in Python), or use the Table1 function from the mechkar package"
   ]
  },
  {
   "cell_type": "code",
   "execution_count": null,
   "metadata": {
    "scrolled": true
   },
   "outputs": [],
   "source": [
    "if (!require(\"car\")) install.packages(\"car\")\n",
    "if (!require(\"tibble\")) install.packages(\"tibble\")\n",
    "if (!require(\"dplyr\")) install.packages(\"dplyr\")\n",
    "\n",
    "if (!require(\"pastecs\")) install.packages(\"pastecs\")\n"
   ]
  },
  {
   "cell_type": "code",
   "execution_count": null,
   "metadata": {},
   "outputs": [],
   "source": [
    "head(df)"
   ]
  },
  {
   "cell_type": "code",
   "execution_count": null,
   "metadata": {},
   "outputs": [],
   "source": [
    "pastecs::stat.desc(df)"
   ]
  },
  {
   "cell_type": "code",
   "execution_count": null,
   "metadata": {},
   "outputs": [],
   "source": [
    "# למטה זה קוד שיוצר את\n",
    "# Table1\n",
    "# שזה החלק בקוד של ספרית מחקר של תומס שיוצר את הבדיקה של החסרים, גרפים וכו"
   ]
  },
  {
   "cell_type": "code",
   "execution_count": null,
   "metadata": {},
   "outputs": [],
   "source": [
    "####################  FUNCTIONS  ###########################################\n",
    "#### Usage:\n",
    "####   x: character vector with the name of the variables\n",
    "####   y: the name of the strata variable (optional)\n",
    "####   rn: character vector with the text we want to replace the variable names\n",
    "####   data: the dataset to be used\n",
    "####   miss: include missing statistics: [0=none, 1=only for categorical variables, 2=for all variables]\n",
    "####   excel: export the table to excel [0=no, 1=yes]\n",
    "####   excel_file: the name of the excel file we want to save the table (optional)\n",
    "####\n",
    "###################\n",
    "\n",
    "Table1 <- function(x=NULL, y=NULL, rn=NULL, data=NULL, miss=3, catmiss=TRUE, formatted=TRUE, categorize=FALSE,\n",
    "                    factorVars=NULL, maxcat=10, delzero=TRUE, decimals=1, messages=TRUE, excel=0, excel_file=NULL,\n",
    "                    debug=FALSE) {\n",
    "  ### define sub-functions\n",
    "  options(warn=-1)\n",
    "  Del <- NULL\n",
    "  Pop <- NULL\n",
    "  n <- NULL\n",
    "  g1 <- function(var)c(Mean=mean(var,na.rm=TRUE), SD=stats::sd(var,na.rm=TRUE))\n",
    "  g2 <- function(var)c(Median=stats::median(var,na.rm=TRUE), IQR=stats::quantile(var,c(0.25,0.75),na.rm=TRUE))\n",
    "  msg <- NULL\n",
    "\n",
    "  ### function for transforming variables to factors\n",
    "  setFactors <- function(data=data, factorVars=factorVars, catmiss=catmiss, maxcat=maxcat) {\n",
    "    #print(factorVars)\n",
    "    if(is.null(factorVars)==T) {\n",
    "      aa <- sapply(sapply(data, unique), length)\n",
    "      factorVars <- names(which(aa <= maxcat))\n",
    "    }\n",
    "    #print(factorVars)\n",
    "    for (v in factorVars) {\n",
    "      ct <- ifelse( ((is.null(factorVars)==F & (v %in% factorVars)) | (is.null(factorVars)==T & length(unique(data[[v]])) <= maxcat)),1,0)\n",
    "      if (ct == 1) {\n",
    "        data[[v]] <- factor(data[[v]])\n",
    "        if(catmiss == T & sum(is.na(data[[v]])==T) > 0) {\n",
    "          data[[v]] <- factor(data[[v]],levels=c(levels(data[[v]]),\"Missing\"))\n",
    "          data[[v]][which(is.na(data[[v]])==T)] <- \"Missing\"\n",
    "        }\n",
    "      }\n",
    "    }\n",
    "    return(data)\n",
    "  }\n",
    "  ### proceed to convert varibles to factors\n",
    "  if (categorize == T | is.null(factorVars)==F ) {\n",
    "    data <- setFactors(data, factorVars, catmiss, maxcat)\n",
    "  }\n",
    "\n",
    "  getSimpleTable  <- function(x=x, rn=rn, data=data, miss=miss, catmiss=catmiss,formatted=formatted,\n",
    "                              categorize=categorize,maxcat=maxcat, delzero=delzero) {\n",
    "    if (is.null(x)==TRUE) { x <- names(data)}\n",
    "    if (is.null(rn)==TRUE) { rn <- x}\n",
    "    ln <- length(x)\n",
    "    pb <- utils::txtProgressBar(min=0,max=ln,style=3)\n",
    "    msg <- NULL\n",
    "    ### define the column names\n",
    "    tableaaaa <- cbind(Del=\"Del\",V1=\"Variables\",V2=\"Categories\",n=\"n\",\"Population\")\n",
    "    tablebbbb <- cbind(Del=\"Del\",V1=\"Variables\",V2=\"Categories\",n=\"n\",val1=\"val1\",val2=\"val2\",val3=\"val3\")\n",
    "    tbl1 <- cbind(0,\"Individuals\",\"n\",n=1, nrow(data))\n",
    "    tbl2 <- cbind(0,\"Individuals\",\"n\",n=1, nrow(data),NA,NA)\n",
    "    tableaaaa <- rbind(tableaaaa,tbl1)\n",
    "    tablebbbb <- rbind(tablebbbb,tbl2)\n",
    "    q <- 1\n",
    "    n <- 1\n",
    "    ii <- 1\n",
    "    for (v in x)\n",
    "    {\n",
    "      if (v %in% names(data)) {\n",
    "        ### define if the actual variable has to be treated as numeric or factor\n",
    "        ct <- ifelse(is.numeric(data[[v]])==T & categorize==T &\n",
    "                       ((is.null(factorVars)==F & (v %in% factorVars)) |\n",
    "                          (is.null(factorVars)==T & length(unique(data[[v]])) <= maxcat)),1,0)\n",
    "        ### treat as numeric\n",
    "        if (length(unique(data[v]))==0) {\n",
    "          if (messages==T) {\n",
    "            #print(paste(\"The variable\",v,\"has no data... avoided\"))\n",
    "            msg <- c(msg, paste(\"The variable\",v,\"has no data... avoided\"))\n",
    "          }\n",
    "        } else if (inherits(data[[v]], \"Date\")==TRUE) {\n",
    "          if (messages==T) {\n",
    "            msg <- c(msg, paste(\"The variable\",v,\"is a date. Dates are not allowed in Table1... avoided\"))\n",
    "          }\n",
    "        } else if (is.numeric(data[[v]])==T & ct==0) {\n",
    "          ## report mean and standard deviation\n",
    "          t_n <- g1(data[[v]])\n",
    "          tp <- paste(format(round(t_n[1],decimals),nsmall=1,big.mark=\",\"),\" (\", format(round(t_n[2],decimals),nsmall=1,big.mark=\",\"),\")\",sep=\"\")\n",
    "          tbl1 <- cbind(0,rn[q],\"Mean (SD)\",n=1, tp)\n",
    "          tbl2 <- cbind(0,rn[q],\"Mean (SD)\",n=1,t_n[1],t_n[2],NA)\n",
    "          tableaaaa <- rbind(tableaaaa,tbl1)\n",
    "          tablebbbb <- rbind(tablebbbb,tbl2)\n",
    "          ## report median and Interquartile ranges (25%,75%)\n",
    "          t_n <- g2(data[[v]])\n",
    "          tp <- paste(format(round(t_n[1],decimals),nsmall=1,big.mark=\",\"),\" (\", format(round(t_n[2],decimals),nsmall=1,big.mark=\",\"),\"-\", format(round(t_n[3],decimals),nsmall=1,big.mark=\",\"), \")\",sep=\"\")\n",
    "          tbl1 <- cbind(0,rn[q],\"Median (IQR)\",n=2, format(tp,big.mark=\",\"))\n",
    "          tbl2 <- cbind(0,rn[q],\"Median (IQR)\",n=2,t_n[1],t_n[2],t_n[3])\n",
    "          tableaaaa <- rbind(tableaaaa,tbl1)\n",
    "          tablebbbb <- rbind(tablebbbb,tbl2)\n",
    "          ## report number and percent of missing\n",
    "          if (miss >= 1) {\n",
    "            datams <- subset(data,is.na(data[[v]])==T)\n",
    "            if (nrow(datams)>0) {\n",
    "              data$cnt <- 1\n",
    "              datams$cnt <- 1\n",
    "              t_n <- table(data$cnt)\n",
    "              t_m <- sum(datams$cnt)\n",
    "              tp <- paste(format(t_m,big.mark=\",\"),\" (\",format(round((t_m/t_n)*100,decimals),nsmall=1,big.mark=\",\"),\"%)\",sep=\"\")\n",
    "              tbl1 <- cbind(0,rn[q],\"Missing (%)\",n=3, tp)\n",
    "              tbl2 <- cbind(0,rn[q],\"Missing (%)\",n=3, t_m, (t_m/t_n)*100, NA)\n",
    "            } else {\n",
    "              tbl1 <- cbind(1,rn[q],\"Missing (%)\",n=3, \" -- \")\n",
    "              tbl2 <- cbind(1,rn[q],\"Missing (%)\",n=3, NA, NA, NA)\n",
    "            }\n",
    "            tableaaaa <- rbind(tableaaaa,tbl1)\n",
    "            tablebbbb <- rbind(tablebbbb,tbl2)\n",
    "          }\n",
    "        } else {\n",
    "          t_n <- table(data[[v]])\n",
    "          ttotal <- sum(t_n)\n",
    "          nm <- row.names(t_n)\n",
    "          for (f in 1:length(nm)) {\n",
    "            del1 <- ifelse(length(nm)==2 & (nm[f]==\"No\" | nm[f]==\"no\" | nm[f]==0 | nm[f]==\"0\" | nm[f]==\"None\" | nm[f]==\"none\"),1,0)\n",
    "            tp <- t_n[f] / ttotal * 100\n",
    "            pct <- paste(format(round(t_n[f],decimals),nsmall=0,big.mark=\",\"),\" (\", format(round(tp,decimals),nsmall=1,big.mark=\",\"), \"%)\",sep=\"\")\n",
    "            tbl1 <- cbind(del1,rn[q],nm[f],n=f, pct)             ########### delete rows 0/1 !!!!!!!!!\n",
    "            tbl2 <- cbind(del1,rn[q],nm[f],n=f, t_n[f], tp, NA)  ########### delete rows 0/1 !!!!!!!!!\n",
    "            tableaaaa <- rbind(tableaaaa,tbl1)\n",
    "            tablebbbb <- rbind(tablebbbb,tbl2)\n",
    "          }\n",
    "          if (miss >= 2 & catmiss==F ) {\n",
    "            datams <- subset(data,is.na(data[[v]])==T)\n",
    "            if (nrow(datams)>0) {\n",
    "              data$cnt <- 1\n",
    "              datams$cnt <- 1\n",
    "              t_n <- table(data$cnt)\n",
    "              t_m <- sum(datams$cnt)\n",
    "              tp <- paste(format(t_m,big.mark=\",\"),\" (\",format(round((t_m/t_n)*100,decimals),nsmall=1,big.mark=\",\"),\"%)\",sep=\"\")\n",
    "              tbl1 <- cbind(0,rn[q],\"Missing (%)\",n=f, tp)\n",
    "              tbl2 <- cbind(0,rn[q],\"Missing (%)\",n=f, t_m, (t_m/t_n)*100, NA)\n",
    "            } else {\n",
    "              tbl1 <- cbind(1,rn[q],\"Missing (%)\",n=f, \" -- \")\n",
    "              tbl2 <- cbind(1,rn[q],\"Missing (%)\",n=f, NA, NA, NA)\n",
    "            }\n",
    "            tableaaaa <- rbind(tableaaaa,tbl1)\n",
    "            tablebbbb <- rbind(tablebbbb,tbl2)\n",
    "          }\n",
    "        }\n",
    "      } else {\n",
    "        if (messages==T) {\n",
    "          msg <- c(msg, paste(\"The variable\",v,\"doesn't exists in the dataset... avoiding\"))\n",
    "        }\n",
    "      }\n",
    "      q <- q + 1\n",
    "      if(debug==FALSE) {\n",
    "        utils::setTxtProgressBar(pb,ii)\n",
    "        ii <- ii + 1\n",
    "      } else {\n",
    "        print(v)\n",
    "      }\n",
    "    }\n",
    "    if(formatted==TRUE) {\n",
    "      return(tableaaaa)\n",
    "    } else {\n",
    "      return(tablebbbb)\n",
    "    }\n",
    "    close(pb)\n",
    "  }\n",
    "\n",
    "  pvals <- function(x=x,y=y,rn=rn,data=data,categorize=categorize,maxcat=maxcat) {\n",
    "    ptab <- NULL\n",
    "    if (is.null(y)==FALSE) {\n",
    "      if (y %in% names(data)) {\n",
    "        if (is.null(x)==TRUE) { x <- names(data)}\n",
    "        if (is.null(rn)==TRUE | length(rn)<2) {rn <- x}\n",
    "        q <- 1\n",
    "        ptab <- cbind(V=\"Variables\",pval=\"pval\", n=\"n\")\n",
    "\n",
    "        ln <- length(x)\n",
    "        ii <- 0\n",
    "        pb <- utils::txtProgressBar(min=0,max=ln,style=3)\n",
    "\n",
    "        for (v in x) {\n",
    "          if (v %in% names(data)) {\n",
    "            ct <- ifelse(is.numeric(data[[v]])==T & categorize==T & length(unique(data[[v]])) <= maxcat,1,0)\n",
    "            if (is.numeric(data[[y]])==T & categorize==T & length(unique(data[[y]])) <= maxcat) {\n",
    "              data[[y]] <- as.factor(data[[y]])\n",
    "            } else if (is.numeric(data[[y]])==T) {\n",
    "              if (messages==T) {\n",
    "                msg <- c(msg, paste(\"The variable\",y,\"is not a factor. Please convert to factor or change the 'categorize' flag to TRUE.\"))\n",
    "              }\n",
    "              pval <- \"Please rerun!!!\"\n",
    "            }\n",
    "            if (is.numeric(data[[v]])==TRUE & length(unique(data[[v]])) > 1 & ct == 0) {\n",
    "              ### first check for homoscedasticity\n",
    "              tryCatch({\n",
    "                if (stats::bartlett.test(data[[v]], data[[y]])[3] >= 0.05) {\n",
    "                  pval <- round(as.numeric(suppressMessages(car::Anova(stats::lm(data[[v]] ~ data[[y]])))[1, 4]), 3)\n",
    "                } else {\n",
    "                  pval <- round(as.numeric(suppressMessages(car::Anova(stats::lm(data[[v]] ~ data[[y]]), white.adjust = TRUE))[1, 3]), 3)\n",
    "                }\n",
    "              }, warning = function(w) {\n",
    "                ww <- \"suppress warnings...\"\n",
    "              }, error = function(e) {\n",
    "                pval <- \"---\"\n",
    "              })\n",
    "            } else if (length(unique(data[[v]]))==1) {\n",
    "              pval <- NA\n",
    "            } else {\n",
    "              if (min(table(data[[v]],data[[y]])) > 5) {\n",
    "                pval <- round(as.numeric(stats::chisq.test(data[[v]],data[[y]])$p.val),3)\n",
    "              } else {\n",
    "                if(min(table(data[[v]],data[[y]]))==0) {\n",
    "                  #in cases where there are cells with zero, we use Fisher's exact test\n",
    "                  tryCatch(\n",
    "                    pval <- round(as.numeric(stats::fisher.test(data[[v]],data[[y]], workspace=1e9)$p.val),3),\n",
    "                    error = function(e) {msg <- c(msg,paste0(\"Unable to calcualte the Fisher test for variables \",v,\" and \",y))})\n",
    "                } else {\n",
    "                  pval <- round(as.numeric(stats::kruskal.test(data[[v]],data[[y]], workspace=1e9)$p.val),3)\n",
    "                }\n",
    "              }\n",
    "            }\n",
    "            ptab <- rbind(ptab,cbind(V=rn[q],pval=pval,n=2))\n",
    "          }\n",
    "          if(debug==FALSE) {\n",
    "            utils::setTxtProgressBar(pb,ii)\n",
    "            ii <- ii + 1\n",
    "          }\n",
    "          q <- q + 1\n",
    "        }\n",
    "      }\n",
    "    }\n",
    "    return(ptab)\n",
    "  }\n",
    "  ####################### Begin analysis\n",
    "  ##### check for x's witch have one unique values...get them out...\n",
    "\n",
    "\n",
    "  vv <- NULL\n",
    "  j <- 0\n",
    "  jj <- NULL\n",
    "  for(v in x) {\n",
    "    if(length(unique(data[[v]])) < 2) {\n",
    "      vv <- c(vv,v)\n",
    "      j <- j + 1\n",
    "      jj <- c(jj,j)\n",
    "    }\n",
    "  }\n",
    "  warning(paste(\"The following variables have unique values and will not be included in the analysis:\",vv))\n",
    "  x <- setdiff(x, vv)\n",
    "  if(is.null(rn)==FALSE & length(jj)>0) {\n",
    "    rn <- rn[-jj]\n",
    "  }\n",
    "\n",
    "  ##### if y is null then make a simple table\n",
    "  tabaaa1 <- getSimpleTable(x=x, rn=rn, data=data, miss=miss, catmiss=catmiss,formatted=formatted,categorize=categorize,maxcat=maxcat, delzero=delzero)\n",
    "  tabaaa1 <- tibble::as.tibble(tabaaa1)\n",
    "  ############################  CHANGE TO 5 !!!!!!!!!!!!!!\n",
    "  if(length(tabaaa1) > 5) {\n",
    "    names(tabaaa1) <- c(\"Del\",\"V1\",\"V2\",\"n\",\"Pop\",\"pop2\",\"pop3\")\n",
    "  } else {\n",
    "    names(tabaaa1) <- c(\"Del\",\"V1\",\"V2\",\"n\",\"Pop\")\n",
    "  }\n",
    "  ##### if y has two levels, then make a compound comparison\n",
    "  if (is.null(y)==FALSE){\n",
    "    if (y %in% names(data)) {\n",
    "      if (is.factor(data[[y]])==F) {\n",
    "        if (length(levels(factor(data[[y]]))) > 8) {\n",
    "          if (messages==T) {\n",
    "            print(\"The dependent variable has more than 8 levels, table too large!\")\n",
    "          }\n",
    "        } else if(min(table(data[[y]]))==0) {\n",
    "          print(\"The dependent variable has one or more levels with no individuals assigned!\")\n",
    "        } else {\n",
    "          data[[y]] <- factor(data[[y]])\n",
    "        }\n",
    "      }\n",
    "      if (length(levels(data[[y]])) >= 2) {\n",
    "        for (lv in levels(data[[y]])) {\n",
    "          dtsub <- subset(data, data[[y]]==lv)\n",
    "          tab <- getSimpleTable(x=x, rn=rn, data=dtsub, miss=miss, catmiss=catmiss, formatted=formatted,categorize=categorize,maxcat=maxcat, delzero=delzero)\n",
    "          tab <- data.frame(tab)\n",
    "          ############################  CHANGE TO 5 !!!!!!!!!!!!!!\n",
    "          if(length(tab) > 5) {\n",
    "            names(tab) <- c(\"Del\",\"V1\",\"V2\",\"n\",paste0(lv,\"_1\"),paste0(lv,\"_2\"),paste0(lv,\"_3\"))\n",
    "          } else {\n",
    "            names(tab) <- c(\"Del\",\"V1\",\"V2\",\"n\",lv)\n",
    "          }\n",
    "          ############################  CHANGE TO 5 !!!!!!!!!!!!!!\n",
    "          tab[1,5] <- lv\n",
    "          tabaaa1 <- suppressMessages(dplyr::left_join(tabaaa1, tab))\n",
    "        }\n",
    "        # what to do with dichotomous variables? We remove the \"Zero\" label...\n",
    "        # clean unnecesary rows\n",
    "        if (delzero == TRUE) {\n",
    "          tabaaa1 <- dplyr::filter(tabaaa1,Del==0)\n",
    "        }\n",
    "        ### calculate the p-value\n",
    "        ptab <- data.frame(pvals(x=x,y=y,rn=rn,data=data,categorize=categorize,maxcat=maxcat))\n",
    "        names(ptab) <- c(\"V1\",\"pval\",\"n\")\n",
    "        tabaaa1 <- suppressMessages(dplyr::left_join(tabaaa1, ptab))\n",
    "        tabaaa1 <- dplyr::filter(tabaaa1,Pop != \" -- \") #%>%\n",
    "      }\n",
    "    }\n",
    "  }\n",
    "\n",
    "  tabaaa1 <- dplyr::select(tabaaa1,-n)\n",
    "  tabaaa1 <- dplyr::select(tabaaa1,-Del)\n",
    "\n",
    "  ##### returns the table...\n",
    "  return(tabaaa1)\n",
    "}\n",
    "\n",
    "########################## END Table1 ###############"
   ]
  },
  {
   "cell_type": "code",
   "execution_count": null,
   "metadata": {},
   "outputs": [],
   "source": [
    "df <- mtcars\n",
    "y <- \"mpg\"  # בשעורי בית 4 ה reveviu . במוסבר"
   ]
  },
  {
   "cell_type": "code",
   "execution_count": null,
   "metadata": {},
   "outputs": [],
   "source": [
    "summary(df)"
   ]
  },
  {
   "cell_type": "code",
   "execution_count": null,
   "metadata": {},
   "outputs": [],
   "source": [
    "Table1(data = df)   \n",
    "# יש אפשרות להכניס גם את Y\n",
    "# אבל רק אם הוא לא משתנה קטגורי \n",
    "# population זה אוכלוסית המחקר"
   ]
  },
  {
   "cell_type": "markdown",
   "metadata": {},
   "source": [
    "#### 2.2 - Visualization of the variables\n",
    " \n",
    "For continuous variables plot two/three graphs: \n",
    " \n",
    "- one showing possible outliers (boxplot or scatterplot with index as x-axis)\n",
    "- one showing the distribution (histogram)\n",
    "\n",
    "Optionally, the exploreData function of the mechkar package could be used"
   ]
  },
  {
   "cell_type": "code",
   "execution_count": null,
   "metadata": {},
   "outputs": [],
   "source": [
    "if (!require(\"ggplot2\")) install.packages(\"ggplot2\")\n",
    "if (!require(\"gridExtra\")) install.packages(\"gridExtra\")\n"
   ]
  },
  {
   "cell_type": "code",
   "execution_count": null,
   "metadata": {},
   "outputs": [],
   "source": [
    "names(df) #  המשתנים: מספר צילינדרים,כוחות סוס, משקל הרכב וכו\n",
    "\n",
    "row.names(df) # דגמי המכוניות השונים\n"
   ]
  },
  {
   "cell_type": "code",
   "execution_count": null,
   "metadata": {},
   "outputs": [],
   "source": [
    "options(repr.plot.width = 12, repr.plot.height = 4)\n",
    "for(i in names(df)) {\n",
    "    print(i)\n",
    "    p1 <- ggplot(data=df) + geom_boxplot(aes(y=df[[i]]))  # Y כי רוצים לראות האם יש ערכי קיצון\n",
    "    p2 <- ggplot(data=df) + geom_point(aes(x=row.names(df),y=df[[i]]))  #  Xציר זה האינדקס וY זה המשתנה\n",
    "    p3 <- ggplot(data=df) + geom_density(aes(df[[i]]))\n",
    "    grid.arrange(p1, p2,p3, nrow = 1)  # מסדר את הגרפים בשורה אחת. אפשר באותו אופן ביותר שורות\n",
    "}"
   ]
  },
  {
   "cell_type": "code",
   "execution_count": null,
   "metadata": {},
   "outputs": [],
   "source": []
  },
  {
   "cell_type": "code",
   "execution_count": null,
   "metadata": {},
   "outputs": [],
   "source": [
    "if (!require(\"ggplot2\")) install.packages(\"ggplot2\")\n"
   ]
  },
  {
   "cell_type": "code",
   "execution_count": null,
   "metadata": {},
   "outputs": [],
   "source": [
    "# עוד פונקציה מספרית מחקרר של תומס\n",
    "\n",
    "exploreData <- function(data=data, y=NULL, rn=NULL, factorSize=10, dir=\"report\", debug=FALSE, ...) {\n",
    "\n",
    "  get_computer_type <- function(){\n",
    "    # check if current R client is running on PC or on the server\n",
    "    if (Sys.info()[1] == \"Windows\") {\n",
    "      computer.type = \"pc\"\n",
    "    } else if (Sys.info()[1] == \"Linux\") {\n",
    "      computer.type = \"server\"\n",
    "    }\n",
    "    return(computer.type)\n",
    "  }\n",
    "\n",
    "  whatVarType <- function(var) {\n",
    "    suppressWarnings(if (var==\"integer\" | var==\"numeric\") {\n",
    "      return(1)\n",
    "    } else if (var==\"factor\" | var==\"character\") {\n",
    "      return(2)\n",
    "    } else if (var==\"Date\" | \"POSIXct\" %in% var[[1]]) {\n",
    "      return(3)\n",
    "    } else {\n",
    "      return(0)\n",
    "    })\n",
    "  }\n",
    "\n",
    "  drawHistogram <- function(imgname=imgname, x=x) {\n",
    "    d=stats::density(x, kernel = \"gaussian\",na.rm=TRUE)\n",
    "    breakstar=(max(x,na.rm=TRUE) -min(x,na.rm=TRUE))/d$bw\n",
    "    h=graphics::hist(x, breaks=breakstar)\n",
    "    graphics::plot(h,main=\"\",xlab=imgname)\n",
    "    yfit<-seq(min(x,na.rm=TRUE),max(x,na.rm=TRUE),length=40)\n",
    "    ffit<-stats::dnorm(yfit,mean=mean(x,na.rm=T),sd=stats::sd(x,na.rm=T))\n",
    "    ffit <- ffit*diff(h$mids[1:2])*length(x)\n",
    "    lines(yfit, ffit, col=\"blue\", lwd=2)\n",
    "  }\n",
    "\n",
    "  drawFakeGraph <- function(imgname=imgname) {\n",
    "    graphics::plot.window(xlim = c(0,0),ylim = c(0,0))\n",
    "  }\n",
    "\n",
    "  drawBars <- function(imgname=imgname, x=x) {\n",
    "    graphics::plot(x)\n",
    "  }\n",
    "\n",
    "  drawGraphOne <- function(imgname=imgname, numVar=x, vartype=1) {\n",
    "    if(vartype==1) {\n",
    "      drawHistogram(imgname,numVar)\n",
    "    } else if(vartype==2) {\n",
    "      drawBars(imgname,numVar)\n",
    "    } else {\n",
    "      drawFakeGraph(imgname)\n",
    "    }\n",
    "  }\n",
    "\n",
    "  getContinuousStats <- function(x) {\n",
    "    N <- length(x)\n",
    "    n <- length(x[which(is.na(x)==FALSE)])\n",
    "    pct <- formatC(n/N * 100)\n",
    "    nmiss <- length(x[which(is.na(x)==TRUE)])\n",
    "    npct <- formatC(nmiss/N *100)\n",
    "    ma <- mean(x, na.rm=TRUE)\n",
    "    s <- stats::sd(x, na.rm=TRUE)\n",
    "    me <- formatC(stats::median(x, na.rm=TRUE))\n",
    "    q1 <- formatC(stats::quantile(x,1/4, na.rm=TRUE))\n",
    "    q3 <- formatC(stats::quantile(x,3/4, na.rm=TRUE))\n",
    "    mn <- formatC(min(x, na.rm=TRUE))\n",
    "    mx <- formatC(max(x, na.rm=TRUE))\n",
    "    html <- paste(\"<div class='Cell' style='align: top;'> <u>Data type</u>: Continuous <p> <u>Data length</u>: \",n ,\"/\", N, \" (\", pct, \"%) <br> <u>Missing</u>: \",\n",
    "                  nmiss, \" (\", npct, \"%)<p> <u>Mean</u>: \", formatC(ma), \"\\t <u>StdDev</u>: \", formatC(s), \"<br><u>Median</u>: \",me,\n",
    "                  \"\\t <u>IQR</u>: \", q1, \"-\", q3, \"<br><u>Min</u>: \", mn, \"\\t <u>Max</u>: \", mx, \"</div>\")\n",
    "    return(html)\n",
    "  }\n",
    "\n",
    "  getCategortyStats <- function(x) {\n",
    "    N <- length(x)\n",
    "    n <- length(x[which(is.na(x)==FALSE)])\n",
    "    pct <- formatC(n/N * 100)\n",
    "    nmiss <- length(x[which(is.na(x)==TRUE)])\n",
    "    npct <- formatC(nmiss/N *100)\n",
    "    l <- levels(x)\n",
    "    s <- summary(x)\n",
    "    htm <- \"<ul>\"\n",
    "    if (length(l) < 5) {\n",
    "      for (lv in l) {\n",
    "        htm <- paste(htm, \"<li><u>\", lv, \"</u>: \", s[[lv]], \"</li>\")\n",
    "      }\n",
    "      htm <- paste(htm,\"</ul>\")\n",
    "    }\n",
    "    html <- paste(\"<div class='Cell'> <u>Data type</u>: Categorical Data <p> <u>Data length</u>: \",n, \"/\", N, \" (\", pct, \"%) <br> <u>Missing</u>: \",\n",
    "                  nmiss, \" (\", npct, \"%) <p> <u>Number of levels</u>: \", length(l), \"<br>\", htm, \"</div>\")\n",
    "    return(html)\n",
    "  }\n",
    "\n",
    "  getDatesStats <- function(x) {\n",
    "    N <- length(x)\n",
    "    n <- length(x[which(is.na(x)==FALSE)])\n",
    "    pct <- formatC(n/N * 100)\n",
    "    nmiss <- length(x[which(is.na(x)==TRUE)])\n",
    "    npct <- formatC(nmiss/N *100)\n",
    "    s <- summary(x)\n",
    "    html <- paste(\"<div class='Cell'> <u>Data type</u>: Date <p> <u>Data length</u>: \",n, \"/\", N, \" (\", pct, \"%) <br> <u>Missing</u>: \",\n",
    "                  nmiss, \" (\", npct, \"%) <p> <u>Min date</u>: \", min(x, na.rm=T), \"<br><u>Max date</u>:\",max(x, na.rm=T) , \"</div>\")\n",
    "    return(html)\n",
    "  }\n",
    "\n",
    "  getStats <- function(numVar=x, vartype=1) {\n",
    "    if(vartype==1) {\n",
    "      html <- getContinuousStats(numVar)\n",
    "    } else if(vartype==2) {\n",
    "      html <- getCategortyStats(numVar)\n",
    "    } else if (vartype==3) {\n",
    "      html <- getDatesStats(numVar)\n",
    "    } else {\n",
    "      html <- \"<div class='Cell'></div>\"\n",
    "    }\n",
    "    return(html)\n",
    "  }\n",
    "\n",
    "  getOutliers <- function(x) {\n",
    "    bp <- graphics::boxplot(x,plot=FALSE)\n",
    "    return(bp$out)\n",
    "  }\n",
    "\n",
    "  getOutlierGraph <- function(x) {\n",
    "    #  mod <- tryCatch({\n",
    "    outl <- getOutliers(x)\n",
    "    df <- data.frame(x=x, cl=1)\n",
    "    if(length(outl)>0) {\n",
    "      df$cl[which(df$x %in% outl)] <- 2\n",
    "    }\n",
    "    #pl <- stats::scatter.smooth(df$x,col=df$cl)\n",
    "    pl <- tryCatch({\n",
    "      stats::scatter.smooth(df$x,col=df$cl,xlab=\"index\")\n",
    "    }, warning = function(w) {\n",
    "      n <- \"warning!\"\n",
    "    }, error = function(e) {\n",
    "      n <- \"error!\"\n",
    "    }, finally = {\n",
    "      graphics::plot(df$x ~ row.names(df),col=df$cl,xlab=\"index\")\n",
    "    })\n",
    "    ma <- mean(x, na.rm=TRUE)\n",
    "    s <- stats::sd(x, na.rm=TRUE)\n",
    "    graphics::abline(h=ma-(2*s), col=\"red\", lty=2)\n",
    "    graphics::abline(h=ma+(2*s), col=\"red\", lty=2)\n",
    "    #  }, error = function(e) {\n",
    "    #    pl <- drawFakeGraph(\"none\")\n",
    "    #  })\n",
    "    return(pl)\n",
    "  }\n",
    "\n",
    "  getScatterGraph <- function(df=data,x,y,dtype=1) {\n",
    "    #  mod <- tryCatch({\n",
    "    if(dtype==1) {\n",
    "      pl <- ggplot2::ggplot(df) + ggplot2::geom_smooth(ggplot2::aes(x=data[[x]], y=data[[y]]), method=\"loess\") + ggplot2::xlab(x) + ggplot2::ylab(y)\n",
    "    } else {\n",
    "      pl <- ggplot2::ggplot(df) + ggplot2::geom_boxplot(ggplot2::aes(y=data[[x]], color=data[[y]])) + ggplot2::xlab(x) + ggplot2::ylab(y) + ggplot2::labs(color=y)\n",
    "    }\n",
    "    return(pl)\n",
    "  }\n",
    "\n",
    "  getOutliersHtml <- function(imgname=imgname, x=x, srcdir=srcdir) {\n",
    "    bp <- getOutliers(x)\n",
    "    if (length(unique(bp)) > 10) {\n",
    "      xtrm <- paste(\"There are \", length(unique(bp)), \" outlier values\")\n",
    "    } else if (length(unique(bp)) == 0) {\n",
    "      xtrm <- \"No outlier values found\"\n",
    "    } else {\n",
    "      xtrm <- paste(formatC(unique(bp)), collapse=', ' )\n",
    "    }\n",
    "    imgsrc = paste(paste0(srcdir,\"/fig/\"),imgname, \"_2.png\",sep=\"\")\n",
    "    html <- paste0(\"<div class='Cell'><img class='origimg' src='\",imgsrc,\"' height='150' width='250'><br> <u>Outlier values</u>: <br> \", xtrm, \"</div>\")\n",
    "    return(html)\n",
    "  }\n",
    "  ################## Prepare for the report ###################\n",
    "  #report <- paste(mydir,\"/report\",sep=\"\")\n",
    "\n",
    "  ################## Check for values for rn ##################\n",
    "  if(!is.null(rn)) {\n",
    "    if(length(rn)!=ncol(data)) {\n",
    "      message(\"the value of the 'rn' argument was avoided because it does not have the same number of columns of the dataframe\")\n",
    "      rn <- NULL\n",
    "    }\n",
    "    xname <- rn\n",
    "    names(xname) <- names(data)\n",
    "  } else {\n",
    "    xname <- NULL\n",
    "  }\n",
    "\n",
    "  report <- dir\n",
    "  if (!file.exists(report)) {\n",
    "    dir.create(report)\n",
    "  }\n",
    "  fig <- paste(report,\"/fig\",sep=\"\")\n",
    "  if (!file.exists(fig)) {\n",
    "    dir.create(fig)\n",
    "  }\n",
    "  if (get_computer_type()==\"pc\") {\n",
    "    srcdir <- paste0(getwd(),\"/\",report)\n",
    "  } else {\n",
    "    #srcdir <- paste0(\"file_show?path=\",getwd(),\"/\",report)\n",
    "    srcdir <- paste0(\"/view/\",getwd(),\"/report\")\n",
    "  }\n",
    "  # determine which columns are integer\n",
    "  int_col <- which(sapply(data, is.integer))\n",
    "  int_col <- c(int_col,(which(sapply(data, is.numeric))))\n",
    "  mi <- vector()\n",
    "  # find only those integers with less than 10 unique values and convert to factor\n",
    "  for (li in int_col) {\n",
    "    if (length(unique(data[,li])) < factorSize) {\n",
    "      mi <- c(mi,li)\n",
    "      if (is.factor(data[,li]) == FALSE) {\n",
    "        data[,li] <- factor(data[,li])\n",
    "      }\n",
    "    }\n",
    "  }\n",
    "\n",
    "  str_col <- which(sapply(data, is.character))\n",
    "  mi <- vector()\n",
    "  # find only those integers with less than 10 unique values and convert to factor\n",
    "  for (li in str_col) {\n",
    "    mi <- c(mi,li)\n",
    "    data[,li] <- factor(data[,li])\n",
    "  }\n",
    "\n",
    "  # create the html report page\n",
    "  myhtml <- paste(report,\"/report.html\",sep=\"\")\n",
    "  cat(\"<!DOCTYPE html>\n",
    "      <html>\n",
    "      <head>\n",
    "      <title>Data Visualization</title>\n",
    "      <meta http-equiv='Content-Type' content='text/html; charset=UTF-8' />\n",
    "      <link rel='stylesheet' href='http://code.jquery.com/mobile/1.4.5/jquery.mobile-1.4.5.min.css'>\n",
    "\n",
    "      <script src='http://code.jquery.com/jquery-1.10.2.js'></script>\n",
    "      <script>\n",
    "      $(document).ready(function(){\n",
    "      $('.onetoone').hide();\n",
    "      });\n",
    "\n",
    "      $(function() {\n",
    "      $('.origimg').click(function(e) {\n",
    "      $('#popup_img').attr('src',$(this).attr('src'));\n",
    "      $('#myContainer').hide();\n",
    "      var pos = $(document).scrollTop();\n",
    "      $('#myContainer').css({'top':pos+20,'left':250, 'position':'absolute', 'border':'1px solid black', 'padding':'0px'});\n",
    "      $('#myContainer').show();\n",
    "      });\n",
    "      $('#myContainer').click(function(e) {\n",
    "      $('#myContainer').hide();\n",
    "      });\n",
    "\n",
    "      $('#myform2').submit(function(e) {\n",
    "      e.preventDefault();\n",
    "      });\n",
    "\n",
    "      $('#onetoone').on('click',function() {\n",
    "      console.log('onetone button - 1');\n",
    "      $('#onetoone').hide();\n",
    "      $('#aslist').show();\n",
    "      // To show only individual rows:\n",
    "      $('.Row').hide();\n",
    "      $('.onetoone').show();\n",
    "      // then we iterate\n",
    "      var i = $('.Row').length;\n",
    "      // Then we iterate\n",
    "      var nxt = $('#idx').val();\n",
    "      if (nxt < i & nxt >0) {\n",
    "      $('.Row').hide();\n",
    "      $('.Row').eq(0).show();\n",
    "      $('.Row').eq(nxt).show();\n",
    "      } else {\n",
    "      $('#idx').val(1)\n",
    "      }\n",
    "      console.log('onetone button - 2');\n",
    "      });\n",
    "\n",
    "      $('#aslist').on('click',function() {\n",
    "      console.log('aslist button - 1');\n",
    "      $('#onetoone').show();\n",
    "      $('#aslist').hide();\n",
    "      $('.onetoone').hide();\n",
    "      $('.Row').show();\n",
    "      console.log('aslist button - 2');\n",
    "      });\n",
    "\n",
    "      $('#less').on('click',function(){\n",
    "      console.log('less button - 1');\n",
    "      var i = $('.Row').length;\n",
    "      var nxt = parseInt($('#idx').val(),10) - 1;\n",
    "      if (nxt < i & nxt >0) {\n",
    "      $('#idx').val(nxt)\n",
    "      $('.Row').hide();\n",
    "      $('.Row').eq(0).show();\n",
    "      $('.Row').eq(nxt).show();\n",
    "      } else {\n",
    "      $('#idx').val(1)\n",
    "      }\n",
    "      console.log('less button - 2');\n",
    "      });\n",
    "\n",
    "      $('#more').on('click',function(){\n",
    "      console.log('more button - 1');\n",
    "      var i = $('.Row').length;\n",
    "      var nxt = parseInt($('#idx').val(),10) + 1;\n",
    "      if (nxt < i & nxt >0) {\n",
    "      $('#idx').val(nxt)\n",
    "      $('.Row').hide();\n",
    "      $('.Row').eq(0).show();\n",
    "      $('.Row').eq(nxt).show();\n",
    "      } else {\n",
    "      $('#idx').val(i)\n",
    "      }\n",
    "      console.log('more button - 2');\n",
    "      });\n",
    "\n",
    "      $('#idx').on('change', function(){\n",
    "      console.log('idx changed - 1');\n",
    "      var i = $('.Row').length;\n",
    "      var nxt = $('#idx').val();\n",
    "      if (nxt < i & nxt >0) {\n",
    "      $('#idx').val(nxt)\n",
    "      $('.Row').hide();\n",
    "      $('.Row').eq(0).show();\n",
    "      $('.Row').eq(nxt).show();\n",
    "      } else {\n",
    "      $('#idx').val(i)\n",
    "      }\n",
    "      console.log('idx changed - 2');\n",
    "      });\n",
    "      });\n",
    "\n",
    "      </script>\n",
    "\n",
    "      <style type='text/css'>\n",
    "      .Table\n",
    "      {\n",
    "      display: table;\n",
    "      }\n",
    "      .Title\n",
    "      {\n",
    "      display: table-caption;\n",
    "      text-align: center;\n",
    "      font-weight: bold;\n",
    "      font-size: larger;\n",
    "      background-color:#4C6F50;\n",
    "      color: #fff;\n",
    "      }\n",
    "      .Row\n",
    "      {\n",
    "      display: table-row;\n",
    "      }\n",
    "      .Row:nth-child(even) {\n",
    "        background-color: #56882433;\n",
    "      }\n",
    "      .Cell\n",
    "      {\n",
    "      display: table-cell;\n",
    "      border: solid;\n",
    "      border-width: thin;\n",
    "      padding-left: 5px;\n",
    "      padding-right: 5px;\n",
    "      vertical-align: top;\n",
    "      font-family: Arial, Helvetica, sans-serif;\n",
    "      font-size: 14px;\n",
    "      }\n",
    "      </style>\n",
    "\n",
    "      </head>\n",
    "\n",
    "      <body>\n",
    "      <div id='pageone' data-role='main' class='ui-content'>\n",
    "      \", file = myhtml, sep='\\n',append=FALSE)\n",
    "\n",
    "  html <- paste(\"<p><p><h1> Data Visualization & Exploration </h1>\n",
    "                <form>\n",
    "                <input type='button' id='onetoone' value='Show as Cards'>\n",
    "                <input type='button' id='aslist' class='onetoone' value='Show as List'>\n",
    "                </form>\n",
    "                <p>\n",
    "                \")\n",
    "  cat(html, file = myhtml, sep='\\n', append=TRUE)\n",
    "  # begin table\n",
    "  alt1 <- ifelse(is.null(y)== TRUE, \"\", \"<div class='Cell Title'> Dependent <br> Variable <br> Distribution </div>\")\n",
    "  html <- paste(\"<p><p>\n",
    "                <div class='Table'>\n",
    "                <div class='Row'>\n",
    "                <div class='Cell Title'> Variable </div>\n",
    "                <div class='Cell Title'> Distribution </div>\n",
    "                <div class='Cell Title'> Descriptive <br> Statistics</div>\n",
    "                <div class='Cell Title'> Outliers </div>\"\n",
    "                , alt1,\n",
    "                \"</div>\")\n",
    "  cat(html, file = myhtml, sep='\\n', append=TRUE)\n",
    "\n",
    "  #### determinate the type of each variable...\n",
    "  data_types <- sapply(sapply(data, class), whatVarType)\n",
    "  ln <- length(data)\n",
    "  ii <- 0\n",
    "  pb <- utils::txtProgressBar(min=0,max=ln,style=3)\n",
    "  for(x in names(data)) {\n",
    "\n",
    "    ## check if the value has at least more than one unique value...\n",
    "    if(length(unique(data[[x]])) < 2) {\n",
    "      message(paste(\"The variable\",x,\"has less than two unique values, so will not be included\"))\n",
    "    } else {\n",
    "\n",
    "      if(debug==TRUE) {\n",
    "        print(x)\n",
    "      } else {\n",
    "        pb <- utils::txtProgressBar(min=0,max=ln,style=3)\n",
    "      }\n",
    "\n",
    "      html <- paste(\"<div class='Row'><div class='Cell'><b>\",x,\"</b><p>\",xname[x],\"</p></div>\")\n",
    "\n",
    "      cat(html, file = myhtml, sep='\\n', append=TRUE)\n",
    "      #### initialize the first graph\n",
    "      imgname = paste(fig,\"/\",x, \"_1.png\",sep=\"\")\n",
    "      imgsrc = paste(paste0(srcdir,\"/fig/\"),x, \"_1.png\",sep=\"\")\n",
    "      ### send the data with the type to generate the correct graph..\n",
    "      grDevices::png(imgname)\n",
    "      drawGraphOne(x, data[[x]], data_types[x])\n",
    "      grDevices::dev.off()\n",
    "      html <- paste0(\"<div class='Cell'><img class='origimg'  src='\",imgsrc,\"' height='150' width='150'><br></div>\")\n",
    "      cat(html, file = myhtml, sep='\\n', append=TRUE)\n",
    "\n",
    "      # second, show the statistics\n",
    "      html <- getStats(data[[x]],data_types[x])\n",
    "      cat(html, file = myhtml, sep='\\n', append=TRUE)\n",
    "\n",
    "      # third, determine the outliers\n",
    "      imgname = paste(fig,\"/\",x, \"_2.png\",sep=\"\")\n",
    "      if(data_types[x]==1) {\n",
    "        grDevices::png(imgname)\n",
    "        getOutlierGraph(data[[x]])\n",
    "        grDevices::dev.off()\n",
    "        html <- getOutliersHtml(x,data[[x]],srcdir)\n",
    "      } else {\n",
    "        html <- \"<div class='Cell'></div>\"\n",
    "      }\n",
    "      cat(html, file = myhtml, sep='\\n', append=TRUE)\n",
    "\n",
    "      # fourth, if y is assigned, make a corresponding plot\n",
    "      if(is.null(y)==FALSE) {\n",
    "        imgname = paste(fig,\"/\",x, \"_3.png\",sep=\"\")\n",
    "        imgsrc = paste(paste0(srcdir,\"/fig/\"),x, \"_3.png\",sep=\"\")\n",
    "        #print(imgname)\n",
    "        grDevices::png(imgname)\n",
    "        ### scatter.smooth(data[[x]] ~ data[[y]])\n",
    "        #suppressWarnings(getScatterGraph(data,x,y,data_types[y]))\n",
    "        plot(getScatterGraph(data,x,y,data_types[y]))\n",
    "        grDevices::dev.off()\n",
    "        html <- paste0(\"<div class='Cell'><img class='origimg' src='\",imgsrc,\"' height='150' width='150'><br></div>\")\n",
    "        cat(html, file = myhtml, sep='\\n', append=TRUE)\n",
    "      }\n",
    "      html <- paste(\"</div>\")\n",
    "      cat(html, file = myhtml, sep='\\n', append=TRUE)\n",
    "\n",
    "      if(debug==FALSE) {\n",
    "        utils::setTxtProgressBar(pb,ii)\n",
    "        ii <- ii + 1\n",
    "      }\n",
    "    }\n",
    "  }\n",
    "  html <- paste(\"</div>\")\n",
    "  cat(html, file = myhtml, sep='\\n', append=TRUE)\n",
    "  # end table\n",
    "  html <- paste(\"</div>\n",
    "                <div data-role='popup' id='myContainer' style='display: none;'>\n",
    "                <img id='popup_img' src='' />\n",
    "                </div>\n",
    "                </div>\n",
    "                </div>\n",
    "                </div>\n",
    "                <p>\n",
    "                <div class='onetoone'>\n",
    "                <form id='myform2'>\n",
    "                <span> <input type='button' id='less' value=' << '> </span>\n",
    "                <span> <input id='idx' name='idx' value='1'></input></span>\n",
    "                <span> <input type='button' id='more' value=' >> '> </span>\n",
    "                </form>\n",
    "                </div>\n",
    "                <p>\n",
    "                </body></html>\n",
    "                \")\n",
    "  cat(html, file = myhtml, sep='\\n', append=TRUE)\n",
    "  if(.Platform$OS.type == \"unix\") {\n",
    "    system(paste(\"start /b \", myhtml))\n",
    "  } else {\n",
    "    shell(paste(\"explorer \", gsub(\"/\", \"\\\\\\\\\", myhtml) ), intern=TRUE)\n",
    "  }\n",
    "}\n",
    "\n",
    "###################### END exploreData ###############"
   ]
  },
  {
   "cell_type": "code",
   "execution_count": null,
   "metadata": {},
   "outputs": [],
   "source": [
    "exploreData(data=df, y=y)\n",
    "\n",
    "# בהרצאה שנקראת :\n",
    "#Time series \n",
    "# בשעה 21:00\n",
    "# תומס מסביר איך להשתמש בלינק לדוח למטה. לא ממש הבנתי"
   ]
  },
  {
   "cell_type": "markdown",
   "metadata": {},
   "source": [
    "##### Calling \n",
    "the report.html from the exploreData function into the notebook...\n",
    " \n",
    "<a href=\"report/report.html\" target='_blank'> Report</a>\n",
    "\n",
    "\n",
    "#### 2.3 - Correlation matrix\n",
    " \n",
    "Create a correlation matrix and present it as a graph...\n",
    "There are many ways to do this:\n",
    " \n",
    "- Creating the correlations manually with a loop\n",
    "- Calling packages that make this automatically\n",
    " \n",
    " "
   ]
  },
  {
   "cell_type": "code",
   "execution_count": 73,
   "metadata": {},
   "outputs": [
    {
     "data": {
      "text/html": [
       "<table>\n",
       "<caption>A matrix: 11 × 11 of type dbl</caption>\n",
       "<thead>\n",
       "\t<tr><th></th><th scope=col>mpg</th><th scope=col>cyl</th><th scope=col>disp</th><th scope=col>hp</th><th scope=col>drat</th><th scope=col>wt</th><th scope=col>qsec</th><th scope=col>vs</th><th scope=col>am</th><th scope=col>gear</th><th scope=col>carb</th></tr>\n",
       "</thead>\n",
       "<tbody>\n",
       "\t<tr><th scope=row>mpg</th><td> 1.0000000</td><td>-0.9108013</td><td>-0.9088824</td><td>-0.8946646</td><td> 0.6489245</td><td>-0.8864220</td><td> 0.53485836</td><td> 0.7065968</td><td> 0.56200569</td><td> 0.54278158</td><td>-0.65749764</td></tr>\n",
       "\t<tr><th scope=row>cyl</th><td>-0.9108013</td><td> 1.0000000</td><td> 0.9276516</td><td> 0.9017909</td><td>-0.6805480</td><td> 0.8577282</td><td>-0.60483288</td><td>-0.8137890</td><td>-0.52207118</td><td>-0.56431047</td><td> 0.58006798</td></tr>\n",
       "\t<tr><th scope=row>disp</th><td>-0.9088824</td><td> 0.9276516</td><td> 1.0000000</td><td> 0.8510426</td><td>-0.6804365</td><td> 0.8977064</td><td>-0.52904127</td><td>-0.7236643</td><td>-0.62406767</td><td>-0.59447030</td><td> 0.53977806</td></tr>\n",
       "\t<tr><th scope=row>hp</th><td>-0.8946646</td><td> 0.9017909</td><td> 0.8510426</td><td> 1.0000000</td><td>-0.5107136</td><td> 0.7746767</td><td>-0.65647779</td><td>-0.7515934</td><td>-0.36232756</td><td>-0.33140155</td><td> 0.73337937</td></tr>\n",
       "\t<tr><th scope=row>drat</th><td> 0.6489245</td><td>-0.6805480</td><td>-0.6804365</td><td>-0.5107136</td><td> 1.0000000</td><td>-0.7523735</td><td> 0.17581434</td><td> 0.4680542</td><td> 0.68950975</td><td> 0.74683692</td><td>-0.14817552</td></tr>\n",
       "\t<tr><th scope=row>wt</th><td>-0.8864220</td><td> 0.8577282</td><td> 0.8977064</td><td> 0.7746767</td><td>-0.7523735</td><td> 1.0000000</td><td>-0.27526709</td><td>-0.5870162</td><td>-0.73771259</td><td>-0.67612839</td><td> 0.49981205</td></tr>\n",
       "\t<tr><th scope=row>qsec</th><td> 0.5348584</td><td>-0.6048329</td><td>-0.5290413</td><td>-0.6564778</td><td> 0.1758143</td><td>-0.2752671</td><td> 1.00000000</td><td> 0.7773880</td><td>-0.17202912</td><td>-0.06191342</td><td>-0.59517520</td></tr>\n",
       "\t<tr><th scope=row>vs</th><td> 0.7065968</td><td>-0.8137890</td><td>-0.7236643</td><td>-0.7515934</td><td> 0.4680542</td><td>-0.5870162</td><td> 0.77738797</td><td> 1.0000000</td><td> 0.16834512</td><td> 0.28266170</td><td>-0.63369482</td></tr>\n",
       "\t<tr><th scope=row>am</th><td> 0.5620057</td><td>-0.5220712</td><td>-0.6240677</td><td>-0.3623276</td><td> 0.6895098</td><td>-0.7377126</td><td>-0.17202912</td><td> 0.1683451</td><td> 1.00000000</td><td> 0.80768800</td><td>-0.06436525</td></tr>\n",
       "\t<tr><th scope=row>gear</th><td> 0.5427816</td><td>-0.5643105</td><td>-0.5944703</td><td>-0.3314016</td><td> 0.7468369</td><td>-0.6761284</td><td>-0.06191342</td><td> 0.2826617</td><td> 0.80768800</td><td> 1.00000000</td><td> 0.11488698</td></tr>\n",
       "\t<tr><th scope=row>carb</th><td>-0.6574976</td><td> 0.5800680</td><td> 0.5397781</td><td> 0.7333794</td><td>-0.1481755</td><td> 0.4998120</td><td>-0.59517520</td><td>-0.6336948</td><td>-0.06436525</td><td> 0.11488698</td><td> 1.00000000</td></tr>\n",
       "</tbody>\n",
       "</table>\n"
      ],
      "text/latex": [
       "A matrix: 11 × 11 of type dbl\n",
       "\\begin{tabular}{r|lllllllllll}\n",
       "  & mpg & cyl & disp & hp & drat & wt & qsec & vs & am & gear & carb\\\\\n",
       "\\hline\n",
       "\tmpg &  1.0000000 & -0.9108013 & -0.9088824 & -0.8946646 &  0.6489245 & -0.8864220 &  0.53485836 &  0.7065968 &  0.56200569 &  0.54278158 & -0.65749764\\\\\n",
       "\tcyl & -0.9108013 &  1.0000000 &  0.9276516 &  0.9017909 & -0.6805480 &  0.8577282 & -0.60483288 & -0.8137890 & -0.52207118 & -0.56431047 &  0.58006798\\\\\n",
       "\tdisp & -0.9088824 &  0.9276516 &  1.0000000 &  0.8510426 & -0.6804365 &  0.8977064 & -0.52904127 & -0.7236643 & -0.62406767 & -0.59447030 &  0.53977806\\\\\n",
       "\thp & -0.8946646 &  0.9017909 &  0.8510426 &  1.0000000 & -0.5107136 &  0.7746767 & -0.65647779 & -0.7515934 & -0.36232756 & -0.33140155 &  0.73337937\\\\\n",
       "\tdrat &  0.6489245 & -0.6805480 & -0.6804365 & -0.5107136 &  1.0000000 & -0.7523735 &  0.17581434 &  0.4680542 &  0.68950975 &  0.74683692 & -0.14817552\\\\\n",
       "\twt & -0.8864220 &  0.8577282 &  0.8977064 &  0.7746767 & -0.7523735 &  1.0000000 & -0.27526709 & -0.5870162 & -0.73771259 & -0.67612839 &  0.49981205\\\\\n",
       "\tqsec &  0.5348584 & -0.6048329 & -0.5290413 & -0.6564778 &  0.1758143 & -0.2752671 &  1.00000000 &  0.7773880 & -0.17202912 & -0.06191342 & -0.59517520\\\\\n",
       "\tvs &  0.7065968 & -0.8137890 & -0.7236643 & -0.7515934 &  0.4680542 & -0.5870162 &  0.77738797 &  1.0000000 &  0.16834512 &  0.28266170 & -0.63369482\\\\\n",
       "\tam &  0.5620057 & -0.5220712 & -0.6240677 & -0.3623276 &  0.6895098 & -0.7377126 & -0.17202912 &  0.1683451 &  1.00000000 &  0.80768800 & -0.06436525\\\\\n",
       "\tgear &  0.5427816 & -0.5643105 & -0.5944703 & -0.3314016 &  0.7468369 & -0.6761284 & -0.06191342 &  0.2826617 &  0.80768800 &  1.00000000 &  0.11488698\\\\\n",
       "\tcarb & -0.6574976 &  0.5800680 &  0.5397781 &  0.7333794 & -0.1481755 &  0.4998120 & -0.59517520 & -0.6336948 & -0.06436525 &  0.11488698 &  1.00000000\\\\\n",
       "\\end{tabular}\n"
      ],
      "text/markdown": [
       "\n",
       "A matrix: 11 × 11 of type dbl\n",
       "\n",
       "| <!--/--> | mpg | cyl | disp | hp | drat | wt | qsec | vs | am | gear | carb |\n",
       "|---|---|---|---|---|---|---|---|---|---|---|---|\n",
       "| mpg |  1.0000000 | -0.9108013 | -0.9088824 | -0.8946646 |  0.6489245 | -0.8864220 |  0.53485836 |  0.7065968 |  0.56200569 |  0.54278158 | -0.65749764 |\n",
       "| cyl | -0.9108013 |  1.0000000 |  0.9276516 |  0.9017909 | -0.6805480 |  0.8577282 | -0.60483288 | -0.8137890 | -0.52207118 | -0.56431047 |  0.58006798 |\n",
       "| disp | -0.9088824 |  0.9276516 |  1.0000000 |  0.8510426 | -0.6804365 |  0.8977064 | -0.52904127 | -0.7236643 | -0.62406767 | -0.59447030 |  0.53977806 |\n",
       "| hp | -0.8946646 |  0.9017909 |  0.8510426 |  1.0000000 | -0.5107136 |  0.7746767 | -0.65647779 | -0.7515934 | -0.36232756 | -0.33140155 |  0.73337937 |\n",
       "| drat |  0.6489245 | -0.6805480 | -0.6804365 | -0.5107136 |  1.0000000 | -0.7523735 |  0.17581434 |  0.4680542 |  0.68950975 |  0.74683692 | -0.14817552 |\n",
       "| wt | -0.8864220 |  0.8577282 |  0.8977064 |  0.7746767 | -0.7523735 |  1.0000000 | -0.27526709 | -0.5870162 | -0.73771259 | -0.67612839 |  0.49981205 |\n",
       "| qsec |  0.5348584 | -0.6048329 | -0.5290413 | -0.6564778 |  0.1758143 | -0.2752671 |  1.00000000 |  0.7773880 | -0.17202912 | -0.06191342 | -0.59517520 |\n",
       "| vs |  0.7065968 | -0.8137890 | -0.7236643 | -0.7515934 |  0.4680542 | -0.5870162 |  0.77738797 |  1.0000000 |  0.16834512 |  0.28266170 | -0.63369482 |\n",
       "| am |  0.5620057 | -0.5220712 | -0.6240677 | -0.3623276 |  0.6895098 | -0.7377126 | -0.17202912 |  0.1683451 |  1.00000000 |  0.80768800 | -0.06436525 |\n",
       "| gear |  0.5427816 | -0.5643105 | -0.5944703 | -0.3314016 |  0.7468369 | -0.6761284 | -0.06191342 |  0.2826617 |  0.80768800 |  1.00000000 |  0.11488698 |\n",
       "| carb | -0.6574976 |  0.5800680 |  0.5397781 |  0.7333794 | -0.1481755 |  0.4998120 | -0.59517520 | -0.6336948 | -0.06436525 |  0.11488698 |  1.00000000 |\n",
       "\n"
      ],
      "text/plain": [
       "     mpg        cyl        disp       hp         drat       wt        \n",
       "mpg   1.0000000 -0.9108013 -0.9088824 -0.8946646  0.6489245 -0.8864220\n",
       "cyl  -0.9108013  1.0000000  0.9276516  0.9017909 -0.6805480  0.8577282\n",
       "disp -0.9088824  0.9276516  1.0000000  0.8510426 -0.6804365  0.8977064\n",
       "hp   -0.8946646  0.9017909  0.8510426  1.0000000 -0.5107136  0.7746767\n",
       "drat  0.6489245 -0.6805480 -0.6804365 -0.5107136  1.0000000 -0.7523735\n",
       "wt   -0.8864220  0.8577282  0.8977064  0.7746767 -0.7523735  1.0000000\n",
       "qsec  0.5348584 -0.6048329 -0.5290413 -0.6564778  0.1758143 -0.2752671\n",
       "vs    0.7065968 -0.8137890 -0.7236643 -0.7515934  0.4680542 -0.5870162\n",
       "am    0.5620057 -0.5220712 -0.6240677 -0.3623276  0.6895098 -0.7377126\n",
       "gear  0.5427816 -0.5643105 -0.5944703 -0.3314016  0.7468369 -0.6761284\n",
       "carb -0.6574976  0.5800680  0.5397781  0.7333794 -0.1481755  0.4998120\n",
       "     qsec        vs         am          gear        carb       \n",
       "mpg   0.53485836  0.7065968  0.56200569  0.54278158 -0.65749764\n",
       "cyl  -0.60483288 -0.8137890 -0.52207118 -0.56431047  0.58006798\n",
       "disp -0.52904127 -0.7236643 -0.62406767 -0.59447030  0.53977806\n",
       "hp   -0.65647779 -0.7515934 -0.36232756 -0.33140155  0.73337937\n",
       "drat  0.17581434  0.4680542  0.68950975  0.74683692 -0.14817552\n",
       "wt   -0.27526709 -0.5870162 -0.73771259 -0.67612839  0.49981205\n",
       "qsec  1.00000000  0.7773880 -0.17202912 -0.06191342 -0.59517520\n",
       "vs    0.77738797  1.0000000  0.16834512  0.28266170 -0.63369482\n",
       "am   -0.17202912  0.1683451  1.00000000  0.80768800 -0.06436525\n",
       "gear -0.06191342  0.2826617  0.80768800  1.00000000  0.11488698\n",
       "carb -0.59517520 -0.6336948 -0.06436525  0.11488698  1.00000000"
      ]
     },
     "metadata": {},
     "output_type": "display_data"
    }
   ],
   "source": [
    "# קוד של תומס שיטצר מטריצת קורולציות באופן ידני \n",
    "res <- NULL\n",
    "nm <- names(df)\n",
    "for(i in nm) {\n",
    "    rw <- NULL\n",
    "    for(j in nm) {\n",
    "        rw <- cbind(rw,cor.test(x=df[[i]],y=df[[j]],method=\"spearman\")$estimate)\n",
    "    }\n",
    "    res <- rbind(res,rw)\n",
    "}\n",
    "row.names(res) <- nm\n",
    "colnames(res) <- nm\n",
    "res"
   ]
  },
  {
   "cell_type": "code",
   "execution_count": 74,
   "metadata": {},
   "outputs": [
    {
     "name": "stderr",
     "output_type": "stream",
     "text": [
      "Loading required package: RColorBrewer\n",
      "\n"
     ]
    }
   ],
   "source": [
    "if (!require(\"RColorBrewer\")) install.packages(\"RColorBrewer\")"
   ]
  },
  {
   "cell_type": "code",
   "execution_count": 75,
   "metadata": {},
   "outputs": [
    {
     "data": {
      "image/png": "[encoded data removed]",
      "text/plain": [
       "plot without title"
      ]
     },
     "metadata": {
      "image/png": {
       "height": 240,
       "width": 240
      }
     },
     "output_type": "display_data"
    }
   ],
   "source": [
    "# הצגה גרפית של הקורולציות\n",
    "\n",
    "heatmap(res,symm = T,cexCol = 0.8, cexRow = 0.8, col=brewer.pal(n=8, name=\"RdYlBu\"))"
   ]
  },
  {
   "cell_type": "code",
   "execution_count": 76,
   "metadata": {},
   "outputs": [
    {
     "name": "stderr",
     "output_type": "stream",
     "text": [
      "Loading required package: corrplot\n",
      "\n",
      "Installing package into 'C:/Users/User/Documents/R/win-library/3.6'\n",
      "(as 'lib' is unspecified)\n",
      "\n"
     ]
    },
    {
     "name": "stdout",
     "output_type": "stream",
     "text": [
      "package 'corrplot' successfully unpacked and MD5 sums checked\n",
      "\n",
      "The downloaded binary packages are in\n",
      "\tC:\\Users\\User\\AppData\\Local\\Temp\\RtmpE3UsRE\\downloaded_packages\n"
     ]
    }
   ],
   "source": [
    "if (!require(\"corrplot\")) install.packages(\"corrplot\")\n",
    "if (!require(\"RColorBrewer\")) install.packages(\"RColorBrewer\")"
   ]
  },
  {
   "cell_type": "code",
   "execution_count": 77,
   "metadata": {},
   "outputs": [
    {
     "ename": "ERROR",
     "evalue": "Error in corrplot(res, type = \"upper\", order = \"hclust\", col = brewer.pal(n = 8, : could not find function \"corrplot\"\n",
     "output_type": "error",
     "traceback": [
      "Error in corrplot(res, type = \"upper\", order = \"hclust\", col = brewer.pal(n = 8, : could not find function \"corrplot\"\nTraceback:\n"
     ]
    }
   ],
   "source": [
    "#  הצגה גרפית אחרת \n",
    "# השתמשנו פה במטריצת קורולציות שחישבנו קודם עם הקוד של תומס\n",
    "\n",
    "corrplot(res, type=\"upper\", order=\"hclust\", col=brewer.pal(n=8, name=\"RdYlBu\"))"
   ]
  },
  {
   "cell_type": "markdown",
   "metadata": {},
   "source": [
    "#### 2.4 - Describe the outcome variable\n",
    "\n",
    "- Histogram\n",
    "- Histogram by categories\n"
   ]
  },
  {
   "cell_type": "code",
   "execution_count": null,
   "metadata": {},
   "outputs": [],
   "source": [
    "# הסטוגרמה של המשתנה המוסבר Y\n",
    "ggplot(data=df) + geom_density(aes(df[[y]]))"
   ]
  },
  {
   "cell_type": "code",
   "execution_count": null,
   "metadata": {},
   "outputs": [],
   "source": [
    "# בדיקת Y \n",
    "# מול משתנה קטגורי בשם am\n",
    "# 0 ,1 עם ובלי\n",
    "\n",
    "ggplot(data=df) + geom_density(aes(df[[y]], group=factor(df[[\"am\"]]), color=factor(df[[\"am\"]])))"
   ]
  },
  {
   "cell_type": "markdown",
   "metadata": {},
   "source": [
    "#### 2.5 - Graphs to catch outliers\n"
   ]
  },
  {
   "cell_type": "code",
   "execution_count": null,
   "metadata": {},
   "outputs": [],
   "source": [
    "options(repr.plot.width = 4, repr.plot.height = 4)\n",
    "x <- 1:nrow(df)\n",
    "for(i in names(df)) {\n",
    "    plot(df[[i]] ~ x, main=i)       # main  כותרת הגרף\n",
    "}                                   # הקוד לא לחלוטין ברור לי, מה על הצירים?\n",
    "                                    # mpg  זה ה Y "
   ]
  },
  {
   "cell_type": "markdown",
   "metadata": {},
   "source": [
    "#### 2.6 -  Describe the missing values"
   ]
  },
  {
   "cell_type": "code",
   "execution_count": null,
   "metadata": {},
   "outputs": [],
   "source": [
    "if (!require(\"dplyr\")) install.packages(\"dplyr\")"
   ]
  },
  {
   "cell_type": "code",
   "execution_count": 78,
   "metadata": {},
   "outputs": [],
   "source": [
    "getMissingness <- function(data, getRows=FALSE) {\n",
    "  desc <- na_count <- na_cnt <- rn <- pred <- dc <- NULL\n",
    "  l <- nrow(data)\n",
    "  vn <- names(data)\n",
    "  ### copy the dataset and replace the NAs by 1 else 0\n",
    "  nadf <- data\n",
    "  cnt <- NULL\n",
    "  miss <- function(x) return(sum(is.na(x) ))\n",
    "  for(n in vn) {\n",
    "    nadf[[n]] <- ifelse(is.na(nadf[[n]])==T,1,0)\n",
    "    cnt <- rbind(cnt, data.frame(n,sum(nadf[[n]])))\n",
    "  }\n",
    "  names(cnt) <- c(\"var\",\"na_count\")\n",
    "  cnt$rate <- round((cnt$na_count / nrow(nadf))*100,1)\n",
    "  ### now sum by column\n",
    "  nadf$na_cnt <- 0\n",
    "  nadf$na_cnt <- rowSums(nadf)\n",
    "  ### order descending the count of mossings and leave only those with missings\n",
    "  cnt <- cnt %>%\n",
    "    dplyr::arrange(desc(na_count)) %>%\n",
    "    dplyr::filter(na_count>0)\n",
    "  totmiss <- nadf %>% dplyr::filter(na_cnt==0) %>% dplyr::summarise(n=n())\n",
    "  idx <- NULL\n",
    "  msg <- (paste(\"This dataset has \", as.character(totmiss), \" (\",as.character(round(totmiss/nrow(data)*100,1)),\"%)\" ,\" complete rows. Original data has \",nrow(data),\" rows.\",sep=\"\"))\n",
    "  ### check id needs to return the row indexes\n",
    "  if(getRows==TRUE & totmiss != 0) {\n",
    "    nadf$rn <- seq_len(nrow(data))\n",
    "    idx <- nadf %>% dplyr::filter(na_cnt==0) %>% dplyr::select(rn)\n",
    "  }\n",
    "  print(list(head(cnt,n=10), msg))\n",
    "  return(list(missingness=cnt, message=msg, rows=idx$rn))\n",
    "}"
   ]
  },
  {
   "cell_type": "code",
   "execution_count": 79,
   "metadata": {},
   "outputs": [],
   "source": [
    "# במקרה אין פה בדטה חסרים אז ניצור חסרים לצורך הדוגמא\n",
    "\n",
    "# create some missing values...\n",
    "df[2,5] <- NA\n",
    "df[6,7] <- NA\n",
    "df[15,7] <- NA\n",
    "df[26,7] <- NA\n",
    "df[30,7] <- NA"
   ]
  },
  {
   "cell_type": "code",
   "execution_count": 80,
   "metadata": {},
   "outputs": [
    {
     "name": "stdout",
     "output_type": "stream",
     "text": [
      "[[1]]\n",
      "   var na_count rate\n",
      "1 qsec        4 12.5\n",
      "2 drat        1  3.1\n",
      "\n",
      "[[2]]\n",
      "[1] \"This dataset has 27 (84.4%) complete rows. Original data has 32 rows.\"\n",
      "\n"
     ]
    },
    {
     "data": {
      "text/html": [
       "<dl>\n",
       "\t<dt>$missingness</dt>\n",
       "\t\t<dd><table>\n",
       "<caption>A data.frame: 2 × 3</caption>\n",
       "<thead>\n",
       "\t<tr><th scope=col>var</th><th scope=col>na_count</th><th scope=col>rate</th></tr>\n",
       "\t<tr><th scope=col>&lt;fct&gt;</th><th scope=col>&lt;dbl&gt;</th><th scope=col>&lt;dbl&gt;</th></tr>\n",
       "</thead>\n",
       "<tbody>\n",
       "\t<tr><td>qsec</td><td>4</td><td>12.5</td></tr>\n",
       "\t<tr><td>drat</td><td>1</td><td> 3.1</td></tr>\n",
       "</tbody>\n",
       "</table>\n",
       "</dd>\n",
       "\t<dt>$message</dt>\n",
       "\t\t<dd>'This dataset has 27 (84.4%) complete rows. Original data has 32 rows.'</dd>\n",
       "\t<dt>$rows</dt>\n",
       "\t\t<dd>NULL</dd>\n",
       "</dl>\n"
      ],
      "text/latex": [
       "\\begin{description}\n",
       "\\item[\\$missingness] A data.frame: 2 × 3\n",
       "\\begin{tabular}{lll}\n",
       " var & na\\_count & rate\\\\\n",
       " <fct> & <dbl> & <dbl>\\\\\n",
       "\\hline\n",
       "\t qsec & 4 & 12.5\\\\\n",
       "\t drat & 1 &  3.1\\\\\n",
       "\\end{tabular}\n",
       "\n",
       "\\item[\\$message] 'This dataset has 27 (84.4\\%) complete rows. Original data has 32 rows.'\n",
       "\\item[\\$rows] NULL\n",
       "\\end{description}\n"
      ],
      "text/markdown": [
       "$missingness\n",
       ":   \n",
       "A data.frame: 2 × 3\n",
       "\n",
       "| var &lt;fct&gt; | na_count &lt;dbl&gt; | rate &lt;dbl&gt; |\n",
       "|---|---|---|\n",
       "| qsec | 4 | 12.5 |\n",
       "| drat | 1 |  3.1 |\n",
       "\n",
       "\n",
       "$message\n",
       ":   'This dataset has 27 (84.4%) complete rows. Original data has 32 rows.'\n",
       "$rows\n",
       ":   NULL\n",
       "\n",
       "\n"
      ],
      "text/plain": [
       "$missingness\n",
       "   var na_count rate\n",
       "1 qsec        4 12.5\n",
       "2 drat        1  3.1\n",
       "\n",
       "$message\n",
       "[1] \"This dataset has 27 (84.4%) complete rows. Original data has 32 rows.\"\n",
       "\n",
       "$rows\n",
       "NULL\n"
      ]
     },
     "metadata": {},
     "output_type": "display_data"
    }
   ],
   "source": [
    "getMissingness(df)   # זה חשוב כי אם נריץ רגרסיה, היא תתאלם מכל השורות שיש בא חסרים"
   ]
  },
  {
   "cell_type": "markdown",
   "metadata": {},
   "source": [
    "#### 2.7 - Missing matrix"
   ]
  },
  {
   "cell_type": "code",
   "execution_count": 81,
   "metadata": {},
   "outputs": [],
   "source": [
    "df.na <- df\n",
    "for(i in names(df)) {\n",
    "    df.na[,i] <- ifelse(is.na(df.na[,i])==T,1,0)\n",
    "}"
   ]
  },
  {
   "cell_type": "code",
   "execution_count": 82,
   "metadata": {},
   "outputs": [
    {
     "data": {
      "text/html": [
       "<table>\n",
       "<caption>A data.frame: 6 × 11</caption>\n",
       "<thead>\n",
       "\t<tr><th></th><th scope=col>mpg</th><th scope=col>cyl</th><th scope=col>disp</th><th scope=col>hp</th><th scope=col>drat</th><th scope=col>wt</th><th scope=col>qsec</th><th scope=col>vs</th><th scope=col>am</th><th scope=col>gear</th><th scope=col>carb</th></tr>\n",
       "\t<tr><th></th><th scope=col>&lt;dbl&gt;</th><th scope=col>&lt;dbl&gt;</th><th scope=col>&lt;dbl&gt;</th><th scope=col>&lt;dbl&gt;</th><th scope=col>&lt;dbl&gt;</th><th scope=col>&lt;dbl&gt;</th><th scope=col>&lt;dbl&gt;</th><th scope=col>&lt;dbl&gt;</th><th scope=col>&lt;dbl&gt;</th><th scope=col>&lt;dbl&gt;</th><th scope=col>&lt;dbl&gt;</th></tr>\n",
       "</thead>\n",
       "<tbody>\n",
       "\t<tr><th scope=row>Mazda RX4</th><td>0</td><td>0</td><td>0</td><td>0</td><td>0</td><td>0</td><td>0</td><td>0</td><td>0</td><td>0</td><td>0</td></tr>\n",
       "\t<tr><th scope=row>Mazda RX4 Wag</th><td>0</td><td>0</td><td>0</td><td>0</td><td>1</td><td>0</td><td>0</td><td>0</td><td>0</td><td>0</td><td>0</td></tr>\n",
       "\t<tr><th scope=row>Datsun 710</th><td>0</td><td>0</td><td>0</td><td>0</td><td>0</td><td>0</td><td>0</td><td>0</td><td>0</td><td>0</td><td>0</td></tr>\n",
       "\t<tr><th scope=row>Hornet 4 Drive</th><td>0</td><td>0</td><td>0</td><td>0</td><td>0</td><td>0</td><td>0</td><td>0</td><td>0</td><td>0</td><td>0</td></tr>\n",
       "\t<tr><th scope=row>Hornet Sportabout</th><td>0</td><td>0</td><td>0</td><td>0</td><td>0</td><td>0</td><td>0</td><td>0</td><td>0</td><td>0</td><td>0</td></tr>\n",
       "\t<tr><th scope=row>Valiant</th><td>0</td><td>0</td><td>0</td><td>0</td><td>0</td><td>0</td><td>1</td><td>0</td><td>0</td><td>0</td><td>0</td></tr>\n",
       "</tbody>\n",
       "</table>\n"
      ],
      "text/latex": [
       "A data.frame: 6 × 11\n",
       "\\begin{tabular}{r|lllllllllll}\n",
       "  & mpg & cyl & disp & hp & drat & wt & qsec & vs & am & gear & carb\\\\\n",
       "  & <dbl> & <dbl> & <dbl> & <dbl> & <dbl> & <dbl> & <dbl> & <dbl> & <dbl> & <dbl> & <dbl>\\\\\n",
       "\\hline\n",
       "\tMazda RX4 & 0 & 0 & 0 & 0 & 0 & 0 & 0 & 0 & 0 & 0 & 0\\\\\n",
       "\tMazda RX4 Wag & 0 & 0 & 0 & 0 & 1 & 0 & 0 & 0 & 0 & 0 & 0\\\\\n",
       "\tDatsun 710 & 0 & 0 & 0 & 0 & 0 & 0 & 0 & 0 & 0 & 0 & 0\\\\\n",
       "\tHornet 4 Drive & 0 & 0 & 0 & 0 & 0 & 0 & 0 & 0 & 0 & 0 & 0\\\\\n",
       "\tHornet Sportabout & 0 & 0 & 0 & 0 & 0 & 0 & 0 & 0 & 0 & 0 & 0\\\\\n",
       "\tValiant & 0 & 0 & 0 & 0 & 0 & 0 & 1 & 0 & 0 & 0 & 0\\\\\n",
       "\\end{tabular}\n"
      ],
      "text/markdown": [
       "\n",
       "A data.frame: 6 × 11\n",
       "\n",
       "| <!--/--> | mpg &lt;dbl&gt; | cyl &lt;dbl&gt; | disp &lt;dbl&gt; | hp &lt;dbl&gt; | drat &lt;dbl&gt; | wt &lt;dbl&gt; | qsec &lt;dbl&gt; | vs &lt;dbl&gt; | am &lt;dbl&gt; | gear &lt;dbl&gt; | carb &lt;dbl&gt; |\n",
       "|---|---|---|---|---|---|---|---|---|---|---|---|\n",
       "| Mazda RX4 | 0 | 0 | 0 | 0 | 0 | 0 | 0 | 0 | 0 | 0 | 0 |\n",
       "| Mazda RX4 Wag | 0 | 0 | 0 | 0 | 1 | 0 | 0 | 0 | 0 | 0 | 0 |\n",
       "| Datsun 710 | 0 | 0 | 0 | 0 | 0 | 0 | 0 | 0 | 0 | 0 | 0 |\n",
       "| Hornet 4 Drive | 0 | 0 | 0 | 0 | 0 | 0 | 0 | 0 | 0 | 0 | 0 |\n",
       "| Hornet Sportabout | 0 | 0 | 0 | 0 | 0 | 0 | 0 | 0 | 0 | 0 | 0 |\n",
       "| Valiant | 0 | 0 | 0 | 0 | 0 | 0 | 1 | 0 | 0 | 0 | 0 |\n",
       "\n"
      ],
      "text/plain": [
       "                  mpg cyl disp hp drat wt qsec vs am gear carb\n",
       "Mazda RX4         0   0   0    0  0    0  0    0  0  0    0   \n",
       "Mazda RX4 Wag     0   0   0    0  1    0  0    0  0  0    0   \n",
       "Datsun 710        0   0   0    0  0    0  0    0  0  0    0   \n",
       "Hornet 4 Drive    0   0   0    0  0    0  0    0  0  0    0   \n",
       "Hornet Sportabout 0   0   0    0  0    0  0    0  0  0    0   \n",
       "Valiant           0   0   0    0  0    0  1    0  0  0    0   "
      ]
     },
     "metadata": {},
     "output_type": "display_data"
    }
   ],
   "source": [
    "head(df.na)"
   ]
  },
  {
   "cell_type": "code",
   "execution_count": 83,
   "metadata": {},
   "outputs": [
    {
     "data": {
      "text/html": [
       "<table>\n",
       "<caption>A data.frame: 32 × 11</caption>\n",
       "<thead>\n",
       "\t<tr><th></th><th scope=col>mpg</th><th scope=col>cyl</th><th scope=col>disp</th><th scope=col>hp</th><th scope=col>drat</th><th scope=col>wt</th><th scope=col>qsec</th><th scope=col>vs</th><th scope=col>am</th><th scope=col>gear</th><th scope=col>carb</th></tr>\n",
       "\t<tr><th></th><th scope=col>&lt;dbl&gt;</th><th scope=col>&lt;dbl&gt;</th><th scope=col>&lt;dbl&gt;</th><th scope=col>&lt;dbl&gt;</th><th scope=col>&lt;dbl&gt;</th><th scope=col>&lt;dbl&gt;</th><th scope=col>&lt;dbl&gt;</th><th scope=col>&lt;dbl&gt;</th><th scope=col>&lt;dbl&gt;</th><th scope=col>&lt;dbl&gt;</th><th scope=col>&lt;dbl&gt;</th></tr>\n",
       "</thead>\n",
       "<tbody>\n",
       "\t<tr><th scope=row>Mazda RX4</th><td>0</td><td>0</td><td>0</td><td>0</td><td>0</td><td>0</td><td>0</td><td>0</td><td>0</td><td>0</td><td>0</td></tr>\n",
       "\t<tr><th scope=row>Mazda RX4 Wag</th><td>0</td><td>0</td><td>0</td><td>0</td><td>1</td><td>0</td><td>0</td><td>0</td><td>0</td><td>0</td><td>0</td></tr>\n",
       "\t<tr><th scope=row>Datsun 710</th><td>0</td><td>0</td><td>0</td><td>0</td><td>0</td><td>0</td><td>0</td><td>0</td><td>0</td><td>0</td><td>0</td></tr>\n",
       "\t<tr><th scope=row>Hornet 4 Drive</th><td>0</td><td>0</td><td>0</td><td>0</td><td>0</td><td>0</td><td>0</td><td>0</td><td>0</td><td>0</td><td>0</td></tr>\n",
       "\t<tr><th scope=row>Hornet Sportabout</th><td>0</td><td>0</td><td>0</td><td>0</td><td>0</td><td>0</td><td>0</td><td>0</td><td>0</td><td>0</td><td>0</td></tr>\n",
       "\t<tr><th scope=row>Valiant</th><td>0</td><td>0</td><td>0</td><td>0</td><td>0</td><td>0</td><td>1</td><td>0</td><td>0</td><td>0</td><td>0</td></tr>\n",
       "\t<tr><th scope=row>Duster 360</th><td>0</td><td>0</td><td>0</td><td>0</td><td>0</td><td>0</td><td>0</td><td>0</td><td>0</td><td>0</td><td>0</td></tr>\n",
       "\t<tr><th scope=row>Merc 240D</th><td>0</td><td>0</td><td>0</td><td>0</td><td>0</td><td>0</td><td>0</td><td>0</td><td>0</td><td>0</td><td>0</td></tr>\n",
       "\t<tr><th scope=row>Merc 230</th><td>0</td><td>0</td><td>0</td><td>0</td><td>0</td><td>0</td><td>0</td><td>0</td><td>0</td><td>0</td><td>0</td></tr>\n",
       "\t<tr><th scope=row>Merc 280</th><td>0</td><td>0</td><td>0</td><td>0</td><td>0</td><td>0</td><td>0</td><td>0</td><td>0</td><td>0</td><td>0</td></tr>\n",
       "\t<tr><th scope=row>Merc 280C</th><td>0</td><td>0</td><td>0</td><td>0</td><td>0</td><td>0</td><td>0</td><td>0</td><td>0</td><td>0</td><td>0</td></tr>\n",
       "\t<tr><th scope=row>Merc 450SE</th><td>0</td><td>0</td><td>0</td><td>0</td><td>0</td><td>0</td><td>0</td><td>0</td><td>0</td><td>0</td><td>0</td></tr>\n",
       "\t<tr><th scope=row>Merc 450SL</th><td>0</td><td>0</td><td>0</td><td>0</td><td>0</td><td>0</td><td>0</td><td>0</td><td>0</td><td>0</td><td>0</td></tr>\n",
       "\t<tr><th scope=row>Merc 450SLC</th><td>0</td><td>0</td><td>0</td><td>0</td><td>0</td><td>0</td><td>0</td><td>0</td><td>0</td><td>0</td><td>0</td></tr>\n",
       "\t<tr><th scope=row>Cadillac Fleetwood</th><td>0</td><td>0</td><td>0</td><td>0</td><td>0</td><td>0</td><td>1</td><td>0</td><td>0</td><td>0</td><td>0</td></tr>\n",
       "\t<tr><th scope=row>Lincoln Continental</th><td>0</td><td>0</td><td>0</td><td>0</td><td>0</td><td>0</td><td>0</td><td>0</td><td>0</td><td>0</td><td>0</td></tr>\n",
       "\t<tr><th scope=row>Chrysler Imperial</th><td>0</td><td>0</td><td>0</td><td>0</td><td>0</td><td>0</td><td>0</td><td>0</td><td>0</td><td>0</td><td>0</td></tr>\n",
       "\t<tr><th scope=row>Fiat 128</th><td>0</td><td>0</td><td>0</td><td>0</td><td>0</td><td>0</td><td>0</td><td>0</td><td>0</td><td>0</td><td>0</td></tr>\n",
       "\t<tr><th scope=row>Honda Civic</th><td>0</td><td>0</td><td>0</td><td>0</td><td>0</td><td>0</td><td>0</td><td>0</td><td>0</td><td>0</td><td>0</td></tr>\n",
       "\t<tr><th scope=row>Toyota Corolla</th><td>0</td><td>0</td><td>0</td><td>0</td><td>0</td><td>0</td><td>0</td><td>0</td><td>0</td><td>0</td><td>0</td></tr>\n",
       "\t<tr><th scope=row>Toyota Corona</th><td>0</td><td>0</td><td>0</td><td>0</td><td>0</td><td>0</td><td>0</td><td>0</td><td>0</td><td>0</td><td>0</td></tr>\n",
       "\t<tr><th scope=row>Dodge Challenger</th><td>0</td><td>0</td><td>0</td><td>0</td><td>0</td><td>0</td><td>0</td><td>0</td><td>0</td><td>0</td><td>0</td></tr>\n",
       "\t<tr><th scope=row>AMC Javelin</th><td>0</td><td>0</td><td>0</td><td>0</td><td>0</td><td>0</td><td>0</td><td>0</td><td>0</td><td>0</td><td>0</td></tr>\n",
       "\t<tr><th scope=row>Camaro Z28</th><td>0</td><td>0</td><td>0</td><td>0</td><td>0</td><td>0</td><td>0</td><td>0</td><td>0</td><td>0</td><td>0</td></tr>\n",
       "\t<tr><th scope=row>Pontiac Firebird</th><td>0</td><td>0</td><td>0</td><td>0</td><td>0</td><td>0</td><td>0</td><td>0</td><td>0</td><td>0</td><td>0</td></tr>\n",
       "\t<tr><th scope=row>Fiat X1-9</th><td>0</td><td>0</td><td>0</td><td>0</td><td>0</td><td>0</td><td>1</td><td>0</td><td>0</td><td>0</td><td>0</td></tr>\n",
       "\t<tr><th scope=row>Porsche 914-2</th><td>0</td><td>0</td><td>0</td><td>0</td><td>0</td><td>0</td><td>0</td><td>0</td><td>0</td><td>0</td><td>0</td></tr>\n",
       "\t<tr><th scope=row>Lotus Europa</th><td>0</td><td>0</td><td>0</td><td>0</td><td>0</td><td>0</td><td>0</td><td>0</td><td>0</td><td>0</td><td>0</td></tr>\n",
       "\t<tr><th scope=row>Ford Pantera L</th><td>0</td><td>0</td><td>0</td><td>0</td><td>0</td><td>0</td><td>0</td><td>0</td><td>0</td><td>0</td><td>0</td></tr>\n",
       "\t<tr><th scope=row>Ferrari Dino</th><td>0</td><td>0</td><td>0</td><td>0</td><td>0</td><td>0</td><td>1</td><td>0</td><td>0</td><td>0</td><td>0</td></tr>\n",
       "\t<tr><th scope=row>Maserati Bora</th><td>0</td><td>0</td><td>0</td><td>0</td><td>0</td><td>0</td><td>0</td><td>0</td><td>0</td><td>0</td><td>0</td></tr>\n",
       "\t<tr><th scope=row>Volvo 142E</th><td>0</td><td>0</td><td>0</td><td>0</td><td>0</td><td>0</td><td>0</td><td>0</td><td>0</td><td>0</td><td>0</td></tr>\n",
       "</tbody>\n",
       "</table>\n"
      ],
      "text/latex": [
       "A data.frame: 32 × 11\n",
       "\\begin{tabular}{r|lllllllllll}\n",
       "  & mpg & cyl & disp & hp & drat & wt & qsec & vs & am & gear & carb\\\\\n",
       "  & <dbl> & <dbl> & <dbl> & <dbl> & <dbl> & <dbl> & <dbl> & <dbl> & <dbl> & <dbl> & <dbl>\\\\\n",
       "\\hline\n",
       "\tMazda RX4 & 0 & 0 & 0 & 0 & 0 & 0 & 0 & 0 & 0 & 0 & 0\\\\\n",
       "\tMazda RX4 Wag & 0 & 0 & 0 & 0 & 1 & 0 & 0 & 0 & 0 & 0 & 0\\\\\n",
       "\tDatsun 710 & 0 & 0 & 0 & 0 & 0 & 0 & 0 & 0 & 0 & 0 & 0\\\\\n",
       "\tHornet 4 Drive & 0 & 0 & 0 & 0 & 0 & 0 & 0 & 0 & 0 & 0 & 0\\\\\n",
       "\tHornet Sportabout & 0 & 0 & 0 & 0 & 0 & 0 & 0 & 0 & 0 & 0 & 0\\\\\n",
       "\tValiant & 0 & 0 & 0 & 0 & 0 & 0 & 1 & 0 & 0 & 0 & 0\\\\\n",
       "\tDuster 360 & 0 & 0 & 0 & 0 & 0 & 0 & 0 & 0 & 0 & 0 & 0\\\\\n",
       "\tMerc 240D & 0 & 0 & 0 & 0 & 0 & 0 & 0 & 0 & 0 & 0 & 0\\\\\n",
       "\tMerc 230 & 0 & 0 & 0 & 0 & 0 & 0 & 0 & 0 & 0 & 0 & 0\\\\\n",
       "\tMerc 280 & 0 & 0 & 0 & 0 & 0 & 0 & 0 & 0 & 0 & 0 & 0\\\\\n",
       "\tMerc 280C & 0 & 0 & 0 & 0 & 0 & 0 & 0 & 0 & 0 & 0 & 0\\\\\n",
       "\tMerc 450SE & 0 & 0 & 0 & 0 & 0 & 0 & 0 & 0 & 0 & 0 & 0\\\\\n",
       "\tMerc 450SL & 0 & 0 & 0 & 0 & 0 & 0 & 0 & 0 & 0 & 0 & 0\\\\\n",
       "\tMerc 450SLC & 0 & 0 & 0 & 0 & 0 & 0 & 0 & 0 & 0 & 0 & 0\\\\\n",
       "\tCadillac Fleetwood & 0 & 0 & 0 & 0 & 0 & 0 & 1 & 0 & 0 & 0 & 0\\\\\n",
       "\tLincoln Continental & 0 & 0 & 0 & 0 & 0 & 0 & 0 & 0 & 0 & 0 & 0\\\\\n",
       "\tChrysler Imperial & 0 & 0 & 0 & 0 & 0 & 0 & 0 & 0 & 0 & 0 & 0\\\\\n",
       "\tFiat 128 & 0 & 0 & 0 & 0 & 0 & 0 & 0 & 0 & 0 & 0 & 0\\\\\n",
       "\tHonda Civic & 0 & 0 & 0 & 0 & 0 & 0 & 0 & 0 & 0 & 0 & 0\\\\\n",
       "\tToyota Corolla & 0 & 0 & 0 & 0 & 0 & 0 & 0 & 0 & 0 & 0 & 0\\\\\n",
       "\tToyota Corona & 0 & 0 & 0 & 0 & 0 & 0 & 0 & 0 & 0 & 0 & 0\\\\\n",
       "\tDodge Challenger & 0 & 0 & 0 & 0 & 0 & 0 & 0 & 0 & 0 & 0 & 0\\\\\n",
       "\tAMC Javelin & 0 & 0 & 0 & 0 & 0 & 0 & 0 & 0 & 0 & 0 & 0\\\\\n",
       "\tCamaro Z28 & 0 & 0 & 0 & 0 & 0 & 0 & 0 & 0 & 0 & 0 & 0\\\\\n",
       "\tPontiac Firebird & 0 & 0 & 0 & 0 & 0 & 0 & 0 & 0 & 0 & 0 & 0\\\\\n",
       "\tFiat X1-9 & 0 & 0 & 0 & 0 & 0 & 0 & 1 & 0 & 0 & 0 & 0\\\\\n",
       "\tPorsche 914-2 & 0 & 0 & 0 & 0 & 0 & 0 & 0 & 0 & 0 & 0 & 0\\\\\n",
       "\tLotus Europa & 0 & 0 & 0 & 0 & 0 & 0 & 0 & 0 & 0 & 0 & 0\\\\\n",
       "\tFord Pantera L & 0 & 0 & 0 & 0 & 0 & 0 & 0 & 0 & 0 & 0 & 0\\\\\n",
       "\tFerrari Dino & 0 & 0 & 0 & 0 & 0 & 0 & 1 & 0 & 0 & 0 & 0\\\\\n",
       "\tMaserati Bora & 0 & 0 & 0 & 0 & 0 & 0 & 0 & 0 & 0 & 0 & 0\\\\\n",
       "\tVolvo 142E & 0 & 0 & 0 & 0 & 0 & 0 & 0 & 0 & 0 & 0 & 0\\\\\n",
       "\\end{tabular}\n"
      ],
      "text/markdown": [
       "\n",
       "A data.frame: 32 × 11\n",
       "\n",
       "| <!--/--> | mpg &lt;dbl&gt; | cyl &lt;dbl&gt; | disp &lt;dbl&gt; | hp &lt;dbl&gt; | drat &lt;dbl&gt; | wt &lt;dbl&gt; | qsec &lt;dbl&gt; | vs &lt;dbl&gt; | am &lt;dbl&gt; | gear &lt;dbl&gt; | carb &lt;dbl&gt; |\n",
       "|---|---|---|---|---|---|---|---|---|---|---|---|\n",
       "| Mazda RX4 | 0 | 0 | 0 | 0 | 0 | 0 | 0 | 0 | 0 | 0 | 0 |\n",
       "| Mazda RX4 Wag | 0 | 0 | 0 | 0 | 1 | 0 | 0 | 0 | 0 | 0 | 0 |\n",
       "| Datsun 710 | 0 | 0 | 0 | 0 | 0 | 0 | 0 | 0 | 0 | 0 | 0 |\n",
       "| Hornet 4 Drive | 0 | 0 | 0 | 0 | 0 | 0 | 0 | 0 | 0 | 0 | 0 |\n",
       "| Hornet Sportabout | 0 | 0 | 0 | 0 | 0 | 0 | 0 | 0 | 0 | 0 | 0 |\n",
       "| Valiant | 0 | 0 | 0 | 0 | 0 | 0 | 1 | 0 | 0 | 0 | 0 |\n",
       "| Duster 360 | 0 | 0 | 0 | 0 | 0 | 0 | 0 | 0 | 0 | 0 | 0 |\n",
       "| Merc 240D | 0 | 0 | 0 | 0 | 0 | 0 | 0 | 0 | 0 | 0 | 0 |\n",
       "| Merc 230 | 0 | 0 | 0 | 0 | 0 | 0 | 0 | 0 | 0 | 0 | 0 |\n",
       "| Merc 280 | 0 | 0 | 0 | 0 | 0 | 0 | 0 | 0 | 0 | 0 | 0 |\n",
       "| Merc 280C | 0 | 0 | 0 | 0 | 0 | 0 | 0 | 0 | 0 | 0 | 0 |\n",
       "| Merc 450SE | 0 | 0 | 0 | 0 | 0 | 0 | 0 | 0 | 0 | 0 | 0 |\n",
       "| Merc 450SL | 0 | 0 | 0 | 0 | 0 | 0 | 0 | 0 | 0 | 0 | 0 |\n",
       "| Merc 450SLC | 0 | 0 | 0 | 0 | 0 | 0 | 0 | 0 | 0 | 0 | 0 |\n",
       "| Cadillac Fleetwood | 0 | 0 | 0 | 0 | 0 | 0 | 1 | 0 | 0 | 0 | 0 |\n",
       "| Lincoln Continental | 0 | 0 | 0 | 0 | 0 | 0 | 0 | 0 | 0 | 0 | 0 |\n",
       "| Chrysler Imperial | 0 | 0 | 0 | 0 | 0 | 0 | 0 | 0 | 0 | 0 | 0 |\n",
       "| Fiat 128 | 0 | 0 | 0 | 0 | 0 | 0 | 0 | 0 | 0 | 0 | 0 |\n",
       "| Honda Civic | 0 | 0 | 0 | 0 | 0 | 0 | 0 | 0 | 0 | 0 | 0 |\n",
       "| Toyota Corolla | 0 | 0 | 0 | 0 | 0 | 0 | 0 | 0 | 0 | 0 | 0 |\n",
       "| Toyota Corona | 0 | 0 | 0 | 0 | 0 | 0 | 0 | 0 | 0 | 0 | 0 |\n",
       "| Dodge Challenger | 0 | 0 | 0 | 0 | 0 | 0 | 0 | 0 | 0 | 0 | 0 |\n",
       "| AMC Javelin | 0 | 0 | 0 | 0 | 0 | 0 | 0 | 0 | 0 | 0 | 0 |\n",
       "| Camaro Z28 | 0 | 0 | 0 | 0 | 0 | 0 | 0 | 0 | 0 | 0 | 0 |\n",
       "| Pontiac Firebird | 0 | 0 | 0 | 0 | 0 | 0 | 0 | 0 | 0 | 0 | 0 |\n",
       "| Fiat X1-9 | 0 | 0 | 0 | 0 | 0 | 0 | 1 | 0 | 0 | 0 | 0 |\n",
       "| Porsche 914-2 | 0 | 0 | 0 | 0 | 0 | 0 | 0 | 0 | 0 | 0 | 0 |\n",
       "| Lotus Europa | 0 | 0 | 0 | 0 | 0 | 0 | 0 | 0 | 0 | 0 | 0 |\n",
       "| Ford Pantera L | 0 | 0 | 0 | 0 | 0 | 0 | 0 | 0 | 0 | 0 | 0 |\n",
       "| Ferrari Dino | 0 | 0 | 0 | 0 | 0 | 0 | 1 | 0 | 0 | 0 | 0 |\n",
       "| Maserati Bora | 0 | 0 | 0 | 0 | 0 | 0 | 0 | 0 | 0 | 0 | 0 |\n",
       "| Volvo 142E | 0 | 0 | 0 | 0 | 0 | 0 | 0 | 0 | 0 | 0 | 0 |\n",
       "\n"
      ],
      "text/plain": [
       "                    mpg cyl disp hp drat wt qsec vs am gear carb\n",
       "Mazda RX4           0   0   0    0  0    0  0    0  0  0    0   \n",
       "Mazda RX4 Wag       0   0   0    0  1    0  0    0  0  0    0   \n",
       "Datsun 710          0   0   0    0  0    0  0    0  0  0    0   \n",
       "Hornet 4 Drive      0   0   0    0  0    0  0    0  0  0    0   \n",
       "Hornet Sportabout   0   0   0    0  0    0  0    0  0  0    0   \n",
       "Valiant             0   0   0    0  0    0  1    0  0  0    0   \n",
       "Duster 360          0   0   0    0  0    0  0    0  0  0    0   \n",
       "Merc 240D           0   0   0    0  0    0  0    0  0  0    0   \n",
       "Merc 230            0   0   0    0  0    0  0    0  0  0    0   \n",
       "Merc 280            0   0   0    0  0    0  0    0  0  0    0   \n",
       "Merc 280C           0   0   0    0  0    0  0    0  0  0    0   \n",
       "Merc 450SE          0   0   0    0  0    0  0    0  0  0    0   \n",
       "Merc 450SL          0   0   0    0  0    0  0    0  0  0    0   \n",
       "Merc 450SLC         0   0   0    0  0    0  0    0  0  0    0   \n",
       "Cadillac Fleetwood  0   0   0    0  0    0  1    0  0  0    0   \n",
       "Lincoln Continental 0   0   0    0  0    0  0    0  0  0    0   \n",
       "Chrysler Imperial   0   0   0    0  0    0  0    0  0  0    0   \n",
       "Fiat 128            0   0   0    0  0    0  0    0  0  0    0   \n",
       "Honda Civic         0   0   0    0  0    0  0    0  0  0    0   \n",
       "Toyota Corolla      0   0   0    0  0    0  0    0  0  0    0   \n",
       "Toyota Corona       0   0   0    0  0    0  0    0  0  0    0   \n",
       "Dodge Challenger    0   0   0    0  0    0  0    0  0  0    0   \n",
       "AMC Javelin         0   0   0    0  0    0  0    0  0  0    0   \n",
       "Camaro Z28          0   0   0    0  0    0  0    0  0  0    0   \n",
       "Pontiac Firebird    0   0   0    0  0    0  0    0  0  0    0   \n",
       "Fiat X1-9           0   0   0    0  0    0  1    0  0  0    0   \n",
       "Porsche 914-2       0   0   0    0  0    0  0    0  0  0    0   \n",
       "Lotus Europa        0   0   0    0  0    0  0    0  0  0    0   \n",
       "Ford Pantera L      0   0   0    0  0    0  0    0  0  0    0   \n",
       "Ferrari Dino        0   0   0    0  0    0  1    0  0  0    0   \n",
       "Maserati Bora       0   0   0    0  0    0  0    0  0  0    0   \n",
       "Volvo 142E          0   0   0    0  0    0  0    0  0  0    0   "
      ]
     },
     "metadata": {},
     "output_type": "display_data"
    }
   ],
   "source": [
    "df.na"
   ]
  },
  {
   "cell_type": "code",
   "execution_count": 89,
   "metadata": {},
   "outputs": [
    {
     "data": {
      "image/png": "[encoded data removed]",
      "text/plain": [
       "plot without title"
      ]
     },
     "metadata": {
      "image/png": {
       "height": 240,
       "width": 240
      }
     },
     "output_type": "display_data"
    }
   ],
   "source": [
    "# מישומה הגרף נחתך. תומס לא יודע למה\n",
    "# עבור heatmsp\n",
    "# צריך להפוך את הדטה סט למטריצה ולכן השימוש ב  as.matrix\n",
    "heatmap(as.matrix(df.na),cexCol = 0.7, cexRow = 0.7, col=brewer.pal(n=ncol(df), name=\"RdYlBu\")) # RdYlBu צבעים של כחול אדום\n",
    "                                                                                                # cexCol, cexrow  גודל העבודות והשורות"
   ]
  },
  {
   "cell_type": "code",
   "execution_count": 90,
   "metadata": {},
   "outputs": [],
   "source": [
    "\n",
    "# דרך אחרת לראו קורולציו בעזרת חבילת VIM\n",
    "\n",
    "if (!require(\"VIM\")) install.packages(\"VIM\")"
   ]
  },
  {
   "cell_type": "code",
   "execution_count": 91,
   "metadata": {},
   "outputs": [
    {
     "data": {
      "image/png": "[encoded data removed]",
      "text/plain": [
       "plot without title"
      ]
     },
     "metadata": {
      "image/png": {
       "height": 240,
       "width": 240
      }
     },
     "output_type": "display_data"
    }
   ],
   "source": [
    "\n",
    "matrixplot(as.matrix(df.na))"
   ]
  },
  {
   "cell_type": "markdown",
   "metadata": {},
   "source": [
    "## 3 - Data Cleansing\n",
    " \n",
    "### 3.1 -  Outliers\n",
    "\n",
    "#### 3.1.1 - For the variables where outliers were found, check the distribution with/without outliers\n"
   ]
  },
  {
   "cell_type": "code",
   "execution_count": 92,
   "metadata": {},
   "outputs": [
    {
     "data": {
      "text/html": [
       "<ol class=list-inline>\n",
       "\t<li>5.424</li>\n",
       "\t<li>5.345</li>\n",
       "</ol>\n"
      ],
      "text/latex": [
       "\\begin{enumerate*}\n",
       "\\item 5.424\n",
       "\\item 5.345\n",
       "\\end{enumerate*}\n"
      ],
      "text/markdown": [
       "1. 5.424\n",
       "2. 5.345\n",
       "\n",
       "\n"
      ],
      "text/plain": [
       "[1] 5.424 5.345"
      ]
     },
     "metadata": {},
     "output_type": "display_data"
    },
    {
     "data": {
      "image/png": "[encoded data removed]",
      "text/plain": [
       "plot without title"
      ]
     },
     "metadata": {
      "image/png": {
       "height": 240,
       "width": 240
      }
     },
     "output_type": "display_data"
    }
   ],
   "source": [
    "out <- boxplot(df[\"wt\"])  # wt - wieght og the car  משתנה שאנחנו יודעים שיש לו ערך קיצון\n",
    "out$out\n",
    "\n",
    "# עשינו פה BOXPLOT\n",
    "# מה שמחוץ לגבול הבינרבעוני הוא ערך קיצון. אנו רואים הערך של שני ערכי הקיצון פה הוא 5 וקצת ולכן נקבע שגבול הערך קיצון הוא מעל 5"
   ]
  },
  {
   "cell_type": "code",
   "execution_count": 93,
   "metadata": {},
   "outputs": [
    {
     "data": {
      "text/plain": [
       "wt.out\n",
       " 0  1 \n",
       "29  3 "
      ]
     },
     "metadata": {},
     "output_type": "display_data"
    }
   ],
   "source": [
    "wt.out <- ifelse(df[[\"wt\"]] >= 5,1,0)  # עם מעל 5 תן 1\n",
    "table(wt.out)"
   ]
  },
  {
   "cell_type": "code",
   "execution_count": 94,
   "metadata": {},
   "outputs": [
    {
     "data": {
      "image/png": "[encoded data removed]",
      "text/plain": [
       "plot without title"
      ]
     },
     "metadata": {
      "image/png": {
       "height": 240,
       "width": 240
      }
     },
     "output_type": "display_data"
    }
   ],
   "source": [
    "# יכולנו כמו בחסרים, לעשות מטריצה וגרף כמו שם. פה בחרנו בדרך שונה\n",
    "ggplot() + geom_density(aes(df[[\"wt\"]], group=factor(wt.out), color=factor(wt.out)))\n",
    "\n",
    "# ניתן לראות שההתפלגויות שונות. \n",
    "# זו התפלגות של WT עם ובלי ערכי קיצון"
   ]
  },
  {
   "cell_type": "code",
   "execution_count": 95,
   "metadata": {},
   "outputs": [
    {
     "data": {
      "text/html": [
       "<ol class=list-inline>\n",
       "\t<li>2.62</li>\n",
       "\t<li>2.875</li>\n",
       "\t<li>2.32</li>\n",
       "\t<li>3.215</li>\n",
       "\t<li>3.44</li>\n",
       "\t<li>3.46</li>\n",
       "\t<li>3.57</li>\n",
       "\t<li>3.19</li>\n",
       "\t<li>3.15</li>\n",
       "\t<li>3.44</li>\n",
       "\t<li>3.44</li>\n",
       "\t<li>4.07</li>\n",
       "\t<li>3.73</li>\n",
       "\t<li>3.78</li>\n",
       "\t<li>&lt;NA&gt;</li>\n",
       "\t<li>&lt;NA&gt;</li>\n",
       "\t<li>&lt;NA&gt;</li>\n",
       "\t<li>2.2</li>\n",
       "\t<li>1.615</li>\n",
       "\t<li>1.835</li>\n",
       "\t<li>2.465</li>\n",
       "\t<li>3.52</li>\n",
       "\t<li>3.435</li>\n",
       "\t<li>3.84</li>\n",
       "\t<li>3.845</li>\n",
       "\t<li>1.935</li>\n",
       "\t<li>2.14</li>\n",
       "\t<li>1.513</li>\n",
       "\t<li>3.17</li>\n",
       "\t<li>2.77</li>\n",
       "\t<li>3.57</li>\n",
       "\t<li>2.78</li>\n",
       "</ol>\n"
      ],
      "text/latex": [
       "\\begin{enumerate*}\n",
       "\\item 2.62\n",
       "\\item 2.875\n",
       "\\item 2.32\n",
       "\\item 3.215\n",
       "\\item 3.44\n",
       "\\item 3.46\n",
       "\\item 3.57\n",
       "\\item 3.19\n",
       "\\item 3.15\n",
       "\\item 3.44\n",
       "\\item 3.44\n",
       "\\item 4.07\n",
       "\\item 3.73\n",
       "\\item 3.78\n",
       "\\item <NA>\n",
       "\\item <NA>\n",
       "\\item <NA>\n",
       "\\item 2.2\n",
       "\\item 1.615\n",
       "\\item 1.835\n",
       "\\item 2.465\n",
       "\\item 3.52\n",
       "\\item 3.435\n",
       "\\item 3.84\n",
       "\\item 3.845\n",
       "\\item 1.935\n",
       "\\item 2.14\n",
       "\\item 1.513\n",
       "\\item 3.17\n",
       "\\item 2.77\n",
       "\\item 3.57\n",
       "\\item 2.78\n",
       "\\end{enumerate*}\n"
      ],
      "text/markdown": [
       "1. 2.62\n",
       "2. 2.875\n",
       "3. 2.32\n",
       "4. 3.215\n",
       "5. 3.44\n",
       "6. 3.46\n",
       "7. 3.57\n",
       "8. 3.19\n",
       "9. 3.15\n",
       "10. 3.44\n",
       "11. 3.44\n",
       "12. 4.07\n",
       "13. 3.73\n",
       "14. 3.78\n",
       "15. &lt;NA&gt;\n",
       "16. &lt;NA&gt;\n",
       "17. &lt;NA&gt;\n",
       "18. 2.2\n",
       "19. 1.615\n",
       "20. 1.835\n",
       "21. 2.465\n",
       "22. 3.52\n",
       "23. 3.435\n",
       "24. 3.84\n",
       "25. 3.845\n",
       "26. 1.935\n",
       "27. 2.14\n",
       "28. 1.513\n",
       "29. 3.17\n",
       "30. 2.77\n",
       "31. 3.57\n",
       "32. 2.78\n",
       "\n",
       "\n"
      ],
      "text/plain": [
       " [1] 2.620 2.875 2.320 3.215 3.440 3.460 3.570 3.190 3.150 3.440 3.440 4.070\n",
       "[13] 3.730 3.780    NA    NA    NA 2.200 1.615 1.835 2.465 3.520 3.435 3.840\n",
       "[25] 3.845 1.935 2.140 1.513 3.170 2.770 3.570 2.780"
      ]
     },
     "metadata": {},
     "output_type": "display_data"
    },
    {
     "data": {
      "image/png": "[encoded data removed]",
      "text/plain": [
       "plot without title"
      ]
     },
     "metadata": {
      "image/png": {
       "height": 240,
       "width": 240
      }
     },
     "output_type": "display_data"
    }
   ],
   "source": [
    "# נרצה לראות את התפלגות הדטה כולו עם ובלי ערכי הקיצון \n",
    "\n",
    "wt.noout <- df[['wt']]\n",
    "wt.noout <- ifelse(wt.out==1,NA,wt.noout)  # אם במשקל הוא 1 ,אם כן תן NA  אם לא תן את ערכו\n",
    "wt.noout                                    # זאת אומרת , הוצאנו את ערכי הקיצון החוצה על ידי הפיכתפ ל NA\n",
    "\n",
    "ggplot() + \n",
    "    geom_density(aes(df[[\"wt\"]]),color=\"red\") + \n",
    "    geom_density(aes(wt.noout))\n",
    "\n"
   ]
  },
  {
   "cell_type": "code",
   "execution_count": 97,
   "metadata": {},
   "outputs": [
    {
     "data": {
      "text/html": [
       "<ol class=list-inline>\n",
       "\t<li>2.62</li>\n",
       "\t<li>2.875</li>\n",
       "\t<li>2.32</li>\n",
       "\t<li>3.215</li>\n",
       "\t<li>3.44</li>\n",
       "\t<li>3.46</li>\n",
       "\t<li>3.57</li>\n",
       "\t<li>3.19</li>\n",
       "\t<li>3.15</li>\n",
       "\t<li>3.44</li>\n",
       "\t<li>3.44</li>\n",
       "\t<li>4.07</li>\n",
       "\t<li>3.73</li>\n",
       "\t<li>3.78</li>\n",
       "\t<li>&lt;NA&gt;</li>\n",
       "\t<li>&lt;NA&gt;</li>\n",
       "\t<li>&lt;NA&gt;</li>\n",
       "\t<li>2.2</li>\n",
       "\t<li>1.615</li>\n",
       "\t<li>1.835</li>\n",
       "\t<li>2.465</li>\n",
       "\t<li>3.52</li>\n",
       "\t<li>3.435</li>\n",
       "\t<li>3.84</li>\n",
       "\t<li>3.845</li>\n",
       "\t<li>1.935</li>\n",
       "\t<li>2.14</li>\n",
       "\t<li>1.513</li>\n",
       "\t<li>3.17</li>\n",
       "\t<li>2.77</li>\n",
       "\t<li>3.57</li>\n",
       "\t<li>2.78</li>\n",
       "</ol>\n"
      ],
      "text/latex": [
       "\\begin{enumerate*}\n",
       "\\item 2.62\n",
       "\\item 2.875\n",
       "\\item 2.32\n",
       "\\item 3.215\n",
       "\\item 3.44\n",
       "\\item 3.46\n",
       "\\item 3.57\n",
       "\\item 3.19\n",
       "\\item 3.15\n",
       "\\item 3.44\n",
       "\\item 3.44\n",
       "\\item 4.07\n",
       "\\item 3.73\n",
       "\\item 3.78\n",
       "\\item <NA>\n",
       "\\item <NA>\n",
       "\\item <NA>\n",
       "\\item 2.2\n",
       "\\item 1.615\n",
       "\\item 1.835\n",
       "\\item 2.465\n",
       "\\item 3.52\n",
       "\\item 3.435\n",
       "\\item 3.84\n",
       "\\item 3.845\n",
       "\\item 1.935\n",
       "\\item 2.14\n",
       "\\item 1.513\n",
       "\\item 3.17\n",
       "\\item 2.77\n",
       "\\item 3.57\n",
       "\\item 2.78\n",
       "\\end{enumerate*}\n"
      ],
      "text/markdown": [
       "1. 2.62\n",
       "2. 2.875\n",
       "3. 2.32\n",
       "4. 3.215\n",
       "5. 3.44\n",
       "6. 3.46\n",
       "7. 3.57\n",
       "8. 3.19\n",
       "9. 3.15\n",
       "10. 3.44\n",
       "11. 3.44\n",
       "12. 4.07\n",
       "13. 3.73\n",
       "14. 3.78\n",
       "15. &lt;NA&gt;\n",
       "16. &lt;NA&gt;\n",
       "17. &lt;NA&gt;\n",
       "18. 2.2\n",
       "19. 1.615\n",
       "20. 1.835\n",
       "21. 2.465\n",
       "22. 3.52\n",
       "23. 3.435\n",
       "24. 3.84\n",
       "25. 3.845\n",
       "26. 1.935\n",
       "27. 2.14\n",
       "28. 1.513\n",
       "29. 3.17\n",
       "30. 2.77\n",
       "31. 3.57\n",
       "32. 2.78\n",
       "\n",
       "\n"
      ],
      "text/plain": [
       " [1] 2.620 2.875 2.320 3.215 3.440 3.460 3.570 3.190 3.150 3.440 3.440 4.070\n",
       "[13] 3.730 3.780    NA    NA    NA 2.200 1.615 1.835 2.465 3.520 3.435 3.840\n",
       "[25] 3.845 1.935 2.140 1.513 3.170 2.770 3.570 2.780"
      ]
     },
     "metadata": {},
     "output_type": "display_data"
    }
   ],
   "source": [
    "wt.noout <- df[['wt']]\n",
    "wt.noout <- ifelse(wt.out==1,NA,wt.noout)\n",
    "wt.noout"
   ]
  },
  {
   "cell_type": "markdown",
   "metadata": {},
   "source": [
    "#### 3.1.2 - Influence of the outluers on the outcome"
   ]
  },
  {
   "cell_type": "code",
   "execution_count": 108,
   "metadata": {
    "scrolled": true
   },
   "outputs": [
    {
     "data": {
      "image/png": "[encoded data removed]",
      "text/plain": [
       "plot without title"
      ]
     },
     "metadata": {
      "image/png": {
       "height": 240,
       "width": 240
      }
     },
     "output_type": "display_data"
    },
    {
     "data": {
      "image/png": "[encoded data removed]",
      "text/plain": [
       "plot without title"
      ]
     },
     "metadata": {
      "image/png": {
       "height": 240,
       "width": 240
      }
     },
     "output_type": "display_data"
    }
   ],
   "source": [
    "p1 <- ggplot() + geom_point(aes(x=df[['wt']], y=df[[y]], color=factor(wt.out)))\n",
    "p2 <- ggplot() + geom_point(aes(x=wt.noout, y=df[[y]]))\n",
    "#grid.arrange(p1, p2, nrow = 1) # מסדר את הגרפים. אם לא עובד, פשוט נציג אותם כמו שורה מתחת\n",
    "\n",
    "p1\n",
    "p2\n",
    "\n",
    "# בגרף הראשון (עם הנקודות האדומות) הנקודות בצבע כחול, אילו שקיבלו ערך 1, הם ערכי הקיצון. יש פה 3 כאילו\n",
    "# הגרף של הנקודות השחורות זה לאחר הסרת ערכי הקיצון\n",
    "\n",
    "# כלל אצבע לגבי ערכי הקיצון:\n",
    "# if does't change the result but does effect assumption - drop it !! \n",
    "\n",
    "# assumption -  זה ההתפלגות שראינו למעלה. כי מניחים שזו ההתפלגות הזהה\n",
    "# result - תוצאת הרגרסיה או המודל האחר"
   ]
  },
  {
   "cell_type": "code",
   "execution_count": 102,
   "metadata": {},
   "outputs": [],
   "source": [
    "# ראינו קודם שאין השפעה (לערכי הקיצון) כמעט על ההתפלגות הכללית של הדטה\n",
    "# נבדוק האם יש השפעה על תוצאת הרגרסיה\n",
    "\n",
    "mod1 <- lm(df[[y]] ~ df[['wt']])  # רגרסיה עם ערכי הקיצון\n",
    "mod2 <- lm(df[[y]] ~ wt.noout)    # רגרסיה ללא ערכי הקיצון \n"
   ]
  },
  {
   "cell_type": "code",
   "execution_count": 161,
   "metadata": {},
   "outputs": [
    {
     "data": {
      "image/png": "[encoded data removed]",
      "text/plain": [
       "plot without title"
      ]
     },
     "metadata": {},
     "output_type": "display_data"
    }
   ],
   "source": [
    "options(repr.plot.width = 4, repr.plot.height = 4)\n",
    "plot(df[['wt']], df[[y]], col=factor(wt.out),xlab=\"wt\",ylab=y)\n",
    "abline(mod1, col=\"red\") \n",
    "abline(mod2, col=\"green\")\n",
    "\n",
    "# משווים את שני תוצאות הרגרסיה, עם ובלי ערכי הקיצון. רואים שהתוצאות דומות מאוד\n",
    "# ראינו קודם שההתפלגות דומה והתוצאות דומות, לכן אין בעהי לזרוק"
   ]
  },
  {
   "cell_type": "markdown",
   "metadata": {},
   "source": [
    "#### 3.1.3 - Table with variables having outliers.  "
   ]
  },
  {
   "cell_type": "code",
   "execution_count": 162,
   "metadata": {},
   "outputs": [
    {
     "data": {
      "text/html": [],
      "text/latex": [],
      "text/markdown": [],
      "text/plain": [
       "<0 x 0 matrix>"
      ]
     },
     "metadata": {},
     "output_type": "display_data"
    }
   ],
   "source": [
    "# כאן צריך לייצר טבלה שבא יהיה רשימה של המשתנים שיש בהם ערכי קיצון, מה עשינו איתו ולמה. אפשר לייצר באקסל או כך:\n",
    "outres <- data.frame(variable=NULL,treatment=NULL,why=NULL)\n",
    "outres"
   ]
  },
  {
   "cell_type": "markdown",
   "metadata": {},
   "source": [
    "#### 3.1.4 - Cleansed dataset for Outliers"
   ]
  },
  {
   "cell_type": "code",
   "execution_count": 163,
   "metadata": {},
   "outputs": [],
   "source": [
    "# דטה סט חדש לאחר הטיפול בכרכי הקיצון שציינו שעשינו בסעיף קודם\n",
    "df.noout <- df\n",
    "## here treat the outliers as described in 3.1.3"
   ]
  },
  {
   "cell_type": "markdown",
   "metadata": {},
   "source": [
    "### 3.2 - Missing values\n",
    " \n",
    "#### 3.2.1 - Show the distribution of each numeric variable by missingness of other variables "
   ]
  },
  {
   "cell_type": "code",
   "execution_count": null,
   "metadata": {},
   "outputs": [],
   "source": [
    "# טיפול בערכי הקיצון יצר משתנים חסרים חדשים. צריך לטפל בהם\n",
    "## save the original table into another table and put the dataset after the outlier treatment into df\n",
    "df.orig <- df   # דטה סט אורגינלי. לפני טיפול בערכי קיצון\n",
    "df <- df.noout  # דטה סט לאחר טיפול בערכי קיצון"
   ]
  },
  {
   "cell_type": "code",
   "execution_count": null,
   "metadata": {},
   "outputs": [],
   "source": [
    "## remade the missing matrix to include the new missing values generated by the outliers treatment מטריצת חסרים חדשה\n",
    "df.na <- df\n",
    "for(i in names(df)) {\n",
    "    df.na[,i] <- ifelse(is.na(df.na[,i])==T,1,0)\n",
    "}"
   ]
  },
  {
   "cell_type": "code",
   "execution_count": 167,
   "metadata": {},
   "outputs": [
    {
     "data": {
      "text/plain": [
       "      mpg             cyl             disp             hp       \n",
       " Min.   :10.40   Min.   :4.000   Min.   : 71.1   Min.   : 52.0  \n",
       " 1st Qu.:15.43   1st Qu.:4.000   1st Qu.:120.8   1st Qu.: 96.5  \n",
       " Median :19.20   Median :6.000   Median :196.3   Median :123.0  \n",
       " Mean   :20.09   Mean   :6.188   Mean   :230.7   Mean   :146.7  \n",
       " 3rd Qu.:22.80   3rd Qu.:8.000   3rd Qu.:326.0   3rd Qu.:180.0  \n",
       " Max.   :33.90   Max.   :8.000   Max.   :472.0   Max.   :335.0  \n",
       "                                                                \n",
       "      drat             wt             qsec       vs     am          gear      \n",
       " Min.   :2.760   Min.   :1.513   Min.   :14.50   0:18   0:19   Min.   :3.000  \n",
       " 1st Qu.:3.080   1st Qu.:2.581   1st Qu.:16.89   1:14   1:13   1st Qu.:3.000  \n",
       " Median :3.690   Median :3.325   Median :17.51                 Median :4.000  \n",
       " Mean   :3.587   Mean   :3.217   Mean   :17.81                 Mean   :3.688  \n",
       " 3rd Qu.:3.920   3rd Qu.:3.610   3rd Qu.:18.68                 3rd Qu.:4.000  \n",
       " Max.   :4.930   Max.   :5.424   Max.   :22.90                 Max.   :5.000  \n",
       " NA's   :1                       NA's   :4                                    \n",
       "      carb      \n",
       " Min.   :1.000  \n",
       " 1st Qu.:2.000  \n",
       " Median :2.000  \n",
       " Mean   :2.812  \n",
       " 3rd Qu.:4.000  \n",
       " Max.   :8.000  \n",
       "                "
      ]
     },
     "metadata": {},
     "output_type": "display_data"
    }
   ],
   "source": [
    "## just converted the categorical variable to factors...\n",
    "df$vs <- factor(df$vs)\n",
    "df$am <- factor(df$am)\n",
    "summary(df)"
   ]
  },
  {
   "cell_type": "code",
   "execution_count": 165,
   "metadata": {},
   "outputs": [
    {
     "data": {
      "text/html": [
       "<table>\n",
       "<thead><tr><th></th><th scope=col>mpg</th><th scope=col>cyl</th><th scope=col>disp</th><th scope=col>hp</th><th scope=col>drat</th><th scope=col>wt</th><th scope=col>qsec</th><th scope=col>vs</th><th scope=col>am</th><th scope=col>gear</th><th scope=col>carb</th></tr></thead>\n",
       "<tbody>\n",
       "\t<tr><th scope=row>Mazda RX4</th><td>0</td><td>0</td><td>0</td><td>0</td><td>0</td><td>0</td><td>0</td><td>0</td><td>0</td><td>0</td><td>0</td></tr>\n",
       "\t<tr><th scope=row>Mazda RX4 Wag</th><td>0</td><td>0</td><td>0</td><td>0</td><td>1</td><td>0</td><td>0</td><td>0</td><td>0</td><td>0</td><td>0</td></tr>\n",
       "\t<tr><th scope=row>Datsun 710</th><td>0</td><td>0</td><td>0</td><td>0</td><td>0</td><td>0</td><td>0</td><td>0</td><td>0</td><td>0</td><td>0</td></tr>\n",
       "\t<tr><th scope=row>Hornet 4 Drive</th><td>0</td><td>0</td><td>0</td><td>0</td><td>0</td><td>0</td><td>0</td><td>0</td><td>0</td><td>0</td><td>0</td></tr>\n",
       "\t<tr><th scope=row>Hornet Sportabout</th><td>0</td><td>0</td><td>0</td><td>0</td><td>0</td><td>0</td><td>0</td><td>0</td><td>0</td><td>0</td><td>0</td></tr>\n",
       "\t<tr><th scope=row>Valiant</th><td>0</td><td>0</td><td>0</td><td>0</td><td>0</td><td>0</td><td>1</td><td>0</td><td>0</td><td>0</td><td>0</td></tr>\n",
       "</tbody>\n",
       "</table>\n"
      ],
      "text/latex": [
       "\\begin{tabular}{r|lllllllllll}\n",
       "  & mpg & cyl & disp & hp & drat & wt & qsec & vs & am & gear & carb\\\\\n",
       "\\hline\n",
       "\tMazda RX4 & 0 & 0 & 0 & 0 & 0 & 0 & 0 & 0 & 0 & 0 & 0\\\\\n",
       "\tMazda RX4 Wag & 0 & 0 & 0 & 0 & 1 & 0 & 0 & 0 & 0 & 0 & 0\\\\\n",
       "\tDatsun 710 & 0 & 0 & 0 & 0 & 0 & 0 & 0 & 0 & 0 & 0 & 0\\\\\n",
       "\tHornet 4 Drive & 0 & 0 & 0 & 0 & 0 & 0 & 0 & 0 & 0 & 0 & 0\\\\\n",
       "\tHornet Sportabout & 0 & 0 & 0 & 0 & 0 & 0 & 0 & 0 & 0 & 0 & 0\\\\\n",
       "\tValiant & 0 & 0 & 0 & 0 & 0 & 0 & 1 & 0 & 0 & 0 & 0\\\\\n",
       "\\end{tabular}\n"
      ],
      "text/markdown": [
       "\n",
       "| <!--/--> | mpg | cyl | disp | hp | drat | wt | qsec | vs | am | gear | carb | \n",
       "|---|---|---|---|---|---|\n",
       "| Mazda RX4 | 0 | 0 | 0 | 0 | 0 | 0 | 0 | 0 | 0 | 0 | 0 | \n",
       "| Mazda RX4 Wag | 0 | 0 | 0 | 0 | 1 | 0 | 0 | 0 | 0 | 0 | 0 | \n",
       "| Datsun 710 | 0 | 0 | 0 | 0 | 0 | 0 | 0 | 0 | 0 | 0 | 0 | \n",
       "| Hornet 4 Drive | 0 | 0 | 0 | 0 | 0 | 0 | 0 | 0 | 0 | 0 | 0 | \n",
       "| Hornet Sportabout | 0 | 0 | 0 | 0 | 0 | 0 | 0 | 0 | 0 | 0 | 0 | \n",
       "| Valiant | 0 | 0 | 0 | 0 | 0 | 0 | 1 | 0 | 0 | 0 | 0 | \n",
       "\n",
       "\n"
      ],
      "text/plain": [
       "                  mpg cyl disp hp drat wt qsec vs am gear carb\n",
       "Mazda RX4         0   0   0    0  0    0  0    0  0  0    0   \n",
       "Mazda RX4 Wag     0   0   0    0  1    0  0    0  0  0    0   \n",
       "Datsun 710        0   0   0    0  0    0  0    0  0  0    0   \n",
       "Hornet 4 Drive    0   0   0    0  0    0  0    0  0  0    0   \n",
       "Hornet Sportabout 0   0   0    0  0    0  0    0  0  0    0   \n",
       "Valiant           0   0   0    0  0    0  1    0  0  0    0   "
      ]
     },
     "metadata": {},
     "output_type": "display_data"
    }
   ],
   "source": [
    "head(df.na)"
   ]
  },
  {
   "cell_type": "code",
   "execution_count": 171,
   "metadata": {},
   "outputs": [
    {
     "name": "stdout",
     "output_type": "stream",
     "text": [
      "[1] \"drat by vs\"\n",
      "[1] \"drat by am\"\n"
     ]
    },
    {
     "data": {
      "image/png": "[encoded data removed]",
      "text/plain": [
       "plot without title"
      ]
     },
     "metadata": {},
     "output_type": "display_data"
    },
    {
     "name": "stdout",
     "output_type": "stream",
     "text": [
      "[1] \"qsec by vs\"\n"
     ]
    },
    {
     "data": {
      "image/png": "[encoded data removed]",
      "text/plain": [
       "plot without title"
      ]
     },
     "metadata": {},
     "output_type": "display_data"
    },
    {
     "name": "stdout",
     "output_type": "stream",
     "text": [
      "[1] \"qsec by am\"\n"
     ]
    },
    {
     "data": {
      "image/png": "[encoded data removed]",
      "text/plain": [
       "plot without title"
      ]
     },
     "metadata": {},
     "output_type": "display_data"
    },
    {
     "data": {
      "image/png": "[encoded data removed]",
      "text/plain": [
       "plot without title"
      ]
     },
     "metadata": {},
     "output_type": "display_data"
    }
   ],
   "source": [
    "# לולאה ראשונה רצה על המשתנים ולולאה שניה רצה על הקטגוריות\n",
    "# i!=j  כי לא רוצים להשוות \n",
    "# רוצים ךנסות להבין את מנגנון יצירת הNA\n",
    "# להבין האם הוא אקראי או לא\n",
    "\n",
    "\n",
    "\n",
    "\n",
    "nm <- names(df)\n",
    "## iterate through the variables\n",
    "for(i in 1:length(nm)) {\n",
    "    for(j in 1:length(nm)) {\n",
    "        ## check if i and j are the same\n",
    "        if(i!=j) {\n",
    "            ## check if the variable is numeric and has missing values\n",
    "            if(is.numeric(df[[i]])==TRUE & sum(df.na[[i]])>0) {\n",
    "                ## if the j variable is a factor print a differential distribution plot\n",
    "                if(is.factor(df[[j]])) {\n",
    "                    print(paste(nm[i],\"by\",nm[j]))\n",
    "                    p1 <- ggplot() + geom_density(aes(df[[i]],group=df[[j]],color=df[[j]]))\n",
    "                    plot(p1)\n",
    "                }\n",
    "            }\n",
    "        }\n",
    "    }\n",
    "}\n"
   ]
  },
  {
   "cell_type": "markdown",
   "metadata": {},
   "source": [
    "#### 3.2.2 - Missingness table with explanatory mechanisms"
   ]
  },
  {
   "cell_type": "code",
   "execution_count": 172,
   "metadata": {},
   "outputs": [
    {
     "data": {
      "text/html": [],
      "text/latex": [],
      "text/markdown": [],
      "text/plain": [
       "<0 x 0 matrix>"
      ]
     },
     "metadata": {},
     "output_type": "display_data"
    }
   ],
   "source": [
    "# Creating table that summaris what we did with the NULLs.\n",
    "# every round we change the the variable name, the mechanism (the null is random or not) the\n",
    "# treatment (what we did to this null) \n",
    "\n",
    "missres <- data.frame(variable=NULL,mechanism=NULL,treatment=NULL)\n",
    "missres"
   ]
  },
  {
   "cell_type": "markdown",
   "metadata": {},
   "source": [
    "#### 3.2.3 - Missingess treatment"
   ]
  },
  {
   "cell_type": "code",
   "execution_count": null,
   "metadata": {},
   "outputs": [],
   "source": [
    "df.final <- df\n",
    "## here treat the outliers as described in 3.1.3"
   ]
  },
  {
   "cell_type": "markdown",
   "metadata": {},
   "source": [
    "### 4 - Repeat the EDA to ensure that everything is Ok and the dataset is ready for model generation\n",
    " \n",
    "In this phase, we have to make the following steps:\n",
    "\n",
    "1. Descriptive Statistics\n",
    "2. Data visualization\n"
   ]
  }
 ],
 "metadata": {
  "kernelspec": {
   "display_name": "R",
   "language": "R",
   "name": "ir"
  },
  "language_info": {
   "codemirror_mode": "r",
   "file_extension": ".r",
   "mimetype": "text/x-r-source",
   "name": "R",
   "pygments_lexer": "r",
   "version": "3.6.1"
  }
 },
 "nbformat": 4,
 "nbformat_minor": 2
}
