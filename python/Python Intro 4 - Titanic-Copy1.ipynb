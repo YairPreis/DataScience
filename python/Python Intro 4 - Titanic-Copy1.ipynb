{
 "cells": [
  {
   "cell_type": "markdown",
   "metadata": {},
   "source": [
    "# Understanding the Titanic Survival\n",
    "\n",
    "<img src=\"https://upload.wikimedia.org/wikipedia/commons/6/6e/St%C3%B6wer_Titanic.jpg\" />\n",
    " \n",
    "Wellcome to the Titanic, the largest British ship at the time,  that sank in the North \n",
    "Atlantic Ocean in the early hours of 15 April 1912. \n",
    " \n",
    "In this notebook we will try to undestand the characteristics of the individuals that were at the Titanic, how many survived and who survived.\n",
    "\n",
    "Please download the titanic.csv file from the Google Drive into your computer and load it\n",
    "using Pandas.\n",
    "\n",
    "This dataset is a partial dataset used as the training set on Kaggle's Titanic challenge.\n",
    "\n",
    "###  NOTE: Open this notebook in Jupiter and make a copy of it (File ->  Make a copy). Work on the copied notebook so you can use the original notebook as a reference for the expected results.\n",
    " \n",
    "I recommend you to try to repeat the same analysis we make here using R :-)\n",
    " "
   ]
  },
  {
   "cell_type": "code",
   "execution_count": 14,
   "metadata": {},
   "outputs": [],
   "source": [
    "import numpy as np\n",
    "import pandas as pd\n",
    "import matplotlib.pyplot as plt\n",
    "import seaborn as sns"
   ]
  },
  {
   "cell_type": "code",
   "execution_count": 15,
   "metadata": {},
   "outputs": [],
   "source": [
    "### change this to the path you downloded the file\n",
    "path = \"../data/titanic.csv\""
   ]
  },
  {
   "cell_type": "code",
   "execution_count": 16,
   "metadata": {},
   "outputs": [
    {
     "data": {
      "text/html": [
       "<div>\n",
       "<style scoped>\n",
       "    .dataframe tbody tr th:only-of-type {\n",
       "        vertical-align: middle;\n",
       "    }\n",
       "\n",
       "    .dataframe tbody tr th {\n",
       "        vertical-align: top;\n",
       "    }\n",
       "\n",
       "    .dataframe thead th {\n",
       "        text-align: right;\n",
       "    }\n",
       "</style>\n",
       "<table border=\"1\" class=\"dataframe\">\n",
       "  <thead>\n",
       "    <tr style=\"text-align: right;\">\n",
       "      <th></th>\n",
       "      <th>PassengerId</th>\n",
       "      <th>Survived</th>\n",
       "      <th>Pclass</th>\n",
       "      <th>Name</th>\n",
       "      <th>Sex</th>\n",
       "      <th>Age</th>\n",
       "      <th>SibSp</th>\n",
       "      <th>Parch</th>\n",
       "      <th>Ticket</th>\n",
       "      <th>Fare</th>\n",
       "      <th>Cabin</th>\n",
       "      <th>Embarked</th>\n",
       "    </tr>\n",
       "  </thead>\n",
       "  <tbody>\n",
       "    <tr>\n",
       "      <td>0</td>\n",
       "      <td>1</td>\n",
       "      <td>0</td>\n",
       "      <td>3</td>\n",
       "      <td>Braund, Mr. Owen Harris</td>\n",
       "      <td>male</td>\n",
       "      <td>22.0</td>\n",
       "      <td>1</td>\n",
       "      <td>0</td>\n",
       "      <td>A/5 21171</td>\n",
       "      <td>7.2500</td>\n",
       "      <td>NaN</td>\n",
       "      <td>S</td>\n",
       "    </tr>\n",
       "    <tr>\n",
       "      <td>1</td>\n",
       "      <td>2</td>\n",
       "      <td>1</td>\n",
       "      <td>1</td>\n",
       "      <td>Cumings, Mrs. John Bradley (Florence Briggs Th...</td>\n",
       "      <td>female</td>\n",
       "      <td>38.0</td>\n",
       "      <td>1</td>\n",
       "      <td>0</td>\n",
       "      <td>PC 17599</td>\n",
       "      <td>71.2833</td>\n",
       "      <td>C85</td>\n",
       "      <td>C</td>\n",
       "    </tr>\n",
       "    <tr>\n",
       "      <td>2</td>\n",
       "      <td>3</td>\n",
       "      <td>1</td>\n",
       "      <td>3</td>\n",
       "      <td>Heikkinen, Miss. Laina</td>\n",
       "      <td>female</td>\n",
       "      <td>26.0</td>\n",
       "      <td>0</td>\n",
       "      <td>0</td>\n",
       "      <td>STON/O2. 3101282</td>\n",
       "      <td>7.9250</td>\n",
       "      <td>NaN</td>\n",
       "      <td>S</td>\n",
       "    </tr>\n",
       "    <tr>\n",
       "      <td>3</td>\n",
       "      <td>4</td>\n",
       "      <td>1</td>\n",
       "      <td>1</td>\n",
       "      <td>Futrelle, Mrs. Jacques Heath (Lily May Peel)</td>\n",
       "      <td>female</td>\n",
       "      <td>35.0</td>\n",
       "      <td>1</td>\n",
       "      <td>0</td>\n",
       "      <td>113803</td>\n",
       "      <td>53.1000</td>\n",
       "      <td>C123</td>\n",
       "      <td>S</td>\n",
       "    </tr>\n",
       "    <tr>\n",
       "      <td>4</td>\n",
       "      <td>5</td>\n",
       "      <td>0</td>\n",
       "      <td>3</td>\n",
       "      <td>Allen, Mr. William Henry</td>\n",
       "      <td>male</td>\n",
       "      <td>35.0</td>\n",
       "      <td>0</td>\n",
       "      <td>0</td>\n",
       "      <td>373450</td>\n",
       "      <td>8.0500</td>\n",
       "      <td>NaN</td>\n",
       "      <td>S</td>\n",
       "    </tr>\n",
       "  </tbody>\n",
       "</table>\n",
       "</div>"
      ],
      "text/plain": [
       "   PassengerId  Survived  Pclass  \\\n",
       "0            1         0       3   \n",
       "1            2         1       1   \n",
       "2            3         1       3   \n",
       "3            4         1       1   \n",
       "4            5         0       3   \n",
       "\n",
       "                                                Name     Sex   Age  SibSp  \\\n",
       "0                            Braund, Mr. Owen Harris    male  22.0      1   \n",
       "1  Cumings, Mrs. John Bradley (Florence Briggs Th...  female  38.0      1   \n",
       "2                             Heikkinen, Miss. Laina  female  26.0      0   \n",
       "3       Futrelle, Mrs. Jacques Heath (Lily May Peel)  female  35.0      1   \n",
       "4                           Allen, Mr. William Henry    male  35.0      0   \n",
       "\n",
       "   Parch            Ticket     Fare Cabin Embarked  \n",
       "0      0         A/5 21171   7.2500   NaN        S  \n",
       "1      0          PC 17599  71.2833   C85        C  \n",
       "2      0  STON/O2. 3101282   7.9250   NaN        S  \n",
       "3      0            113803  53.1000  C123        S  \n",
       "4      0            373450   8.0500   NaN        S  "
      ]
     },
     "execution_count": 16,
     "metadata": {},
     "output_type": "execute_result"
    }
   ],
   "source": [
    "### user pandas to read the csv (read_csv())\n",
    "### show the top rows\n",
    "\n",
    "titanic = pd.read_csv(path) \n",
    "titanic.head()"
   ]
  },
  {
   "cell_type": "markdown",
   "metadata": {},
   "source": [
    "#### Columns\n",
    " \n",
    "Those the descriptions of the variables in this dataset:\n",
    "\n",
    "<table>\n",
    "    <tr><th> PassengerId </th><td> type should be integers </td></tr>\n",
    "    <tr><th> Survived </th><td> Survived or Not </td></tr>\n",
    "    <tr><th> Pclass </th><td> Class of Travel </td></tr>\n",
    "    <tr><th> Name </th><td> Name of Passenger </td></tr>\n",
    "    <tr><th> Sex </th><td> Gender </td></tr>\n",
    "    <tr><th> Age </th><td> </td></tr>\n",
    "    <tr><th> SibSp </th><td> Number of Sibling/Spouse abord </td></tr>\n",
    "    <tr><th> Parch </th><td> Number of Parent/Child abord </td></tr>\n",
    "    <tr><th> Ticket </th><td> </td></tr>\n",
    "    <tr><th> Fare </th><td> </td></tr>\n",
    "    <tr><th> Cabin </th><td> </td></tr>\n",
    "    <tr><th> Embarked </th><td> The port in which a passenger has embarked. <br> C - Cherbourg, S - Southampton, Q = Queenstown </td></tr>\n",
    "</table>\n"
   ]
  },
  {
   "cell_type": "markdown",
   "metadata": {},
   "source": [
    "#### Passangers and Survival\n",
    " \n",
    "First, lets check how many passangers are on the Titanic's dataset and how many of them survived?"
   ]
  },
  {
   "cell_type": "code",
   "execution_count": 72,
   "metadata": {},
   "outputs": [
    {
     "ename": "SyntaxError",
     "evalue": "invalid syntax (<ipython-input-72-31b76d9ee181>, line 2)",
     "output_type": "error",
     "traceback": [
      "\u001b[0;36m  File \u001b[0;32m\"<ipython-input-72-31b76d9ee181>\"\u001b[0;36m, line \u001b[0;32m2\u001b[0m\n\u001b[0;31m    titanic.columns()     ????????????????????????\u001b[0m\n\u001b[0m                          ^\u001b[0m\n\u001b[0;31mSyntaxError\u001b[0m\u001b[0;31m:\u001b[0m invalid syntax\n"
     ]
    }
   ],
   "source": [
    "# first we check the exthat name of the columns:\n",
    "titanic.columns()     ????????????????????????"
   ]
  },
  {
   "cell_type": "code",
   "execution_count": 1,
   "metadata": {},
   "outputs": [
    {
     "ename": "NameError",
     "evalue": "name 'titanic' is not defined",
     "output_type": "error",
     "traceback": [
      "\u001b[1;31m---------------------------------------------------------------------------\u001b[0m",
      "\u001b[1;31mNameError\u001b[0m                                 Traceback (most recent call last)",
      "\u001b[1;32m<ipython-input-1-128f25a12cd9>\u001b[0m in \u001b[0;36m<module>\u001b[1;34m\u001b[0m\n\u001b[0;32m      1\u001b[0m \u001b[1;31m# two diffirent way to check the passengers\u001b[0m\u001b[1;33m\u001b[0m\u001b[1;33m\u001b[0m\u001b[1;33m\u001b[0m\u001b[0m\n\u001b[0;32m      2\u001b[0m \u001b[1;31m#passangers = len(titanic)\u001b[0m\u001b[1;33m\u001b[0m\u001b[1;33m\u001b[0m\u001b[1;33m\u001b[0m\u001b[0m\n\u001b[1;32m----> 3\u001b[1;33m \u001b[0mpassangers\u001b[0m \u001b[1;33m=\u001b[0m \u001b[0mtitanic\u001b[0m\u001b[1;33m.\u001b[0m\u001b[0mshape\u001b[0m\u001b[1;33m[\u001b[0m\u001b[1;36m0\u001b[0m\u001b[1;33m]\u001b[0m\u001b[1;33m\u001b[0m\u001b[1;33m\u001b[0m\u001b[0m\n\u001b[0m\u001b[0;32m      4\u001b[0m \u001b[0msurvived\u001b[0m \u001b[1;33m=\u001b[0m \u001b[0msum\u001b[0m\u001b[1;33m(\u001b[0m\u001b[0mtitanic\u001b[0m\u001b[1;33m[\u001b[0m\u001b[1;34m'Survived'\u001b[0m\u001b[1;33m]\u001b[0m\u001b[1;33m)\u001b[0m\u001b[1;33m\u001b[0m\u001b[1;33m\u001b[0m\u001b[0m\n\u001b[0;32m      5\u001b[0m \u001b[1;33m\u001b[0m\u001b[0m\n",
      "\u001b[1;31mNameError\u001b[0m: name 'titanic' is not defined"
     ]
    }
   ],
   "source": [
    "# two diffirent way to check the passengers\n",
    "#passangers = len(titanic)\n",
    "passangers = titanic.shape[0]\n",
    "survived = sum(titanic['Survived'])\n",
    "\n",
    "print(\"We have %d passangers but only %d of them survived (%f%%)\" % (passangers, survived, (survived/passangers*100)))\n",
    "\n"
   ]
  },
  {
   "cell_type": "markdown",
   "metadata": {},
   "source": [
    "Answer: We have 891 passangers but only 342 of them survived (38.383838%)"
   ]
  },
  {
   "cell_type": "code",
   "execution_count": 10,
   "metadata": {},
   "outputs": [
    {
     "data": {
      "text/plain": [
       "[1, 2, 3, 4]"
      ]
     },
     "execution_count": 10,
     "metadata": {},
     "output_type": "execute_result"
    }
   ],
   "source": [
    "a = [[1,2,3],[4,5,6],[7,8,9,10]]\n",
    "a\n",
    "b =[1,2,3,4]\n",
    "b"
   ]
  },
  {
   "cell_type": "code",
   "execution_count": 12,
   "metadata": {},
   "outputs": [
    {
     "data": {
      "text/plain": [
       "[6, 15, 34]"
      ]
     },
     "execution_count": 12,
     "metadata": {},
     "output_type": "execute_result"
    }
   ],
   "source": [
    "c = list(map(sum,a))\n",
    "c"
   ]
  },
  {
   "cell_type": "markdown",
   "metadata": {},
   "source": [
    "#### Missing values\n",
    " \n",
    "How many missing values are in the dataset?"
   ]
  },
  {
   "cell_type": "code",
   "execution_count": 19,
   "metadata": {},
   "outputs": [
    {
     "data": {
      "text/plain": [
       "PassengerId      0\n",
       "Survived         0\n",
       "Pclass           0\n",
       "Name             0\n",
       "Sex              0\n",
       "Age            177\n",
       "SibSp            0\n",
       "Parch            0\n",
       "Ticket           0\n",
       "Fare             0\n",
       "Cabin          687\n",
       "Embarked         2\n",
       "dtype: int64"
      ]
     },
     "execution_count": 19,
     "metadata": {},
     "output_type": "execute_result"
    }
   ],
   "source": [
    "### use the function isnull() and the function sum()  \n",
    "# isnull or isNAN  is depends on the python virgion we have.\n",
    "titanic.isnull().sum()"
   ]
  },
  {
   "cell_type": "markdown",
   "metadata": {},
   "source": [
    "Answer: The only variables having missing values are: Age (177), Cabin (687) and Emberked (2)"
   ]
  },
  {
   "cell_type": "markdown",
   "metadata": {},
   "source": [
    "#### Gender distribution and survival\n",
    "\n",
    "How distributed the survivors by gender?"
   ]
  },
  {
   "cell_type": "code",
   "execution_count": 215,
   "metadata": {},
   "outputs": [
    {
     "data": {
      "text/html": [
       "<div>\n",
       "<style>\n",
       "    .dataframe thead tr:only-child th {\n",
       "        text-align: right;\n",
       "    }\n",
       "\n",
       "    .dataframe thead th {\n",
       "        text-align: left;\n",
       "    }\n",
       "\n",
       "    .dataframe tbody tr th {\n",
       "        vertical-align: top;\n",
       "    }\n",
       "</style>\n",
       "<table border=\"1\" class=\"dataframe\">\n",
       "  <thead>\n",
       "    <tr>\n",
       "      <th></th>\n",
       "      <th colspan=\"3\" halign=\"left\">Survived</th>\n",
       "    </tr>\n",
       "    <tr>\n",
       "      <th></th>\n",
       "      <th>count</th>\n",
       "      <th>sum</th>\n",
       "      <th>mean</th>\n",
       "    </tr>\n",
       "    <tr>\n",
       "      <th>Sex</th>\n",
       "      <th></th>\n",
       "      <th></th>\n",
       "      <th></th>\n",
       "    </tr>\n",
       "  </thead>\n",
       "  <tbody>\n",
       "    <tr>\n",
       "      <th>female</th>\n",
       "      <td>314</td>\n",
       "      <td>233</td>\n",
       "      <td>0.742038</td>\n",
       "    </tr>\n",
       "    <tr>\n",
       "      <th>male</th>\n",
       "      <td>577</td>\n",
       "      <td>109</td>\n",
       "      <td>0.188908</td>\n",
       "    </tr>\n",
       "  </tbody>\n",
       "</table>\n",
       "</div>"
      ],
      "text/plain": [
       "       Survived               \n",
       "          count  sum      mean\n",
       "Sex                           \n",
       "female      314  233  0.742038\n",
       "male        577  109  0.188908"
      ]
     },
     "execution_count": 215,
     "metadata": {},
     "output_type": "execute_result"
    }
   ],
   "source": [
    "## use groupby() and agg() to get the table bellow\n",
    "titanic.groupby('Sex').agg({'Survived':['count',sum,'mean']})"
   ]
  },
  {
   "cell_type": "markdown",
   "metadata": {},
   "source": [
    "Survived\n",
    "\n",
    "Sex\t\tcount\tsum\tmean\n",
    "female\t  314\t233\t0.742038\n",
    "male\t  577\t109\t0.188908\n",
    "\n"
   ]
  },
  {
   "cell_type": "markdown",
   "metadata": {},
   "source": [
    "#### Age distribution and survival\n",
    "\n",
    "Plot the Age frequencies of the passangers. (use an histogram)\n"
   ]
  },
  {
   "cell_type": "code",
   "execution_count": 216,
   "metadata": {},
   "outputs": [
    {
     "data": {
      "text/plain": [
       "count    714.000000\n",
       "mean      29.699118\n",
       "std       14.526497\n",
       "min        0.420000\n",
       "25%       20.125000\n",
       "50%       28.000000\n",
       "75%       38.000000\n",
       "max       80.000000\n",
       "Name: Age, dtype: float64"
      ]
     },
     "execution_count": 216,
     "metadata": {},
     "output_type": "execute_result"
    }
   ],
   "source": [
    "titanic['Age'].describe()"
   ]
  },
  {
   "cell_type": "code",
   "execution_count": 20,
   "metadata": {
    "scrolled": true
   },
   "outputs": [
    {
     "data": {
      "image/png": "[encoded data removed]",
      "text/plain": [
       "<Figure size 432x288 with 1 Axes>"
      ]
     },
     "metadata": {
      "needs_background": "light"
     },
     "output_type": "display_data"
    }
   ],
   "source": [
    "### As there are null values in Age, we have to drop those nulls adding the .dropna() function !\n",
    "fig, ax = plt.subplots()\n",
    "ax.hist(x=titanic['Age'].dropna())  #dropna remove the NA values\n",
    "plt.show()"
   ]
  },
  {
   "cell_type": "code",
   "execution_count": 30,
   "metadata": {},
   "outputs": [
    {
     "data": {
      "text/plain": [
       "(0.0, 100.0)"
      ]
     },
     "execution_count": 30,
     "metadata": {},
     "output_type": "execute_result"
    },
    {
     "data": {
      "image/png": "[encoded data removed]",
      "text/plain": [
       "<Figure size 432x288 with 1 Axes>"
      ]
     },
     "metadata": {
      "needs_background": "light"
     },
     "output_type": "display_data"
    }
   ],
   "source": [
    "### A more sophisticated example...\n",
    "n, bins, patches = plt.hist(x=titanic['Age'].dropna(), bins='auto', color='#0504aa',alpha=0.7, rwidth=0.85)\n",
    "plt.grid(axis='y', alpha=0.75)\n",
    "plt.xlabel('Age')\n",
    "plt.ylabel('Frequency')\n",
    "plt.title('Age Distribution of the Titanic Passengers')\n",
    "maxfreq = n.max()\n",
    "# Set a clean upper y-axis limit.\n",
    "plt.ylim(ymax=np.ceil(maxfreq / 10) * 10 if maxfreq % 10 else maxfreq + 10)\n"
   ]
  },
  {
   "cell_type": "code",
   "execution_count": 26,
   "metadata": {
    "scrolled": true
   },
   "outputs": [
    {
     "data": {
      "text/plain": [
       "<matplotlib.axes._subplots.AxesSubplot at 0x7fa8db409eb8>"
      ]
     },
     "execution_count": 26,
     "metadata": {},
     "output_type": "execute_result"
    },
    {
     "data": {
      "image/png": "[encoded data removed]",
      "text/plain": [
       "<Figure size 432x288 with 1 Axes>"
      ]
     },
     "metadata": {
      "needs_background": "light"
     },
     "output_type": "display_data"
    }
   ],
   "source": [
    "### using seaborn... easier to create...\n",
    "sns.distplot(titanic['Age'].dropna())"
   ]
  },
  {
   "cell_type": "code",
   "execution_count": 28,
   "metadata": {},
   "outputs": [
    {
     "data": {
      "text/plain": [
       "<matplotlib.axes._subplots.AxesSubplot at 0x7fa8db281668>"
      ]
     },
     "execution_count": 28,
     "metadata": {},
     "output_type": "execute_result"
    },
    {
     "data": {
      "image/png": "[encoded data removed]",
      "text/plain": [
       "<Figure size 432x288 with 1 Axes>"
      ]
     },
     "metadata": {
      "needs_background": "light"
     },
     "output_type": "display_data"
    }
   ],
   "source": [
    "# different syntax to the same. the \"True\" is the brirat mehdal, thats why we didnt have to use it\n",
    "### using seaborn... easier to create...\n",
    "sns.distplot(titanic['Age'].dropna(),kde=True)"
   ]
  },
  {
   "cell_type": "markdown",
   "metadata": {},
   "source": [
    "\n",
    "Create a new variable that will divide the passangers in four age categories:\n",
    "\n",
    "- Babies: 0-5\n",
    "- Children: 6-12 years old\n",
    "- Young: 13-17 years old\n",
    "- Adult: 18-59 years old\n",
    "- Older: 60+ years old\n",
    "\n",
    "How many (number and percent) survived on each age group? (We will use the mean function as the percentage)\n"
   ]
  },
  {
   "cell_type": "code",
   "execution_count": 51,
   "metadata": {},
   "outputs": [
    {
     "data": {
      "text/plain": [
       "0       18-59\n",
       "1       18-59\n",
       "2       18-59\n",
       "3       18-59\n",
       "4       18-59\n",
       "        ...  \n",
       "886     18-59\n",
       "887     18-59\n",
       "888    No age\n",
       "889     18-59\n",
       "890     18-59\n",
       "Name: AgeGroup, Length: 891, dtype: object"
      ]
     },
     "execution_count": 51,
     "metadata": {},
     "output_type": "execute_result"
    }
   ],
   "source": [
    "### create the categorical variables\n",
    "titanic['AgeGroup'] = '18-59'\n",
    "titanic.loc[(titanic['Age'] < 6),'AgeGroup'] = '0 - 5'\n",
    "titanic.loc[(titanic['Age'] >= 6) & (titanic['Age'] < 13),'AgeGroup'] = '6 - 12'\n",
    "titanic.loc[(titanic['Age'] >= 13) & (titanic['Age'] < 18),'AgeGroup'] = '13 - 17'\n",
    "titanic.loc[(titanic['Age'] > 59),'AgeGroup'] = '60+'\n",
    "titanic.loc[(titanic['Age'].isnull()),'AgeGroup'] = 'No age'\n",
    "\n",
    "titanic.AgeGroup"
   ]
  },
  {
   "cell_type": "code",
   "execution_count": 57,
   "metadata": {},
   "outputs": [
    {
     "data": {
      "text/html": [
       "<div>\n",
       "<style scoped>\n",
       "    .dataframe tbody tr th:only-of-type {\n",
       "        vertical-align: middle;\n",
       "    }\n",
       "\n",
       "    .dataframe tbody tr th {\n",
       "        vertical-align: top;\n",
       "    }\n",
       "\n",
       "    .dataframe thead tr th {\n",
       "        text-align: left;\n",
       "    }\n",
       "\n",
       "    .dataframe thead tr:last-of-type th {\n",
       "        text-align: right;\n",
       "    }\n",
       "</style>\n",
       "<table border=\"1\" class=\"dataframe\">\n",
       "  <thead>\n",
       "    <tr>\n",
       "      <th></th>\n",
       "      <th colspan=\"3\" halign=\"left\">Survived</th>\n",
       "    </tr>\n",
       "    <tr>\n",
       "      <th></th>\n",
       "      <th>count</th>\n",
       "      <th>sum</th>\n",
       "      <th>mean</th>\n",
       "    </tr>\n",
       "    <tr>\n",
       "      <th>AgeGroup</th>\n",
       "      <th></th>\n",
       "      <th></th>\n",
       "      <th></th>\n",
       "    </tr>\n",
       "  </thead>\n",
       "  <tbody>\n",
       "    <tr>\n",
       "      <td>0 - 5</td>\n",
       "      <td>44</td>\n",
       "      <td>31</td>\n",
       "      <td>0.704545</td>\n",
       "    </tr>\n",
       "    <tr>\n",
       "      <td>13 - 17</td>\n",
       "      <td>44</td>\n",
       "      <td>21</td>\n",
       "      <td>0.477273</td>\n",
       "    </tr>\n",
       "    <tr>\n",
       "      <td>18-59</td>\n",
       "      <td>575</td>\n",
       "      <td>222</td>\n",
       "      <td>0.386087</td>\n",
       "    </tr>\n",
       "    <tr>\n",
       "      <td>6 - 12</td>\n",
       "      <td>25</td>\n",
       "      <td>9</td>\n",
       "      <td>0.360000</td>\n",
       "    </tr>\n",
       "    <tr>\n",
       "      <td>60+</td>\n",
       "      <td>26</td>\n",
       "      <td>7</td>\n",
       "      <td>0.269231</td>\n",
       "    </tr>\n",
       "    <tr>\n",
       "      <td>No age</td>\n",
       "      <td>177</td>\n",
       "      <td>52</td>\n",
       "      <td>0.293785</td>\n",
       "    </tr>\n",
       "  </tbody>\n",
       "</table>\n",
       "</div>"
      ],
      "text/plain": [
       "         Survived               \n",
       "            count  sum      mean\n",
       "AgeGroup                        \n",
       "0 - 5          44   31  0.704545\n",
       "13 - 17        44   21  0.477273\n",
       "18-59         575  222  0.386087\n",
       "6 - 12         25    9  0.360000\n",
       "60+            26    7  0.269231\n",
       "No age        177   52  0.293785"
      ]
     },
     "execution_count": 57,
     "metadata": {},
     "output_type": "execute_result"
    }
   ],
   "source": [
    "## use groupby() and agg() to get the table bellow\n",
    "titanic.groupby('AgeGroup').agg({'Survived':['count',sum,'mean']})"
   ]
  },
  {
   "cell_type": "markdown",
   "metadata": {},
   "source": [
    "\tSurvived\n",
    "\n",
    "AgeGroup count\tsum\tmean\t\t\t\n",
    "0-5\t      44\t31\t0.704545\n",
    "6-12\t  25\t9\t0.360000\n",
    "13-17\t  44\t21\t0.477273\n",
    "18-59\t  752\t274\t0.364362\n",
    "60+\t      26\t7\t0.269231"
   ]
  },
  {
   "cell_type": "markdown",
   "metadata": {},
   "source": [
    "#### Age-Gender Survival\n",
    "\n",
    "Where there differences on survival by age group and gender?"
   ]
  },
  {
   "cell_type": "code",
   "execution_count": 71,
   "metadata": {},
   "outputs": [
    {
     "data": {
      "text/html": [
       "<div>\n",
       "<style scoped>\n",
       "    .dataframe tbody tr th:only-of-type {\n",
       "        vertical-align: middle;\n",
       "    }\n",
       "\n",
       "    .dataframe tbody tr th {\n",
       "        vertical-align: top;\n",
       "    }\n",
       "\n",
       "    .dataframe thead tr th {\n",
       "        text-align: left;\n",
       "    }\n",
       "\n",
       "    .dataframe thead tr:last-of-type th {\n",
       "        text-align: right;\n",
       "    }\n",
       "</style>\n",
       "<table border=\"1\" class=\"dataframe\">\n",
       "  <thead>\n",
       "    <tr>\n",
       "      <th></th>\n",
       "      <th></th>\n",
       "      <th colspan=\"3\" halign=\"left\">Survived</th>\n",
       "    </tr>\n",
       "    <tr>\n",
       "      <th></th>\n",
       "      <th></th>\n",
       "      <th>count</th>\n",
       "      <th>sum</th>\n",
       "      <th>mean</th>\n",
       "    </tr>\n",
       "    <tr>\n",
       "      <th>Sex</th>\n",
       "      <th>AgeGroup</th>\n",
       "      <th></th>\n",
       "      <th></th>\n",
       "      <th></th>\n",
       "    </tr>\n",
       "  </thead>\n",
       "  <tbody>\n",
       "    <tr>\n",
       "      <td rowspan=\"6\" valign=\"top\">female</td>\n",
       "      <td>0 - 5</td>\n",
       "      <td>21</td>\n",
       "      <td>16</td>\n",
       "      <td>0.761905</td>\n",
       "    </tr>\n",
       "    <tr>\n",
       "      <td>13 - 17</td>\n",
       "      <td>23</td>\n",
       "      <td>19</td>\n",
       "      <td>0.826087</td>\n",
       "    </tr>\n",
       "    <tr>\n",
       "      <td>18-59</td>\n",
       "      <td>202</td>\n",
       "      <td>155</td>\n",
       "      <td>0.767327</td>\n",
       "    </tr>\n",
       "    <tr>\n",
       "      <td>6 - 12</td>\n",
       "      <td>11</td>\n",
       "      <td>3</td>\n",
       "      <td>0.272727</td>\n",
       "    </tr>\n",
       "    <tr>\n",
       "      <td>60+</td>\n",
       "      <td>4</td>\n",
       "      <td>4</td>\n",
       "      <td>1.000000</td>\n",
       "    </tr>\n",
       "    <tr>\n",
       "      <td>No age</td>\n",
       "      <td>53</td>\n",
       "      <td>36</td>\n",
       "      <td>0.679245</td>\n",
       "    </tr>\n",
       "    <tr>\n",
       "      <td rowspan=\"6\" valign=\"top\">male</td>\n",
       "      <td>0 - 5</td>\n",
       "      <td>23</td>\n",
       "      <td>15</td>\n",
       "      <td>0.652174</td>\n",
       "    </tr>\n",
       "    <tr>\n",
       "      <td>13 - 17</td>\n",
       "      <td>21</td>\n",
       "      <td>2</td>\n",
       "      <td>0.095238</td>\n",
       "    </tr>\n",
       "    <tr>\n",
       "      <td>18-59</td>\n",
       "      <td>373</td>\n",
       "      <td>67</td>\n",
       "      <td>0.179625</td>\n",
       "    </tr>\n",
       "    <tr>\n",
       "      <td>6 - 12</td>\n",
       "      <td>14</td>\n",
       "      <td>6</td>\n",
       "      <td>0.428571</td>\n",
       "    </tr>\n",
       "    <tr>\n",
       "      <td>60+</td>\n",
       "      <td>22</td>\n",
       "      <td>3</td>\n",
       "      <td>0.136364</td>\n",
       "    </tr>\n",
       "    <tr>\n",
       "      <td>No age</td>\n",
       "      <td>124</td>\n",
       "      <td>16</td>\n",
       "      <td>0.129032</td>\n",
       "    </tr>\n",
       "  </tbody>\n",
       "</table>\n",
       "</div>"
      ],
      "text/plain": [
       "                Survived               \n",
       "                   count  sum      mean\n",
       "Sex    AgeGroup                        \n",
       "female 0 - 5          21   16  0.761905\n",
       "       13 - 17        23   19  0.826087\n",
       "       18-59         202  155  0.767327\n",
       "       6 - 12         11    3  0.272727\n",
       "       60+             4    4  1.000000\n",
       "       No age         53   36  0.679245\n",
       "male   0 - 5          23   15  0.652174\n",
       "       13 - 17        21    2  0.095238\n",
       "       18-59         373   67  0.179625\n",
       "       6 - 12         14    6  0.428571\n",
       "       60+            22    3  0.136364\n",
       "       No age        124   16  0.129032"
      ]
     },
     "execution_count": 71,
     "metadata": {},
     "output_type": "execute_result"
    }
   ],
   "source": [
    "## use groupby() and agg() to get the table bellow\n",
    "titanic.groupby(['Sex','AgeGroup']).agg({'Survived':['count',sum,'mean']})\n"
   ]
  },
  {
   "cell_type": "markdown",
   "metadata": {},
   "source": [
    "Survived\n",
    "\n",
    "Sex\t  AgeGroup count\tsum\tmean\t\t\n",
    "female\t0-5\t    21\t    16\t0.761905\n",
    "        6-12\t11\t    3\t0.272727\n",
    "        13-17\t23\t    19\t0.826087\n",
    "        18-59\t255\t    191\t0.749020\n",
    "        60+\t    4\t    4\t1.000000\n",
    "male\t0-5\t    23\t    15\t0.652174\n",
    "        6-12\t14\t    6\t0.428571\n",
    "        13-17\t21\t    2\t0.095238\n",
    "        18-59\t497\t    83\t0.167002\n",
    "        60+\t    22\t    3\t0.136364"
   ]
  },
  {
   "cell_type": "markdown",
   "metadata": {},
   "source": [
    "#### Passenger Class and Survival\n",
    "\n",
    "Was there any difference in the survival among passangers by their ticket class (Pclass) ?"
   ]
  },
  {
   "cell_type": "code",
   "execution_count": 224,
   "metadata": {},
   "outputs": [
    {
     "data": {
      "text/html": [
       "<div>\n",
       "<style>\n",
       "    .dataframe thead tr:only-child th {\n",
       "        text-align: right;\n",
       "    }\n",
       "\n",
       "    .dataframe thead th {\n",
       "        text-align: left;\n",
       "    }\n",
       "\n",
       "    .dataframe tbody tr th {\n",
       "        vertical-align: top;\n",
       "    }\n",
       "</style>\n",
       "<table border=\"1\" class=\"dataframe\">\n",
       "  <thead>\n",
       "    <tr>\n",
       "      <th></th>\n",
       "      <th colspan=\"3\" halign=\"left\">Survived</th>\n",
       "    </tr>\n",
       "    <tr>\n",
       "      <th></th>\n",
       "      <th>count</th>\n",
       "      <th>sum</th>\n",
       "      <th>mean</th>\n",
       "    </tr>\n",
       "    <tr>\n",
       "      <th>Pclass</th>\n",
       "      <th></th>\n",
       "      <th></th>\n",
       "      <th></th>\n",
       "    </tr>\n",
       "  </thead>\n",
       "  <tbody>\n",
       "    <tr>\n",
       "      <th>1</th>\n",
       "      <td>216</td>\n",
       "      <td>136</td>\n",
       "      <td>0.629630</td>\n",
       "    </tr>\n",
       "    <tr>\n",
       "      <th>2</th>\n",
       "      <td>184</td>\n",
       "      <td>87</td>\n",
       "      <td>0.472826</td>\n",
       "    </tr>\n",
       "    <tr>\n",
       "      <th>3</th>\n",
       "      <td>491</td>\n",
       "      <td>119</td>\n",
       "      <td>0.242363</td>\n",
       "    </tr>\n",
       "  </tbody>\n",
       "</table>\n",
       "</div>"
      ],
      "text/plain": [
       "       Survived               \n",
       "          count  sum      mean\n",
       "Pclass                        \n",
       "1           216  136  0.629630\n",
       "2           184   87  0.472826\n",
       "3           491  119  0.242363"
      ]
     },
     "execution_count": 224,
     "metadata": {},
     "output_type": "execute_result"
    }
   ],
   "source": [
    "## use groupby() and agg() to get the table bellow\n",
    "titanic.groupby(...).agg(...)"
   ]
  },
  {
   "cell_type": "markdown",
   "metadata": {},
   "source": [
    "Survived\n",
    "\n",
    "Pclass\tcount\tsum\tmean\t\t\n",
    "    1\t216\t    136\t0.629630\n",
    "    2\t184\t    87\t0.472826\n",
    "    3\t491\t    119\t0.242363\n"
   ]
  },
  {
   "cell_type": "markdown",
   "metadata": {},
   "source": [
    "#### Traveling alone vs with family\n",
    "\n",
    "Who survived more, individuals that traveled alone or those who traveled with their families?"
   ]
  },
  {
   "cell_type": "code",
   "execution_count": 225,
   "metadata": {},
   "outputs": [
    {
     "data": {
      "text/html": [
       "<div>\n",
       "<style>\n",
       "    .dataframe thead tr:only-child th {\n",
       "        text-align: right;\n",
       "    }\n",
       "\n",
       "    .dataframe thead th {\n",
       "        text-align: left;\n",
       "    }\n",
       "\n",
       "    .dataframe tbody tr th {\n",
       "        vertical-align: top;\n",
       "    }\n",
       "</style>\n",
       "<table border=\"1\" class=\"dataframe\">\n",
       "  <thead>\n",
       "    <tr>\n",
       "      <th></th>\n",
       "      <th colspan=\"3\" halign=\"left\">Survived</th>\n",
       "    </tr>\n",
       "    <tr>\n",
       "      <th></th>\n",
       "      <th>count</th>\n",
       "      <th>sum</th>\n",
       "      <th>mean</th>\n",
       "    </tr>\n",
       "    <tr>\n",
       "      <th>TravelAlone</th>\n",
       "      <th></th>\n",
       "      <th></th>\n",
       "      <th></th>\n",
       "    </tr>\n",
       "  </thead>\n",
       "  <tbody>\n",
       "    <tr>\n",
       "      <th>0</th>\n",
       "      <td>354</td>\n",
       "      <td>179</td>\n",
       "      <td>0.505650</td>\n",
       "    </tr>\n",
       "    <tr>\n",
       "      <th>1</th>\n",
       "      <td>537</td>\n",
       "      <td>163</td>\n",
       "      <td>0.303538</td>\n",
       "    </tr>\n",
       "  </tbody>\n",
       "</table>\n",
       "</div>"
      ],
      "text/plain": [
       "            Survived               \n",
       "               count  sum      mean\n",
       "TravelAlone                        \n",
       "0                354  179  0.505650\n",
       "1                537  163  0.303538"
      ]
     },
     "execution_count": 225,
     "metadata": {},
     "output_type": "execute_result"
    }
   ],
   "source": [
    "# first we have to determine who was alone and who was in family. Use the variables SibSp and Parch\n",
    "titanic['TravelAlone'] = 0\n",
    "...\n",
    "\n",
    "\n",
    "## then use groupby() and agg() to get the table bellow\n",
    "titanic.groupby(...).agg(...)"
   ]
  },
  {
   "cell_type": "markdown",
   "metadata": {},
   "source": [
    "Survived\n",
    "\n",
    "TravelAlone\tcount\tsum\tmean\t\t\n",
    "    0\t     354\t179\t0.505650\n",
    "    1\t     537\t163\t0.303538"
   ]
  },
  {
   "cell_type": "markdown",
   "metadata": {},
   "source": [
    "#### Embarking port and survival\n",
    "\n",
    "Was there any difference in survival related to the embarking port?"
   ]
  },
  {
   "cell_type": "code",
   "execution_count": 226,
   "metadata": {},
   "outputs": [
    {
     "data": {
      "text/html": [
       "<div>\n",
       "<style>\n",
       "    .dataframe thead tr:only-child th {\n",
       "        text-align: right;\n",
       "    }\n",
       "\n",
       "    .dataframe thead th {\n",
       "        text-align: left;\n",
       "    }\n",
       "\n",
       "    .dataframe tbody tr th {\n",
       "        vertical-align: top;\n",
       "    }\n",
       "</style>\n",
       "<table border=\"1\" class=\"dataframe\">\n",
       "  <thead>\n",
       "    <tr>\n",
       "      <th></th>\n",
       "      <th colspan=\"3\" halign=\"left\">Survived</th>\n",
       "    </tr>\n",
       "    <tr>\n",
       "      <th></th>\n",
       "      <th>count</th>\n",
       "      <th>sum</th>\n",
       "      <th>mean</th>\n",
       "    </tr>\n",
       "    <tr>\n",
       "      <th>Embarked</th>\n",
       "      <th></th>\n",
       "      <th></th>\n",
       "      <th></th>\n",
       "    </tr>\n",
       "  </thead>\n",
       "  <tbody>\n",
       "    <tr>\n",
       "      <th>C</th>\n",
       "      <td>168</td>\n",
       "      <td>93</td>\n",
       "      <td>0.553571</td>\n",
       "    </tr>\n",
       "    <tr>\n",
       "      <th>Q</th>\n",
       "      <td>77</td>\n",
       "      <td>30</td>\n",
       "      <td>0.389610</td>\n",
       "    </tr>\n",
       "    <tr>\n",
       "      <th>S</th>\n",
       "      <td>644</td>\n",
       "      <td>217</td>\n",
       "      <td>0.336957</td>\n",
       "    </tr>\n",
       "  </tbody>\n",
       "</table>\n",
       "</div>"
      ],
      "text/plain": [
       "         Survived               \n",
       "            count  sum      mean\n",
       "Embarked                        \n",
       "C             168   93  0.553571\n",
       "Q              77   30  0.389610\n",
       "S             644  217  0.336957"
      ]
     },
     "execution_count": 226,
     "metadata": {},
     "output_type": "execute_result"
    }
   ],
   "source": [
    "## use groupby() and agg() to get the table bellow\n",
    "titanic.groupby(...).agg(...)"
   ]
  },
  {
   "cell_type": "markdown",
   "metadata": {},
   "source": [
    "Survived\n",
    "\n",
    "Embarked  count\tsum\tmean\t\t\t\n",
    "    C\t   168\t93\t0.553571\n",
    "    Q\t    77\t30\t0.389610\n",
    "    S\t   644\t217\t0.336957"
   ]
  },
  {
   "cell_type": "markdown",
   "metadata": {},
   "source": [
    "#### Paid fair and survival\n",
    "\n",
    "What was the fare range paid by the passangers?\n"
   ]
  },
  {
   "cell_type": "code",
   "execution_count": 227,
   "metadata": {},
   "outputs": [
    {
     "data": {
      "image/png": "[encoded data removed]",
      "text/plain": [
       "<Figure size 432x288 with 1 Axes>"
      ]
     },
     "metadata": {},
     "output_type": "display_data"
    }
   ],
   "source": [
    "#### use describe() to get the summary of the Fare variable\n",
    "...\n",
    "\n",
    "### draw an histogram for the Fare variable. \n",
    "\n"
   ]
  },
  {
   "cell_type": "markdown",
   "metadata": {},
   "source": [
    "How many individuals didn't paid for their ticket?\n",
    " \n",
    "Does this affected their survival?"
   ]
  },
  {
   "cell_type": "code",
   "execution_count": 228,
   "metadata": {},
   "outputs": [
    {
     "name": "stdout",
     "output_type": "stream",
     "text": [
      "15\n"
     ]
    }
   ],
   "source": [
    "### get the number of those with a Fare == 0\n",
    "..."
   ]
  },
  {
   "cell_type": "code",
   "execution_count": 229,
   "metadata": {},
   "outputs": [
    {
     "data": {
      "text/html": [
       "<div>\n",
       "<style>\n",
       "    .dataframe thead tr:only-child th {\n",
       "        text-align: right;\n",
       "    }\n",
       "\n",
       "    .dataframe thead th {\n",
       "        text-align: left;\n",
       "    }\n",
       "\n",
       "    .dataframe tbody tr th {\n",
       "        vertical-align: top;\n",
       "    }\n",
       "</style>\n",
       "<table border=\"1\" class=\"dataframe\">\n",
       "  <thead>\n",
       "    <tr>\n",
       "      <th></th>\n",
       "      <th colspan=\"3\" halign=\"left\">Survived</th>\n",
       "    </tr>\n",
       "    <tr>\n",
       "      <th></th>\n",
       "      <th>count</th>\n",
       "      <th>sum</th>\n",
       "      <th>mean</th>\n",
       "    </tr>\n",
       "    <tr>\n",
       "      <th>Gratis</th>\n",
       "      <th></th>\n",
       "      <th></th>\n",
       "      <th></th>\n",
       "    </tr>\n",
       "  </thead>\n",
       "  <tbody>\n",
       "    <tr>\n",
       "      <th>0</th>\n",
       "      <td>876</td>\n",
       "      <td>341</td>\n",
       "      <td>0.389269</td>\n",
       "    </tr>\n",
       "    <tr>\n",
       "      <th>1</th>\n",
       "      <td>15</td>\n",
       "      <td>1</td>\n",
       "      <td>0.066667</td>\n",
       "    </tr>\n",
       "  </tbody>\n",
       "</table>\n",
       "</div>"
      ],
      "text/plain": [
       "       Survived               \n",
       "          count  sum      mean\n",
       "Gratis                        \n",
       "0           876  341  0.389269\n",
       "1            15    1  0.066667"
      ]
     },
     "execution_count": 229,
     "metadata": {},
     "output_type": "execute_result"
    }
   ],
   "source": [
    "### Create a new variable called Gratis and give 1 to passangers who didn't pay\n",
    "titanic['Gratis'] = 0\n",
    "....\n",
    "\n",
    "## then use groupby() and agg() to get the table bellow\n",
    "..."
   ]
  },
  {
   "cell_type": "markdown",
   "metadata": {},
   "source": [
    "Where there differences in fare rates among the same ticket classes? \n",
    " \n",
    "If the answer was yes, does those differences affected the survival of individuals?"
   ]
  },
  {
   "cell_type": "code",
   "execution_count": 230,
   "metadata": {},
   "outputs": [
    {
     "data": {
      "text/html": [
       "<div>\n",
       "<style>\n",
       "    .dataframe thead tr:only-child th {\n",
       "        text-align: right;\n",
       "    }\n",
       "\n",
       "    .dataframe thead th {\n",
       "        text-align: left;\n",
       "    }\n",
       "\n",
       "    .dataframe tbody tr th {\n",
       "        vertical-align: top;\n",
       "    }\n",
       "</style>\n",
       "<table border=\"1\" class=\"dataframe\">\n",
       "  <thead>\n",
       "    <tr style=\"text-align: right;\">\n",
       "      <th></th>\n",
       "      <th>count</th>\n",
       "      <th>mean</th>\n",
       "      <th>std</th>\n",
       "      <th>min</th>\n",
       "      <th>25%</th>\n",
       "      <th>50%</th>\n",
       "      <th>75%</th>\n",
       "      <th>max</th>\n",
       "    </tr>\n",
       "    <tr>\n",
       "      <th>Pclass</th>\n",
       "      <th></th>\n",
       "      <th></th>\n",
       "      <th></th>\n",
       "      <th></th>\n",
       "      <th></th>\n",
       "      <th></th>\n",
       "      <th></th>\n",
       "      <th></th>\n",
       "    </tr>\n",
       "  </thead>\n",
       "  <tbody>\n",
       "    <tr>\n",
       "      <th>1</th>\n",
       "      <td>216.0</td>\n",
       "      <td>84.154687</td>\n",
       "      <td>78.380373</td>\n",
       "      <td>0.0</td>\n",
       "      <td>30.92395</td>\n",
       "      <td>60.2875</td>\n",
       "      <td>93.5</td>\n",
       "      <td>512.3292</td>\n",
       "    </tr>\n",
       "    <tr>\n",
       "      <th>2</th>\n",
       "      <td>184.0</td>\n",
       "      <td>20.662183</td>\n",
       "      <td>13.417399</td>\n",
       "      <td>0.0</td>\n",
       "      <td>13.00000</td>\n",
       "      <td>14.2500</td>\n",
       "      <td>26.0</td>\n",
       "      <td>73.5000</td>\n",
       "    </tr>\n",
       "    <tr>\n",
       "      <th>3</th>\n",
       "      <td>491.0</td>\n",
       "      <td>13.675550</td>\n",
       "      <td>11.778142</td>\n",
       "      <td>0.0</td>\n",
       "      <td>7.75000</td>\n",
       "      <td>8.0500</td>\n",
       "      <td>15.5</td>\n",
       "      <td>69.5500</td>\n",
       "    </tr>\n",
       "  </tbody>\n",
       "</table>\n",
       "</div>"
      ],
      "text/plain": [
       "        count       mean        std  min       25%      50%   75%       max\n",
       "Pclass                                                                     \n",
       "1       216.0  84.154687  78.380373  0.0  30.92395  60.2875  93.5  512.3292\n",
       "2       184.0  20.662183  13.417399  0.0  13.00000  14.2500  26.0   73.5000\n",
       "3       491.0  13.675550  11.778142  0.0   7.75000   8.0500  15.5   69.5500"
      ]
     },
     "execution_count": 230,
     "metadata": {},
     "output_type": "execute_result"
    }
   ],
   "source": [
    "byPclass = titanic.groupby('Pclass')\n",
    "byPclass['Fare'].describe()\n"
   ]
  },
  {
   "cell_type": "code",
   "execution_count": 85,
   "metadata": {},
   "outputs": [
    {
     "data": {
      "text/plain": [
       "0      Underpaid\n",
       "1         Normal\n",
       "2         Normal\n",
       "3         Normal\n",
       "4         Normal\n",
       "         ...    \n",
       "886       Normal\n",
       "887    Underpaid\n",
       "888     Overpaid\n",
       "889    Underpaid\n",
       "890       Normal\n",
       "Name: FareGroup, Length: 891, dtype: object"
      ]
     },
     "execution_count": 85,
     "metadata": {},
     "output_type": "execute_result"
    }
   ],
   "source": [
    "### We will use the data on the desctiptive table to divide the paid fare:\n",
    "### Those who paid more than the 75% where considered 'Overpaid', \n",
    "### If paid less than the 25% where categorized as 'Underpaid', else 'Normal' fare\n",
    "titanic['FareGroup'] = 'Normal'\n",
    "#....\n",
    "titanic.loc[(titanic['Pclass']==1) & (titanic['Fare'] < 30.92395), 'FareGroup'] = 'Underpaid'\n",
    "titanic.loc[(titanic['Pclass']==2) & (titanic['Fare'] < 13.00000), 'FareGroup'] = 'Underpaid'\n",
    "titanic.loc[(titanic['Pclass']==3) & (titanic['Fare'] < 7.75000), 'FareGroup'] = 'Underpaid'\n",
    "titanic.loc[(titanic['Pclass']==1) & (titanic['Fare'] > 93.5), 'FareGroup'] = 'Overpaid'\n",
    "titanic.loc[(titanic['Pclass']==2) & (titanic['Fare'] > 26.0), 'FareGroup'] = 'Overpaid'\n",
    "titanic.loc[(titanic['Pclass']==3) & (titanic['Fare'] > 15.5), 'FareGroup'] = 'Overpaid'\n",
    "\n",
    "\n",
    "titanic['FareGroup']\n",
    "\n"
   ]
  },
  {
   "cell_type": "markdown",
   "metadata": {},
   "source": [
    "Now we will check how many survived by Pclass and Fategroup:"
   ]
  },
  {
   "cell_type": "code",
   "execution_count": 86,
   "metadata": {
    "scrolled": true
   },
   "outputs": [
    {
     "data": {
      "text/html": [
       "<div>\n",
       "<style scoped>\n",
       "    .dataframe tbody tr th:only-of-type {\n",
       "        vertical-align: middle;\n",
       "    }\n",
       "\n",
       "    .dataframe tbody tr th {\n",
       "        vertical-align: top;\n",
       "    }\n",
       "\n",
       "    .dataframe thead tr th {\n",
       "        text-align: left;\n",
       "    }\n",
       "\n",
       "    .dataframe thead tr:last-of-type th {\n",
       "        text-align: right;\n",
       "    }\n",
       "</style>\n",
       "<table border=\"1\" class=\"dataframe\">\n",
       "  <thead>\n",
       "    <tr>\n",
       "      <th></th>\n",
       "      <th></th>\n",
       "      <th colspan=\"3\" halign=\"left\">Survived</th>\n",
       "    </tr>\n",
       "    <tr>\n",
       "      <th></th>\n",
       "      <th></th>\n",
       "      <th>count</th>\n",
       "      <th>sum</th>\n",
       "      <th>mean</th>\n",
       "    </tr>\n",
       "    <tr>\n",
       "      <th>Pclass</th>\n",
       "      <th>FareGroup</th>\n",
       "      <th></th>\n",
       "      <th></th>\n",
       "      <th></th>\n",
       "    </tr>\n",
       "  </thead>\n",
       "  <tbody>\n",
       "    <tr>\n",
       "      <td rowspan=\"3\" valign=\"top\">1</td>\n",
       "      <td>Normal</td>\n",
       "      <td>109</td>\n",
       "      <td>72</td>\n",
       "      <td>0.660550</td>\n",
       "    </tr>\n",
       "    <tr>\n",
       "      <td>Overpaid</td>\n",
       "      <td>53</td>\n",
       "      <td>39</td>\n",
       "      <td>0.735849</td>\n",
       "    </tr>\n",
       "    <tr>\n",
       "      <td>Underpaid</td>\n",
       "      <td>54</td>\n",
       "      <td>25</td>\n",
       "      <td>0.462963</td>\n",
       "    </tr>\n",
       "    <tr>\n",
       "      <td rowspan=\"3\" valign=\"top\">2</td>\n",
       "      <td>Normal</td>\n",
       "      <td>103</td>\n",
       "      <td>51</td>\n",
       "      <td>0.495146</td>\n",
       "    </tr>\n",
       "    <tr>\n",
       "      <td>Overpaid</td>\n",
       "      <td>39</td>\n",
       "      <td>23</td>\n",
       "      <td>0.589744</td>\n",
       "    </tr>\n",
       "    <tr>\n",
       "      <td>Underpaid</td>\n",
       "      <td>42</td>\n",
       "      <td>13</td>\n",
       "      <td>0.309524</td>\n",
       "    </tr>\n",
       "    <tr>\n",
       "      <td rowspan=\"3\" valign=\"top\">3</td>\n",
       "      <td>Normal</td>\n",
       "      <td>277</td>\n",
       "      <td>68</td>\n",
       "      <td>0.245487</td>\n",
       "    </tr>\n",
       "    <tr>\n",
       "      <td>Overpaid</td>\n",
       "      <td>120</td>\n",
       "      <td>34</td>\n",
       "      <td>0.283333</td>\n",
       "    </tr>\n",
       "    <tr>\n",
       "      <td>Underpaid</td>\n",
       "      <td>94</td>\n",
       "      <td>17</td>\n",
       "      <td>0.180851</td>\n",
       "    </tr>\n",
       "  </tbody>\n",
       "</table>\n",
       "</div>"
      ],
      "text/plain": [
       "                 Survived              \n",
       "                    count sum      mean\n",
       "Pclass FareGroup                       \n",
       "1      Normal         109  72  0.660550\n",
       "       Overpaid        53  39  0.735849\n",
       "       Underpaid       54  25  0.462963\n",
       "2      Normal         103  51  0.495146\n",
       "       Overpaid        39  23  0.589744\n",
       "       Underpaid       42  13  0.309524\n",
       "3      Normal         277  68  0.245487\n",
       "       Overpaid       120  34  0.283333\n",
       "       Underpaid       94  17  0.180851"
      ]
     },
     "execution_count": 86,
     "metadata": {},
     "output_type": "execute_result"
    }
   ],
   "source": [
    "## use groupby() and agg() to get the table bellow\n",
    "\n",
    "titanic.groupby(['Pclass','FareGroup']).agg({'Survived':['count',sum,'mean']})\n"
   ]
  },
  {
   "cell_type": "markdown",
   "metadata": {},
   "source": [
    "Survived\n",
    "\n",
    "Pclass\tFareGroup count\tsum\tmean\n",
    "    1\tNormal\t   109\t72\t0.660550\n",
    "        Overpaid\t53\t39\t0.735849\n",
    "        Underpaid\t54\t25\t0.462963\n",
    "    2\tNormal\t   103\t51\t0.495146\n",
    "        Overpaid\t39\t23\t0.589744\n",
    "        Underpaid\t42\t13\t0.309524\n",
    "    3\tNormal\t   277\t68\t0.245487\n",
    "        Overpaid   120\t34\t0.283333\n",
    "        Underpaid\t94\t17\t0.180851"
   ]
  },
  {
   "cell_type": "markdown",
   "metadata": {},
   "source": [
    "#### The title passanger had and survival \n",
    "\n",
    "Which were the five most common titles passanger had? (Sir, Mr, Mrs, etc)?\n",
    " \n",
    "For this part we will take the 'Name' column and will split all the words in the name by the white space.\n",
    " \n",
    "Then we will join all the words and calculate the frequency of appearance of each world in descending order.\n",
    " \n",
    "We will take the five most common words (must be titles), and with them we will create a new column. Then we will procede as we did in the other analyses.\n"
   ]
  },
  {
   "cell_type": "code",
   "execution_count": 21,
   "metadata": {},
   "outputs": [
    {
     "name": "stdout",
     "output_type": "stream",
     "text": [
      "Braund, Mr. Owen Harris Cumings, Mrs. John Bradley (Florence Briggs Thayer) Heikkinen, Miss. Laina Futrelle, Mrs. Jacques Heath (Lily May Peel) Allen, Mr. William Henry Moran, Mr. James McCarthy, Mr. Timothy J Palsson, Master. Gosta Leonard Johnson, Mrs. Oscar W (Elisabeth Vilhelmina Berg) Nasser, Mrs. Nicholas (Adele Achem) Sandstrom, Miss. Marguerite Rut Bonnell, Miss. Elizabeth Saundercock, Mr. William Henry Andersson, Mr. Anders Johan Vestrom, Miss. Hulda Amanda Adolfina Hewlett, Mrs. (Mary D Kingcome)  Rice, Master. Eugene Williams, Mr. Charles Eugene Vander Planke, Mrs. Julius (Emelia Maria Vandemoortele) Masselmani, Mrs. Fatima Fynney, Mr. Joseph J Beesley, Mr. Lawrence McGowan, Miss. Anna \"Annie\" Sloper, Mr. William Thompson Palsson, Miss. Torborg Danira Asplund, Mrs. Carl Oscar (Selma Augusta Emilia Johansson) Emir, Mr. Farred Chehab Fortune, Mr. Charles Alexander O'Dwyer, Miss. Ellen \"Nellie\" Todoroff, Mr. Lalio Uruchurtu, Don. Manuel E Spencer, Mrs. William Augustus (Marie Eugenie) Glynn, Miss. Mary Agatha Wheadon, Mr. Edward H Meyer, Mr. Edgar Joseph Holverson, Mr. Alexander Oskar Mamee, Mr. Hanna Cann, Mr. Ernest Charles Vander Planke, Miss. Augusta Maria Nicola-Yarred, Miss. Jamila Ahlin, Mrs. Johan (Johanna Persdotter Larsson) Turpin, Mrs. William John Robert (Dorothy Ann Wonnacott) Kraeff, Mr. Theodor Laroche, Miss. Simonne Marie Anne Andree Devaney, Miss. Margaret Delia Rogers, Mr. William John Lennon, Mr. Denis O'Driscoll, Miss. Bridget Samaan, Mr. Youssef Arnold-Franchi, Mrs. Josef (Josefine Franchi) Panula, Master. Juha Niilo Nosworthy, Mr. Richard Cater Harper, Mrs. Henry Sleeper (Myna Haxtun) Faunthorpe, Mrs. Lizzie (Elizabeth Anne Wilkinson) Ostby, Mr. Engelhart Cornelius Woolner, Mr. Hugh Rugg, Miss. Emily Novel, Mr. Mansouer West, Miss. Constance Mirium Goodwin, Master. William Frederick Sirayanian, Mr. Orsen Icard, Miss. Amelie Harris, Mr. Henry Birkhardt Skoog, Master. Harald Stewart, Mr. Albert A Moubarek, Master. Gerios Nye, Mrs. (Elizabeth Ramell) Crease, Mr. Ernest James Andersson, Miss. Erna Alexandra Kink, Mr. Vincenz Jenkin, Mr. Stephen Curnow Goodwin, Miss. Lillian Amy Hood, Mr. Ambrose Jr Chronopoulos, Mr. Apostolos Bing, Mr. Lee Moen, Mr. Sigurd Hansen Staneff, Mr. Ivan Moutal, Mr. Rahamin Haim Caldwell, Master. Alden Gates Dowdell, Miss. Elizabeth Waelens, Mr. Achille Sheerlinck, Mr. Jan Baptist McDermott, Miss. Brigdet Delia Carrau, Mr. Francisco M Ilett, Miss. Bertha Backstrom, Mrs. Karl Alfred (Maria Mathilda Gustafsson) Ford, Mr. William Neal Slocovski, Mr. Selman Francis Fortune, Miss. Mabel Helen Celotti, Mr. Francesco Christmann, Mr. Emil Andreasson, Mr. Paul Edvin Chaffee, Mr. Herbert Fuller Dean, Mr. Bertram Frank Coxon, Mr. Daniel Shorney, Mr. Charles Joseph Goldschmidt, Mr. George B Greenfield, Mr. William Bertram Doling, Mrs. John T (Ada Julia Bone) Kantor, Mr. Sinai Petranec, Miss. Matilda Petroff, Mr. Pastcho (\"Pentcho\") White, Mr. Richard Frasar Johansson, Mr. Gustaf Joel Gustafsson, Mr. Anders Vilhelm Mionoff, Mr. Stoytcho Salkjelsvik, Miss. Anna Kristine Moss, Mr. Albert Johan Rekic, Mr. Tido Moran, Miss. Bertha Porter, Mr. Walter Chamberlain Zabour, Miss. Hileni Barton, Mr. David John Jussila, Miss. Katriina Attalah, Miss. Malake Pekoniemi, Mr. Edvard Connors, Mr. Patrick Turpin, Mr. William John Robert Baxter, Mr. Quigg Edmond Andersson, Miss. Ellis Anna Maria Hickman, Mr. Stanley George Moore, Mr. Leonard Charles Nasser, Mr. Nicholas Webber, Miss. Susan White, Mr. Percival Wayland Nicola-Yarred, Master. Elias McMahon, Mr. Martin Madsen, Mr. Fridtjof Arne Peter, Miss. Anna Ekstrom, Mr. Johan Drazenoic, Mr. Jozef Coelho, Mr. Domingos Fernandeo Robins, Mrs. Alexander A (Grace Charity Laury) Weisz, Mrs. Leopold (Mathilde Francoise Pede) Sobey, Mr. Samuel James Hayden Richard, Mr. Emile Newsom, Miss. Helen Monypeny Futrelle, Mr. Jacques Heath Osen, Mr. Olaf Elon Giglio, Mr. Victor Boulos, Mrs. Joseph (Sultana) Nysten, Miss. Anna Sofia Hakkarainen, Mrs. Pekka Pietari (Elin Matilda Dolck) Burke, Mr. Jeremiah Andrew, Mr. Edgardo Samuel Nicholls, Mr. Joseph Charles Andersson, Mr. August Edvard (\"Wennerstrom\") Ford, Miss. Robina Maggie \"Ruby\" Navratil, Mr. Michel (\"Louis M Hoffman\") Byles, Rev. Thomas Roussel Davids Bateman, Rev. Robert James Pears, Mrs. Thomas (Edith Wearne) Meo, Mr. Alfonzo van Billiard, Mr. Austin Blyler Olsen, Mr. Ole Martin Williams, Mr. Charles Duane Gilnagh, Miss. Katherine \"Katie\" Corn, Mr. Harry Smiljanic, Mr. Mile Sage, Master. Thomas Henry Cribb, Mr. John Hatfield Watt, Mrs. James (Elizabeth \"Bessie\" Inglis Milne) Bengtsson, Mr. John Viktor Calic, Mr. Jovo Panula, Master. Eino Viljami Goldsmith, Master. Frank John William \"Frankie\" Chibnall, Mrs. (Edith Martha Bowerman) Skoog, Mrs. William (Anna Bernhardina Karlsson) Baumann, Mr. John D Ling, Mr. Lee Van der hoef, Mr. Wyckoff Rice, Master. Arthur Johnson, Miss. Eleanor Ileen Sivola, Mr. Antti Wilhelm Smith, Mr. James Clinch Klasen, Mr. Klas Albin Lefebre, Master. Henry Forbes Isham, Miss. Ann Elizabeth Hale, Mr. Reginald Leonard, Mr. Lionel Sage, Miss. Constance Gladys Pernot, Mr. Rene Asplund, Master. Clarence Gustaf Hugo Becker, Master. Richard F Kink-Heilmann, Miss. Luise Gretchen Rood, Mr. Hugh Roscoe O'Brien, Mrs. Thomas (Johanna \"Hannah\" Godfrey) Romaine, Mr. Charles Hallace (\"Mr C Rolmane\") Bourke, Mr. John Turcin, Mr. Stjepan Pinsky, Mrs. (Rosa) Carbines, Mr. William Andersen-Jensen, Miss. Carla Christine Nielsine Navratil, Master. Michel M Brown, Mrs. James Joseph (Margaret Tobin) Lurette, Miss. Elise Mernagh, Mr. Robert Olsen, Mr. Karl Siegwart Andreas Madigan, Miss. Margaret \"Maggie\" Yrois, Miss. Henriette (\"Mrs Harbeck\") Vande Walle, Mr. Nestor Cyriel Sage, Mr. Frederick Johanson, Mr. Jakob Alfred Youseff, Mr. Gerious Cohen, Mr. Gurshon \"Gus\" Strom, Miss. Telma Matilda Backstrom, Mr. Karl Alfred Albimona, Mr. Nassef Cassem Carr, Miss. Helen \"Ellen\" Blank, Mr. Henry Ali, Mr. Ahmed Cameron, Miss. Clear Annie Perkin, Mr. John Henry Givard, Mr. Hans Kristensen Kiernan, Mr. Philip Newell, Miss. Madeleine Honkanen, Miss. Eliina Jacobsohn, Mr. Sidney Samuel Bazzani, Miss. Albina Harris, Mr. Walter Sunderland, Mr. Victor Francis Bracken, Mr. James H Green, Mr. George Henry Nenkoff, Mr. Christo Hoyt, Mr. Frederick Maxfield Berglund, Mr. Karl Ivar Sven Mellors, Mr. William John Lovell, Mr. John Hall (\"Henry\") Fahlstrom, Mr. Arne Jonas Lefebre, Miss. Mathilde Harris, Mrs. Henry Birkhardt (Irene Wallach) Larsson, Mr. Bengt Edvin Sjostedt, Mr. Ernst Adolf Asplund, Miss. Lillian Gertrud Leyson, Mr. Robert William Norman Harknett, Miss. Alice Phoebe Hold, Mr. Stephen Collyer, Miss. Marjorie \"Lottie\" Pengelly, Mr. Frederick William Hunt, Mr. George Henry Zabour, Miss. Thamine Murphy, Miss. Katherine \"Kate\" Coleridge, Mr. Reginald Charles Maenpaa, Mr. Matti Alexanteri Attalah, Mr. Sleiman Minahan, Dr. William Edward Lindahl, Miss. Agda Thorilda Viktoria Hamalainen, Mrs. William (Anna) Beckwith, Mr. Richard Leonard Carter, Rev. Ernest Courtenay Reed, Mr. James George Strom, Mrs. Wilhelm (Elna Matilda Persson) Stead, Mr. William Thomas Lobb, Mr. William Arthur Rosblom, Mrs. Viktor (Helena Wilhelmina) Touma, Mrs. Darwis (Hanne Youssef Razi) Thorne, Mrs. Gertrude Maybelle Cherry, Miss. Gladys Ward, Miss. Anna Parrish, Mrs. (Lutie Davis) Smith, Mr. Thomas Asplund, Master. Edvin Rojj Felix Taussig, Mr. Emil Harrison, Mr. William Henry, Miss. Delia Reeves, Mr. David Panula, Mr. Ernesti Arvid Persson, Mr. Ernst Ulrik Graham, Mrs. William Thompson (Edith Junkins) Bissette, Miss. Amelia Cairns, Mr. Alexander Tornquist, Mr. William Henry Mellinger, Mrs. (Elizabeth Anne Maidment) Natsch, Mr. Charles H Healy, Miss. Hanora \"Nora\" Andrews, Miss. Kornelia Theodosia Lindblom, Miss. Augusta Charlotta Parkes, Mr. Francis \"Frank\" Rice, Master. Eric Abbott, Mrs. Stanton (Rosa Hunt) Duane, Mr. Frank Olsson, Mr. Nils Johan Goransson de Pelsmaeker, Mr. Alfons Dorking, Mr. Edward Arthur Smith, Mr. Richard William Stankovic, Mr. Ivan de Mulder, Mr. Theodore Naidenoff, Mr. Penko Hosono, Mr. Masabumi Connolly, Miss. Kate Barber, Miss. Ellen \"Nellie\" Bishop, Mrs. Dickinson H (Helen Walton) Levy, Mr. Rene Jacques Haas, Miss. Aloisia Mineff, Mr. Ivan Lewy, Mr. Ervin G Hanna, Mr. Mansour Allison, Miss. Helen Loraine Saalfeld, Mr. Adolphe Baxter, Mrs. James (Helene DeLaudeniere Chaput) Kelly, Miss. Anna Katherine \"Annie Kate\" McCoy, Mr. Bernard Johnson, Mr. William Cahoone Jr Keane, Miss. Nora A Williams, Mr. Howard Hugh \"Harry\" Allison, Master. Hudson Trevor Fleming, Miss. Margaret Penasco y Castellana, Mrs. Victor de Satode (Maria Josefa Perez de Soto y Vallejo) Abelson, Mr. Samuel Francatelli, Miss. Laura Mabel Hays, Miss. Margaret Bechstein Ryerson, Miss. Emily Borie Lahtinen, Mrs. William (Anna Sylfven) Hendekovic, Mr. Ignjac Hart, Mr. Benjamin Nilsson, Miss. Helmina Josefina Kantor, Mrs. Sinai (Miriam Sternin) Moraweck, Dr. Ernest Wick, Miss. Mary Natalie Spedden, Mrs. Frederic Oakley (Margaretta Corning Stone) Dennis, Mr. Samuel Danoff, Mr. Yoto Slayter, Miss. Hilda Mary Caldwell, Mrs. Albert Francis (Sylvia Mae Harbaugh) Sage, Mr. George John Jr Young, Miss. Marie Grice Nysveen, Mr. Johan Hansen Ball, Mrs. (Ada E Hall) Goldsmith, Mrs. Frank John (Emily Alice Brown) Hippach, Miss. Jean Gertrude McCoy, Miss. Agnes Partner, Mr. Austen Graham, Mr. George Edward Vander Planke, Mr. Leo Edmondus Frauenthal, Mrs. Henry William (Clara Heinsheimer) Denkoff, Mr. Mitto Pears, Mr. Thomas Clinton Burns, Miss. Elizabeth Margaret Dahl, Mr. Karl Edwart Blackwell, Mr. Stephen Weart Navratil, Master. Edmond Roger Fortune, Miss. Alice Elizabeth Collander, Mr. Erik Gustaf Sedgwick, Mr. Charles Frederick Waddington Fox, Mr. Stanley Hubert Brown, Miss. Amelia \"Mildred\" Smith, Miss. Marion Elsie Davison, Mrs. Thomas Henry (Mary E Finck) Coutts, Master. William Loch \"William\" Dimic, Mr. Jovan Odahl, Mr. Nils Martin Williams-Lambert, Mr. Fletcher Fellows Elias, Mr. Tannous Arnold-Franchi, Mr. Josef Yousif, Mr. Wazli Vanden Steen, Mr. Leo Peter Bowerman, Miss. Elsie Edith Funk, Miss. Annie Clemmer McGovern, Miss. Mary Mockler, Miss. Helen Mary \"Ellie\" Skoog, Mr. Wilhelm del Carlo, Mr. Sebastiano Barbara, Mrs. (Catherine David) Asim, Mr. Adola O'Brien, Mr. Thomas Adahl, Mr. Mauritz Nils Martin Warren, Mrs. Frank Manley (Anna Sophia Atkinson) Moussa, Mrs. (Mantoura Boulos) Jermyn, Miss. Annie Aubart, Mme. Leontine Pauline Harder, Mr. George Achilles Wiklund, Mr. Jakob Alfred Beavan, Mr. William Thomas Ringhini, Mr. Sante Palsson, Miss. Stina Viola Meyer, Mrs. Edgar Joseph (Leila Saks) Landergren, Miss. Aurora Adelia Widener, Mr. Harry Elkins Betros, Mr. Tannous Gustafsson, Mr. Karl Gideon Bidois, Miss. Rosalie Nakid, Miss. Maria (\"Mary\") Tikkanen, Mr. Juho Holverson, Mrs. Alexander Oskar (Mary Aline Towner) Plotcharsky, Mr. Vasil Davies, Mr. Charles Henry Goodwin, Master. Sidney Leonard Buss, Miss. Kate Sadlier, Mr. Matthew Lehmann, Miss. Bertha Carter, Mr. William Ernest Jansson, Mr. Carl Olof Gustafsson, Mr. Johan Birger Newell, Miss. Marjorie Sandstrom, Mrs. Hjalmar (Agnes Charlotta Bengtsson) Johansson, Mr. Erik Olsson, Miss. Elina McKane, Mr. Peter David Pain, Dr. Alfred Trout, Mrs. William H (Jessie L) Niskanen, Mr. Juha Adams, Mr. John Jussila, Miss. Mari Aina Hakkarainen, Mr. Pekka Pietari Oreskovic, Miss. Marija Gale, Mr. Shadrach Widegren, Mr. Carl/Charles Peter Richards, Master. William Rowe Birkeland, Mr. Hans Martin Monsen Lefebre, Miss. Ida Sdycoff, Mr. Todor Hart, Mr. Henry Minahan, Miss. Daisy E Cunningham, Mr. Alfred Fleming Sundman, Mr. Johan Julian Meek, Mrs. Thomas (Annie Louise Rowley) Drew, Mrs. James Vivian (Lulu Thorne Christian) Silven, Miss. Lyyli Karoliina Matthews, Mr. William John Van Impe, Miss. Catharina Gheorgheff, Mr. Stanio Charters, Mr. David Zimmerman, Mr. Leo Danbom, Mrs. Ernst Gilbert (Anna Sigrid Maria Brogren) Rosblom, Mr. Viktor Richard Wiseman, Mr. Phillippe Clarke, Mrs. Charles V (Ada Maria Winfield) Phillips, Miss. Kate Florence (\"Mrs Kate Louise Phillips Marshall\") Flynn, Mr. James Pickard, Mr. Berk (Berk Trembisky) Bjornstrom-Steffansson, Mr. Mauritz Hakan Thorneycroft, Mrs. Percival (Florence Kate White) Louch, Mrs. Charles Alexander (Alice Adelaide Slow) Kallio, Mr. Nikolai Erland Silvey, Mr. William Baird Carter, Miss. Lucile Polk Ford, Miss. Doolina Margaret \"Daisy\" Richards, Mrs. Sidney (Emily Hocking) Fortune, Mr. Mark Kvillner, Mr. Johan Henrik Johannesson Hart, Mrs. Benjamin (Esther Ada Bloomfield) Hampe, Mr. Leon Petterson, Mr. Johan Emil Reynaldo, Ms. Encarnacion Johannesen-Bratthammer, Mr. Bernt Dodge, Master. Washington Mellinger, Miss. Madeleine Violet Seward, Mr. Frederic Kimber Baclini, Miss. Marie Catherine Peuchen, Major. Arthur Godfrey West, Mr. Edwy Arthur Hagland, Mr. Ingvald Olai Olsen Foreman, Mr. Benjamin Laventall Goldenberg, Mr. Samuel L Peduzzi, Mr. Joseph Jalsevac, Mr. Ivan Millet, Mr. Francis Davis Kenyon, Mrs. Frederick R (Marion) Toomey, Miss. Ellen O'Connor, Mr. Maurice Anderson, Mr. Harry Morley, Mr. William Gee, Mr. Arthur H Milling, Mr. Jacob Christian Maisner, Mr. Simon Goncalves, Mr. Manuel Estanslas Campbell, Mr. William Smart, Mr. John Montgomery Scanlan, Mr. James Baclini, Miss. Helene Barbara Keefe, Mr. Arthur Cacic, Mr. Luka West, Mrs. Edwy Arthur (Ada Mary Worth) Jerwan, Mrs. Amin S (Marie Marthe Thuillard) Strandberg, Miss. Ida Sofia Clifford, Mr. George Quincy Renouf, Mr. Peter Henry Braund, Mr. Lewis Richard Karlsson, Mr. Nils August Hirvonen, Miss. Hildur E Goodwin, Master. Harold Victor Frost, Mr. Anthony Wood \"Archie\" Rouse, Mr. Richard Henry Turkula, Mrs. (Hedwig) Bishop, Mr. Dickinson H Lefebre, Miss. Jeannie Hoyt, Mrs. Frederick Maxfield (Jane Anne Forby) Kent, Mr. Edward Austin Somerton, Mr. Francis William Coutts, Master. Eden Leslie \"Neville\" Hagland, Mr. Konrad Mathias Reiersen Windelov, Mr. Einar Molson, Mr. Harry Markland Artagaveytia, Mr. Ramon Stanley, Mr. Edward Roland Yousseff, Mr. Gerious Eustis, Miss. Elizabeth Mussey Shellard, Mr. Frederick William Allison, Mrs. Hudson J C (Bessie Waldo Daniels) Svensson, Mr. Olof Calic, Mr. Petar Canavan, Miss. Mary O'Sullivan, Miss. Bridget Mary Laitinen, Miss. Kristina Sofia Maioni, Miss. Roberta Penasco y Castellana, Mr. Victor de Satode Quick, Mrs. Frederick Charles (Jane Richards) Bradley, Mr. George (\"George Arthur Brayton\") Olsen, Mr. Henry Margido Lang, Mr. Fang Daly, Mr. Eugene Patrick Webber, Mr. James McGough, Mr. James Robert Rothschild, Mrs. Martin (Elizabeth L. Barrett) Coleff, Mr. Satio Walker, Mr. William Anderson Lemore, Mrs. (Amelia Milley) Ryan, Mr. Patrick Angle, Mrs. William A (Florence \"Mary\" Agnes Hughes) Pavlovic, Mr. Stefo Perreault, Miss. Anne Vovk, Mr. Janko Lahoud, Mr. Sarkis Hippach, Mrs. Louis Albert (Ida Sophia Fischer) Kassem, Mr. Fared Farrell, Mr. James Ridsdale, Miss. Lucy Farthing, Mr. John Salonen, Mr. Johan Werner Hocking, Mr. Richard George Quick, Miss. Phyllis May Toufik, Mr. Nakli Elias, Mr. Joseph Jr Peter, Mrs. Catherine (Catherine Rizk) Cacic, Miss. Marija Hart, Miss. Eva Miriam Butt, Major. Archibald Willingham LeRoy, Miss. Bertha Risien, Mr. Samuel Beard Frolicher, Miss. Hedwig Margaritha Crosby, Miss. Harriet R Andersson, Miss. Ingeborg Constanzia Andersson, Miss. Sigrid Elisabeth Beane, Mr. Edward Douglas, Mr. Walter Donald Nicholson, Mr. Arthur Ernest Beane, Mrs. Edward (Ethel Clarke) Padro y Manent, Mr. Julian Goldsmith, Mr. Frank John Davies, Master. John Morgan Jr Thayer, Mr. John Borland Jr Sharp, Mr. Percival James R O'Brien, Mr. Timothy Leeni, Mr. Fahim (\"Philip Zenni\") Ohman, Miss. Velin Wright, Mr. George Duff Gordon, Lady. (Lucille Christiana Sutherland) (\"Mrs Morgan\") Robbins, Mr. Victor Taussig, Mrs. Emil (Tillie Mandelbaum) de Messemaeker, Mrs. Guillaume Joseph (Emma) Morrow, Mr. Thomas Rowan Sivic, Mr. Husein Norman, Mr. Robert Douglas Simmons, Mr. John Meanwell, Miss. (Marion Ogden) Davies, Mr. Alfred J Stoytcheff, Mr. Ilia Palsson, Mrs. Nils (Alma Cornelia Berglund) Doharr, Mr. Tannous Jonsson, Mr. Carl Harris, Mr. George Appleton, Mrs. Edward Dale (Charlotte Lamson) Flynn, Mr. John Irwin (\"Irving\") Kelly, Miss. Mary Rush, Mr. Alfred George John Patchett, Mr. George Garside, Miss. Ethel Silvey, Mrs. William Baird (Alice Munger) Caram, Mrs. Joseph (Maria Elias) Jussila, Mr. Eiriik Christy, Miss. Julie Rachel Thayer, Mrs. John Borland (Marian Longstreth Morris) Downton, Mr. William James Ross, Mr. John Hugo Paulner, Mr. Uscher Taussig, Miss. Ruth Jarvis, Mr. John Denzil Frolicher-Stehli, Mr. Maxmillian Gilinski, Mr. Eliezer Murdlin, Mr. Joseph Rintamaki, Mr. Matti Stephenson, Mrs. Walter Bertram (Martha Eustis) Elsbury, Mr. William James Bourke, Miss. Mary Chapman, Mr. John Henry Van Impe, Mr. Jean Baptiste Leitch, Miss. Jessie Wills Johnson, Mr. Alfred Boulos, Mr. Hanna Duff Gordon, Sir. Cosmo Edmund (\"Mr Morgan\") Jacobsohn, Mrs. Sidney Samuel (Amy Frances Christy) Slabenoff, Mr. Petco Harrington, Mr. Charles H Torber, Mr. Ernst William Homer, Mr. Harry (\"Mr E Haven\") Lindell, Mr. Edvard Bengtsson Karaic, Mr. Milan Daniel, Mr. Robert Williams Laroche, Mrs. Joseph (Juliette Marie Louise Lafargue) Shutes, Miss. Elizabeth W Andersson, Mrs. Anders Johan (Alfrida Konstantia Brogren) Jardin, Mr. Jose Neto Murphy, Miss. Margaret Jane Horgan, Mr. John Brocklebank, Mr. William Alfred Herman, Miss. Alice Danbom, Mr. Ernst Gilbert Lobb, Mrs. William Arthur (Cordelia K Stanlick) Becker, Miss. Marion Louise Gavey, Mr. Lawrence Yasbeck, Mr. Antoni Kimball, Mr. Edwin Nelson Jr Nakid, Mr. Sahid Hansen, Mr. Henry Damsgaard Bowen, Mr. David John \"Dai\" Sutton, Mr. Frederick Kirkland, Rev. Charles Leonard Longley, Miss. Gretchen Fiske Bostandyeff, Mr. Guentcho O'Connell, Mr. Patrick D Barkworth, Mr. Algernon Henry Wilson Lundahl, Mr. Johan Svensson Stahelin-Maeglin, Dr. Max Parr, Mr. William Henry Marsh Skoog, Miss. Mabel Davis, Miss. Mary Leinonen, Mr. Antti Gustaf Collyer, Mr. Harvey Panula, Mrs. Juha (Maria Emilia Ojala) Thorneycroft, Mr. Percival Jensen, Mr. Hans Peder Sagesser, Mlle. Emma Skoog, Miss. Margit Elizabeth Foo, Mr. Choong Baclini, Miss. Eugenie Harper, Mr. Henry Sleeper Cor, Mr. Liudevit Simonius-Blumer, Col. Oberst Alfons Willey, Mr. Edward Stanley, Miss. Amy Zillah Elsie Mitkoff, Mr. Mito Doling, Miss. Elsie Kalvik, Mr. Johannes Halvorsen O'Leary, Miss. Hanora \"Norah\" Hegarty, Miss. Hanora \"Nora\" Hickman, Mr. Leonard Mark Radeff, Mr. Alexander Bourke, Mrs. John (Catherine) Eitemiller, Mr. George Floyd Newell, Mr. Arthur Webster Frauenthal, Dr. Henry William Badt, Mr. Mohamed Colley, Mr. Edward Pomeroy Coleff, Mr. Peju Lindqvist, Mr. Eino William Hickman, Mr. Lewis Butler, Mr. Reginald Fenton Rommetvedt, Mr. Knud Paust Cook, Mr. Jacob Taylor, Mrs. Elmer Zebley (Juliet Cummins Wright) Brown, Mrs. Thomas William Solomon (Elizabeth Catherine Ford) Davidson, Mr. Thornton Mitchell, Mr. Henry Michael Wilhelms, Mr. Charles Watson, Mr. Ennis Hastings Edvardsson, Mr. Gustaf Hjalmar Sawyer, Mr. Frederick Charles Turja, Miss. Anna Sofia Goodwin, Mrs. Frederick (Augusta Tyler) Cardeza, Mr. Thomas Drake Martinez Peters, Miss. Katie Hassab, Mr. Hammad Olsvigen, Mr. Thor Anderson Goodwin, Mr. Charles Edward Brown, Mr. Thomas William Solomon Laroche, Mr. Joseph Philippe Lemercier Panula, Mr. Jaako Arnold Dakic, Mr. Branko Fischer, Mr. Eberhard Thelander Madill, Miss. Georgette Alexandra Dick, Mr. Albert Adrian Karun, Miss. Manca Lam, Mr. Ali Saad, Mr. Khalil Weir, Col. John Chapman, Mr. Charles Henry Kelly, Mr. James Mullens, Miss. Katherine \"Katie\" Thayer, Mr. John Borland Humblen, Mr. Adolf Mathias Nicolai Olsen Astor, Mrs. John Jacob (Madeleine Talmadge Force) Silverthorne, Mr. Spencer Victor Barbara, Miss. Saiide Gallagher, Mr. Martin Hansen, Mr. Henrik Juul Morley, Mr. Henry Samuel (\"Mr Henry Marshall\") Kelly, Mrs. Florence \"Fannie\" Calderhead, Mr. Edward Pennington Cleaver, Miss. Alice Moubarek, Master. Halim Gonios (\"William George\") Mayne, Mlle. Berthe Antonine (\"Mrs de Villiers\") Klaber, Mr. Herman Taylor, Mr. Elmer Zebley Larsson, Mr. August Viktor Greenberg, Mr. Samuel Soholt, Mr. Peter Andreas Lauritz Andersen Endres, Miss. Caroline Louise Troutt, Miss. Edwina Celia \"Winnie\" McEvoy, Mr. Michael Johnson, Mr. Malkolm Joackim Harper, Miss. Annie Jessie \"Nina\" Jensen, Mr. Svend Lauritz Gillespie, Mr. William Henry Hodges, Mr. Henry Price Chambers, Mr. Norman Campbell Oreskovic, Mr. Luka Renouf, Mrs. Peter Henry (Lillian Jefferys) Mannion, Miss. Margareth Bryhl, Mr. Kurt Arnold Gottfrid Ilmakangas, Miss. Pieta Sofia Allen, Miss. Elisabeth Walton Hassan, Mr. Houssein G N Knight, Mr. Robert J Berriman, Mr. William John Troupiansky, Mr. Moses Aaron Williams, Mr. Leslie Ford, Mrs. Edward (Margaret Ann Watson) Lesurer, Mr. Gustave J Ivanoff, Mr. Kanio Nankoff, Mr. Minko Hawksford, Mr. Walter James Cavendish, Mr. Tyrell William Ryerson, Miss. Susan Parker \"Suzette\" McNamee, Mr. Neal Stranden, Mr. Juho Crosby, Capt. Edward Gifford Abbott, Mr. Rossmore Edward Sinkkonen, Miss. Anna Marvin, Mr. Daniel Warner Connaghton, Mr. Michael Wells, Miss. Joan Moor, Master. Meier Vande Velde, Mr. Johannes Joseph Jonkoff, Mr. Lalio Herman, Mrs. Samuel (Jane Laver) Hamalainen, Master. Viljo Carlsson, Mr. August Sigfrid Bailey, Mr. Percy Andrew Theobald, Mr. Thomas Leonard Rothes, the Countess. of (Lucy Noel Martha Dyer-Edwards) Garfirth, Mr. John Nirva, Mr. Iisakki Antino Aijo Barah, Mr. Hanna Assi Carter, Mrs. William Ernest (Lucile Polk) Eklund, Mr. Hans Linus Hogeboom, Mrs. John C (Anna Andrews) Brewe, Dr. Arthur Jackson Mangan, Miss. Mary Moran, Mr. Daniel J Gronnestad, Mr. Daniel Danielsen Lievens, Mr. Rene Aime Jensen, Mr. Niels Peder Mack, Mrs. (Mary) Elias, Mr. Dibo Hocking, Mrs. Elizabeth (Eliza Needs) Myhrman, Mr. Pehr Fabian Oliver Malkolm Tobin, Mr. Roger Emanuel, Miss. Virginia Ethel Kilgannon, Mr. Thomas J Robert, Mrs. Edward Scott (Elisabeth Walton McMillan) Ayoub, Miss. Banoura Dick, Mrs. Albert Adrian (Vera Gillespie) Long, Mr. Milton Clyde Johnston, Mr. Andrew G Ali, Mr. William Harmer, Mr. Abraham (David Lishin) Sjoblom, Miss. Anna Sofia Rice, Master. George Hugh Dean, Master. Bertram Vere Guggenheim, Mr. Benjamin Keane, Mr. Andrew \"Andy\" Gaskell, Mr. Alfred Sage, Miss. Stella Anna Hoyt, Mr. William Fisher Dantcheff, Mr. Ristiu Otter, Mr. Richard Leader, Dr. Alice (Farnham) Osman, Mrs. Mara Ibrahim Shawah, Mr. Yousseff Van Impe, Mrs. Jean Baptiste (Rosalie Paula Govaert) Ponesell, Mr. Martin Collyer, Mrs. Harvey (Charlotte Annie Tate) Carter, Master. William Thornton II Thomas, Master. Assad Alexander Hedman, Mr. Oskar Arvid Johansson, Mr. Karl Johan Andrews, Mr. Thomas Jr Pettersson, Miss. Ellen Natalia Meyer, Mr. August Chambers, Mrs. Norman Campbell (Bertha Griggs) Alexander, Mr. William Lester, Mr. James Slemen, Mr. Richard James Andersson, Miss. Ebba Iris Alfrida Tomlin, Mr. Ernest Portage Fry, Mr. Richard Heininen, Miss. Wendla Maria Mallet, Mr. Albert Holm, Mr. John Fredrik Alexander Skoog, Master. Karl Thorsten Hays, Mrs. Charles Melville (Clara Jennings Gregg) Lulic, Mr. Nikola Reuchlin, Jonkheer. John George Moor, Mrs. (Beila) Panula, Master. Urho Abraham Flynn, Mr. John Lam, Mr. Len Mallet, Master. Andre McCormack, Mr. Thomas Joseph Stone, Mrs. George Nelson (Martha Evelyn) Yasbeck, Mrs. Antoni (Selini Alexander) Richards, Master. George Sibley Saad, Mr. Amin Augustsson, Mr. Albert Allum, Mr. Owen George Compton, Miss. Sara Rebecca Pasic, Mr. Jakob Sirota, Mr. Maurice Chip, Mr. Chang Marechal, Mr. Pierre Alhomaki, Mr. Ilmari Rudolf Mudd, Mr. Thomas Charles Serepeca, Miss. Augusta Lemberopolous, Mr. Peter L Culumovic, Mr. Jeso Abbing, Mr. Anthony Sage, Mr. Douglas Bullen Markoff, Mr. Marin Harper, Rev. John Goldenberg, Mrs. Samuel L (Edwiga Grabowska) Andersson, Master. Sigvard Harald Elias Svensson, Mr. Johan Boulos, Miss. Nourelain Lines, Miss. Mary Conover Carter, Mrs. Ernest Courtenay (Lilian Hughes) Aks, Mrs. Sam (Leah Rosen) Wick, Mrs. George Dennick (Mary Hitchcock) Daly, Mr. Peter Denis  Baclini, Mrs. Solomon (Latifa Qurban) Razi, Mr. Raihed Hansen, Mr. Claus Peter Giles, Mr. Frederick Edward Swift, Mrs. Frederick Joel (Margaret Welles Barron) Sage, Miss. Dorothy Edith \"Dolly\" Gill, Mr. John William Bystrom, Mrs. (Karolina) Duran y More, Miss. Asuncion Roebling, Mr. Washington Augustus II van Melkebeke, Mr. Philemon Johnson, Master. Harold Theodor Balkic, Mr. Cerin Beckwith, Mrs. Richard Leonard (Sallie Monypeny) Carlsson, Mr. Frans Olof Vander Cruyssen, Mr. Victor Abelson, Mrs. Samuel (Hannah Wizosky) Najib, Miss. Adele Kiamie \"Jane\" Gustafsson, Mr. Alfred Ossian Petroff, Mr. Nedelio Laleff, Mr. Kristo Potter, Mrs. Thomas Jr (Lily Alexenia Wilson) Shelley, Mrs. William (Imanita Parrish Hall) Markun, Mr. Johann Dahlberg, Miss. Gerda Ulrika Banfield, Mr. Frederick James Sutehall, Mr. Henry Jr Rice, Mrs. William (Margaret Norton) Montvila, Rev. Juozas Graham, Miss. Margaret Edith Johnston, Miss. Catherine Helen \"Carrie\" Behr, Mr. Karl Howell Dooley, Mr. Patrick\n"
     ]
    }
   ],
   "source": [
    "## Join all the words in the 'Name' column\n",
    "words = ' '.join(titanic['Name'])\n",
    "len(words)\n",
    "print(words[0:len(words)])"
   ]
  },
  {
   "cell_type": "code",
   "execution_count": 25,
   "metadata": {},
   "outputs": [
    {
     "name": "stdout",
     "output_type": "stream",
     "text": [
      "Braund Mr Owen Harris Cumings Mrs John Bradley Florence Briggs Thayer Heikkinen Miss Laina Futrelle \n"
     ]
    }
   ],
   "source": [
    "## the following code will delete the punctuation\n",
    "import string\n",
    "\n",
    "table = str.maketrans({key: None for key in string.punctuation})\n",
    "words = words.translate(table)\n",
    "print(words[0:100])"
   ]
  },
  {
   "cell_type": "code",
   "execution_count": 26,
   "metadata": {},
   "outputs": [
    {
     "name": "stdout",
     "output_type": "stream",
     "text": [
      "<class 'list'>\n",
      "['Braund', 'Mr', 'Owen', 'Harris', 'Cumings', 'Mrs', 'John', 'Bradley', 'Florence', 'Briggs']\n"
     ]
    }
   ],
   "source": [
    "## now we will split by the white spaces the words string into a list\n",
    "wordlist = words.split()\n",
    "print(type(wordlist))\n",
    "print(wordlist[0:10])"
   ]
  },
  {
   "cell_type": "code",
   "execution_count": 27,
   "metadata": {},
   "outputs": [
    {
     "name": "stdout",
     "output_type": "stream",
     "text": [
      "1526\n",
      "1526\n",
      "1526\n",
      "<class 'dict_keys'>\n",
      "<class 'dict_values'>\n"
     ]
    }
   ],
   "source": [
    "## We will count each unique word and show the top 20 in descending order\n",
    "## There are lots of ways to this. We will generate a dictionary to make the counts\n",
    "\n",
    "worddict = {x:wordlist.count(x) for x in wordlist}\n",
    "\n",
    "wordunq, wordcnt = worddict.keys(), worddict.values()\n",
    "\n",
    "print(len(worddict))\n",
    "print(len(wordunq))\n",
    "print(len(wordcnt))\n",
    "\n",
    "#wordunq.tolist()\n",
    "\n",
    "print(type(wordunq))\n",
    "print(type(wordcnt))\n"
   ]
  },
  {
   "cell_type": "code",
   "execution_count": 28,
   "metadata": {},
   "outputs": [
    {
     "data": {
      "text/plain": [
       "Ellipsis"
      ]
     },
     "execution_count": 28,
     "metadata": {},
     "output_type": "execute_result"
    }
   ],
   "source": [
    "## now we tranform the keys and values into lists and create with them a DataFrame\n",
    "\n",
    "...\n",
    "\n",
    "...\n"
   ]
  },
  {
   "cell_type": "markdown",
   "metadata": {},
   "source": [
    "Answer:\n",
    "    quantity\tword\n",
    " \t521\t        Mr\n",
    "\t182\t        Miss\n",
    "\t129\t        Mrs\n",
    "\t64\t        William\n",
    "\t44\t        John\n",
    "\t40\t        Master"
   ]
  },
  {
   "cell_type": "markdown",
   "metadata": {},
   "source": [
    "We have shown here that the most common titles were Mr (521), Miss (182), Mrs (129) and Master (40). \n",
    " \n",
    "This totals 872 out of 891 passengers (97.9%).\n",
    " \n",
    "Now we will create a new variable with those titles and check for differences on survival among them.\n",
    " \n",
    "We can use the following function to decide if a title is present on a name:\n",
    "\n",
    "<code> \n",
    " titanic['Name'].str.contains('Mr')\n",
    "</code>"
   ]
  },
  {
   "cell_type": "code",
   "execution_count": 29,
   "metadata": {},
   "outputs": [
    {
     "data": {
      "text/plain": [
       "Ellipsis"
      ]
     },
     "execution_count": 29,
     "metadata": {},
     "output_type": "execute_result"
    }
   ],
   "source": [
    "titanic['Title'] = 'Other'\n",
    "\n",
    "...\n",
    "\n",
    "## then use groupby() and agg() to get the table bellow\n",
    "...\n"
   ]
  },
  {
   "cell_type": "markdown",
   "metadata": {},
   "source": [
    "Survived\n",
    "\n",
    "Title\tcount\tsum\tmean\t\t\n",
    "Master\t  40\t23\t0.575000\n",
    "Miss\t 180\t126\t0.700000\n",
    "Mr\t     518\t82\t0.158301\n",
    "Mrs\t     130\t103\t0.792308\n",
    "Other\t  24\t9\t0.375000"
   ]
  }
 ],
 "metadata": {
  "kernelspec": {
   "display_name": "Python 3",
   "language": "python",
   "name": "python3"
  },
  "language_info": {
   "codemirror_mode": {
    "name": "ipython",
    "version": 3
   },
   "file_extension": ".py",
   "mimetype": "text/x-python",
   "name": "python",
   "nbconvert_exporter": "python",
   "pygments_lexer": "ipython3",
   "version": "3.7.4"
  }
 },
 "nbformat": 4,
 "nbformat_minor": 2
}
