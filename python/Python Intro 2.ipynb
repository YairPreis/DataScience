{
 "cells": [
  {
   "cell_type": "markdown",
   "metadata": {},
   "source": [
    "# Python Intro - Part 2\n",
    " \n",
    "The aim of this part is to learn about funtions and dive into the most important libraries used in data science.\n",
    " \n",
    "Today we will talk about:\n",
    " \n",
    "- Functions in Python\n",
    "- Programming paradigms\n",
    "- How to create our own Pyhton module (library) and call it for use\n",
    "- Some of the most important Python modules/libraries in Data Science\n",
    " \n",
    "\n",
    "\n",
    "## Functions in Python\n",
    "\n",
    "In Pyhton, funcions are defined by the <i>'def <function_name>()'</i> function:\n"
   ]
  },
  {
   "cell_type": "code",
   "execution_count": 112,
   "metadata": {},
   "outputs": [],
   "source": [
    "def bmi(weight, height):\n",
    "    res = weight / (height ** 2)\n",
    "    return(res)"
   ]
  },
  {
   "cell_type": "code",
   "execution_count": 113,
   "metadata": {},
   "outputs": [
    {
     "data": {
      "text/plain": [
       "23.671253629592222"
      ]
     },
     "execution_count": 113,
     "metadata": {},
     "output_type": "execute_result"
    }
   ],
   "source": [
    "bmi(75,1.78)"
   ]
  },
  {
   "cell_type": "markdown",
   "metadata": {},
   "source": [
    "Another example of a function is the following:"
   ]
  },
  {
   "cell_type": "code",
   "execution_count": 114,
   "metadata": {},
   "outputs": [],
   "source": [
    "def square(x):\n",
    "    res = []\n",
    "    for i in x:\n",
    "        res.append(i**2)\n",
    "    return(res)\n"
   ]
  },
  {
   "cell_type": "code",
   "execution_count": 115,
   "metadata": {},
   "outputs": [
    {
     "data": {
      "text/plain": [
       "[1, 4, 9, 16, 25, 49]"
      ]
     },
     "execution_count": 115,
     "metadata": {},
     "output_type": "execute_result"
    }
   ],
   "source": [
    "x = [1,2,3,4,5,7]\n",
    "square(x)"
   ]
  },
  {
   "cell_type": "markdown",
   "metadata": {},
   "source": [
    "We can also define this function in a different way:"
   ]
  },
  {
   "cell_type": "code",
   "execution_count": 76,
   "metadata": {},
   "outputs": [],
   "source": [
    "def square2(x):\n",
    "    res = [i**2 for i in x]\n",
    "    return(res)"
   ]
  },
  {
   "cell_type": "code",
   "execution_count": 77,
   "metadata": {},
   "outputs": [
    {
     "data": {
      "text/plain": [
       "[1, 4, 9, 16, 25, 49]"
      ]
     },
     "execution_count": 77,
     "metadata": {},
     "output_type": "execute_result"
    }
   ],
   "source": [
    "square2(x)"
   ]
  },
  {
   "cell_type": "markdown",
   "metadata": {},
   "source": [
    "In this code, we tell the for loop to take each element of x and apply the previous operation to it. This resambles the <i>'aply'</i>  family of functions in R. Another way to do the same as the R's  <i>'aply'</i>  family is the use of the map function."
   ]
  },
  {
   "cell_type": "code",
   "execution_count": 78,
   "metadata": {},
   "outputs": [],
   "source": [
    "def square(x):\n",
    "    return x**2\n",
    "\n",
    "res = map(square, x)\n"
   ]
  },
  {
   "cell_type": "code",
   "execution_count": 79,
   "metadata": {},
   "outputs": [
    {
     "name": "stdout",
     "output_type": "stream",
     "text": [
      "1\n",
      "4\n",
      "9\n",
      "16\n",
      "25\n",
      "49\n"
     ]
    }
   ],
   "source": [
    "for i in res:\n",
    "    print(i)"
   ]
  },
  {
   "cell_type": "markdown",
   "metadata": {},
   "source": [
    "Another way to do the last operation is by using the <i>'lambda'</i> function. This function is called also an anonymous function because it does not need a name. Lambda is a vesatil generic function that admits an input and an output. The output is determined by the data manipulation we want to generate. The previous example can be created with lambda as follows: "
   ]
  },
  {
   "cell_type": "code",
   "execution_count": 80,
   "metadata": {
    "scrolled": true
   },
   "outputs": [
    {
     "name": "stdout",
     "output_type": "stream",
     "text": [
      "1\n",
      "4\n",
      "9\n",
      "16\n",
      "25\n",
      "49\n"
     ]
    }
   ],
   "source": [
    "res = map(lambda i:i**2, x)\n",
    "for i in res:\n",
    "    print(i)"
   ]
  },
  {
   "cell_type": "markdown",
   "metadata": {},
   "source": [
    "For a more in depth explanation of lambda functions you can read <a href=\"https://realpython.com/python-lambda/\">this blog</a>."
   ]
  },
  {
   "cell_type": "markdown",
   "metadata": {},
   "source": [
    "### Error manipulation in Python functions\n",
    "\n",
    "Python, like R, have some ways to prevent the interuption of running a function or to give the user a customized message when an errors occur.\n",
    " \n",
    "One of the ways is the use of the <i> try ... except </i> commands: "
   ]
  },
  {
   "cell_type": "code",
   "execution_count": 92,
   "metadata": {},
   "outputs": [],
   "source": [
    "def bmi(weight, height):\n",
    "    try:\n",
    "        if(height > 2.5):\n",
    "            print('''Did you mean %f ?\n",
    "Please enter the height in meters and not in centimeters.''' % (float(height/100)))\n",
    "        else:\n",
    "            res = weight / height**2\n",
    "            return(res)\n",
    "    except ZeroDivisionError:\n",
    "        print(\"Please give a height different of zero\")\n",
    "    except TypeError:\n",
    "        print(\"Please enter only numeric value\")\n",
    "    except:\n",
    "        print(\"An unexpected error ocurred!\")\n"
   ]
  },
  {
   "cell_type": "code",
   "execution_count": 89,
   "metadata": {},
   "outputs": [
    {
     "data": {
      "text/plain": [
       "24.074074074074073"
      ]
     },
     "execution_count": 89,
     "metadata": {},
     "output_type": "execute_result"
    }
   ],
   "source": [
    "bmi(78,1.8)"
   ]
  },
  {
   "cell_type": "code",
   "execution_count": 14,
   "metadata": {},
   "outputs": [
    {
     "name": "stdout",
     "output_type": "stream",
     "text": [
      "Did you mean 1.800000 ?\n",
      "Please enter the height in meters and not in centimeters.\n"
     ]
    }
   ],
   "source": [
    "bmi(78,180)"
   ]
  },
  {
   "cell_type": "code",
   "execution_count": 15,
   "metadata": {},
   "outputs": [
    {
     "name": "stdout",
     "output_type": "stream",
     "text": [
      "Please give a height different of zero\n"
     ]
    }
   ],
   "source": [
    "bmi(78,0)"
   ]
  },
  {
   "cell_type": "code",
   "execution_count": 16,
   "metadata": {},
   "outputs": [
    {
     "name": "stdout",
     "output_type": "stream",
     "text": [
      "Please enter only numeric value\n"
     ]
    }
   ],
   "source": [
    "bmi('a',1.89)"
   ]
  },
  {
   "cell_type": "markdown",
   "metadata": {},
   "source": [
    "## Exercise\n",
    " \n",
    "Create a function that converts any given timeframe (days, hours and minutes) into seconds. The input must include a string representing the timeframe and an integer representing the value of the timeframe. The function must be like this:\n",
    " \n",
    "<code>\n",
    "> convert2sec(23,'min')\n",
    "> 23 minutes = 1380 seconds\n",
    "</code>"
   ]
  },
  {
   "cell_type": "markdown",
   "metadata": {},
   "source": [
    "#Tomas sulotion is:\n",
    "    ???????????????\n",
    "    "
   ]
  },
  {
   "cell_type": "code",
   "execution_count": 106,
   "metadata": {},
   "outputs": [],
   "source": [
    "def convert2sec(time, timeframe):\n",
    "    out = \"%d %s = %d seconds\"\n",
    "    tf = timeframe.lower() [0]           # <--[0] make the input small letters and take the first letter. זה כדי להמנע ממצב שהקוד לא עובד כי הכניסו את המילה דקות עם אות גדולה או עם שגיאות כתיב\n",
    "    if(time==0 or tf==''):\n",
    "        return(\"please enter correct parameters\")\n",
    "    elif(tf=='d'):\n",
    "        return (out % (time,timeframe.lower(), time*24*60*60))  #<-- מגדיר את המשתנים שיכנסו לתוך out\n",
    "    elif(tf=='h'):\n",
    "        return(out % (time,timeframe.lower(), time*60*60))\n",
    "    elif(tf=='m'):\n",
    "        return(out % (time,timeframe.lower(), time*60))\n",
    "    else:\n",
    "        print(\"Cant understand what you stupid fuck did!!!\")\n",
    "        print(\"can't calculate a value for such timeframe (%s)\" % timeframe)\n",
    "    "
   ]
  },
  {
   "cell_type": "code",
   "execution_count": 107,
   "metadata": {},
   "outputs": [
    {
     "data": {
      "text/plain": [
       "'please enter correct parameters'"
      ]
     },
     "execution_count": 107,
     "metadata": {},
     "output_type": "execute_result"
    }
   ],
   "source": [
    "convert2sec(0,'day')      "
   ]
  },
  {
   "cell_type": "code",
   "execution_count": 108,
   "metadata": {},
   "outputs": [
    {
     "data": {
      "text/plain": [
       "'1 day = 86400 seconds'"
      ]
     },
     "execution_count": 108,
     "metadata": {},
     "output_type": "execute_result"
    }
   ],
   "source": [
    "convert2sec(1,'day')"
   ]
  },
  {
   "cell_type": "code",
   "execution_count": 25,
   "metadata": {},
   "outputs": [
    {
     "data": {
      "text/plain": [
       "'1 hours = 3600 seconds'"
      ]
     },
     "execution_count": 25,
     "metadata": {},
     "output_type": "execute_result"
    }
   ],
   "source": [
    "convert2sec(1,'hours')"
   ]
  },
  {
   "cell_type": "code",
   "execution_count": 26,
   "metadata": {},
   "outputs": [
    {
     "data": {
      "text/plain": [
       "'1 minutes = 60 seconds'"
      ]
     },
     "execution_count": 26,
     "metadata": {},
     "output_type": "execute_result"
    }
   ],
   "source": [
    "convert2sec(1,'minutes')"
   ]
  },
  {
   "cell_type": "markdown",
   "metadata": {},
   "source": [
    "# Programming Paradigms\n",
    " \n",
    "Programming Languages are tools for solving problems! Python, as in the case of many other modern languages, we are able to use many of those paradigms at the time.\n",
    " \n",
    " \n",
    "## Declarative Programming\n",
    " \n",
    "In declarative programming we \"declare\" our mental order of things to do to be able to complete our goal. \n",
    "On this paradigm we concentrate on the \"WHAT\" we want and leave the \"HOW\" to do it to the compiler."
   ]
  },
  {
   "cell_type": "markdown",
   "metadata": {},
   "source": [
    "Some examples of declarative programming languages are:\n",
    " \n",
    "- XML\n",
    "- <a href=\"https://www.simpleweb.org/\"> HTML language </a>\n",
    "- <a href=\"https://www.latex-project.org/about/\"> LaTeX </a>\n",
    "- PostScript (.ps) / PDF\n",
    "- SQL\n",
    "- MapReduce\n",
    " \n",
    "In Python an example of a declarative code is:\n",
    "\n",
    " <code>  a = [i**2 for i in x] </code>\n"
   ]
  },
  {
   "cell_type": "code",
   "execution_count": 116,
   "metadata": {},
   "outputs": [
    {
     "data": {
      "text/plain": [
       "[1, 4, 9, 16, 25]"
      ]
     },
     "execution_count": 116,
     "metadata": {},
     "output_type": "execute_result"
    }
   ],
   "source": [
    "x = [1,2,3,4,5]\n",
    "a = [i**2 for i in x]\n",
    "a"
   ]
  },
  {
   "cell_type": "markdown",
   "metadata": {},
   "source": [
    "# Procedural Programming\n"
   ]
  },
  {
   "cell_type": "markdown",
   "metadata": {},
   "source": [
    "In this paradigm, the program runs a series of subroutines (procedures) that may change the state of the program, and may have side effects on the environment (internal memory) and on the outside (writing to the hard disk).\n",
    " \n",
    "In Python, an example of this paradigm is:\n",
    "\n",
    "<code>\n",
    "    a = []\n",
    "    for i in x:\n",
    "        a.append(i**2)\n",
    "</code>\n"
   ]
  },
  {
   "cell_type": "code",
   "execution_count": 117,
   "metadata": {},
   "outputs": [
    {
     "data": {
      "text/plain": [
       "[1, 4, 9, 16, 25]"
      ]
     },
     "execution_count": 117,
     "metadata": {},
     "output_type": "execute_result"
    }
   ],
   "source": [
    "a = []\n",
    "for i in x:\n",
    "    a.append(i**2)\n",
    "    \n",
    "a"
   ]
  },
  {
   "attachments": {
    "image.png": {
     "image/png": "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"
    }
   },
   "cell_type": "markdown",
   "metadata": {},
   "source": [
    "# Functional Programming\n",
    " \n",
    "![image.png](attachment:image.png)"
   ]
  },
  {
   "cell_type": "markdown",
   "metadata": {},
   "source": [
    "This paradigm of programmings runs a series of functions without generating \"side effects\" (Has no interaction with the outside world). It does not interact with the user, nor with the filesystem, operating system, etc. The only interction permited is outputing the final result. Many languages permits this type of programming: Java, Pyhton, C++, C#, R, Mathematica, Javascript, etc.\n",
    "\n",
    "In Python, an example of this paradigm is:\n",
    "\n",
    "<code>   res = map(lambda i:i**2, x) </code>\n",
    "    \n"
   ]
  },
  {
   "cell_type": "code",
   "execution_count": 127,
   "metadata": {},
   "outputs": [
    {
     "name": "stdout",
     "output_type": "stream",
     "text": [
      "<map object at 0x000001DCFD66C388>\n"
     ]
    },
    {
     "data": {
      "text/plain": [
       "[1, 4, 9, 16, 25]"
      ]
     },
     "execution_count": 127,
     "metadata": {},
     "output_type": "execute_result"
    }
   ],
   "source": [
    "a = map(lambda i:i**2, x) \n",
    "print(a)\n",
    "list(a)"
   ]
  },
  {
   "cell_type": "markdown",
   "metadata": {},
   "source": [
    "# Object Oriented Programming\n",
    "\n",
    "## Classes and methods\n",
    "\n",
    "In object oriented programming classes are like a blueprint of an object. A class encapsulates the content of the object. Inside the class we can define values and functions. Functions inside a class are called methods and values are called attributes. There are two types of methods: public, which are callable from the object and private that are not callable and are used only inside the class. The default type of method is the public type. To define an internal method we use the notation \\_\\_method\\_\\_():.\n",
    " \n",
    "Let show a simple class in action:\n"
   ]
  },
  {
   "cell_type": "code",
   "execution_count": 85,
   "metadata": {},
   "outputs": [
    {
     "data": {
      "text/plain": [
       "'David'"
      ]
     },
     "execution_count": 85,
     "metadata": {},
     "output_type": "execute_result"
    }
   ],
   "source": [
    "class Student:\n",
    "    def setName(self,name):\n",
    "        self.name = name\n",
    "    def getName(self):\n",
    "        return(self.name)\n",
    "\n",
    "studObj1 = Student() \n",
    "studObj1.setName(\"David\")\n",
    "studObj1.getName()"
   ]
  },
  {
   "cell_type": "markdown",
   "metadata": {},
   "source": [
    "This code defines the class Student. We call the class by passing the class object to a variable (studObj1).\n",
    "The Student class has two public methods: setName() and getName(). The first assigns a 'name' to the object, while the second retrieves this 'name'. When defining a method we have to add as first argument 'self'. Self says the method that we are passing to the method the whole class attributes and methods. When calling the method from the outside, we obviate the self parameter.\n",
    " \n",
    "## Constructors\n",
    "\n",
    "Now if we call the getName() method without calling before the setName() method we will get an error. To initialize the attributes and prevent gettinhg errors, we use a private method called \\_\\_init\\_\\_(). This method is also called a constructor."
   ]
  },
  {
   "cell_type": "code",
   "execution_count": 128,
   "metadata": {},
   "outputs": [],
   "source": [
    "class Student:\n",
    "    def __init__(self,name=\"\"):\n",
    "        self.name = name\n",
    "    def setName(self,name):\n",
    "        self.name = name\n",
    "    def getName(self):\n",
    "        return(self.name)\n"
   ]
  },
  {
   "cell_type": "code",
   "execution_count": 129,
   "metadata": {},
   "outputs": [
    {
     "data": {
      "text/plain": [
       "''"
      ]
     },
     "execution_count": 129,
     "metadata": {},
     "output_type": "execute_result"
    }
   ],
   "source": [
    "studObj1 = Student() \n",
    "studObj1.getName()"
   ]
  },
  {
   "cell_type": "code",
   "execution_count": 130,
   "metadata": {},
   "outputs": [
    {
     "data": {
      "text/plain": [
       "'David'"
      ]
     },
     "execution_count": 130,
     "metadata": {},
     "output_type": "execute_result"
    }
   ],
   "source": [
    "studObj1 = Student(\"David\") \n",
    "studObj1.getName()"
   ]
  },
  {
   "cell_type": "code",
   "execution_count": 131,
   "metadata": {},
   "outputs": [
    {
     "data": {
      "text/plain": [
       "'Moshe'"
      ]
     },
     "execution_count": 131,
     "metadata": {},
     "output_type": "execute_result"
    }
   ],
   "source": [
    "studObj1.setName(\"Moshe\")\n",
    "studObj1.getName()"
   ]
  },
  {
   "cell_type": "markdown",
   "metadata": {},
   "source": [
    "Lets customize a bit more our Student class. We want to get the Student name when using the function print() as follows:\n",
    " \n",
    "> print(studObj1)\n",
    " \n",
    "If we run this function we will get an error. To return the name we have to add another private method: \\_\\_str\\_\\_(). This generates a string that is passed to the print method."
   ]
  },
  {
   "cell_type": "code",
   "execution_count": 138,
   "metadata": {},
   "outputs": [],
   "source": [
    "class Student:\n",
    "    def __init__(self,name=\"\"):\n",
    "        self.name = name\n",
    "    def setName(self,name):\n",
    "        self.name = name\n",
    "    def getName(self):\n",
    "        return(self.name)\n",
    "    def __str__(self):\n",
    "        return \"The name of the student is %s\" % self.name\n"
   ]
  },
  {
   "cell_type": "code",
   "execution_count": 139,
   "metadata": {},
   "outputs": [
    {
     "name": "stdout",
     "output_type": "stream",
     "text": [
      "The name of the student is David\n"
     ]
    }
   ],
   "source": [
    "studObj1 = Student(\"David\") \n",
    "print(studObj1)"
   ]
  },
  {
   "cell_type": "markdown",
   "metadata": {},
   "source": [
    "# Inheritance\n",
    "\n",
    "Another characteristic of object oriented programming is the inheritance of the methods and attributes of one class into a newer class. This helps to reduce the amount of code by preventing to repeat the same class code into another code that has similar characteristics. We will now create a Classroom class. This class has the attributes: student name, teacher name, course name and classroom number. The student name will be inherited from the Student class."
   ]
  },
  {
   "cell_type": "code",
   "execution_count": 140,
   "metadata": {},
   "outputs": [],
   "source": [
    "class Classroom(Student):\n",
    "    def __init__(self,name=\"\",teacher=\"\",course=\"\",class_num=\"\"):\n",
    "        self.name, self.teacher, self.course, self.class_num = name, teacher, course, class_num\n",
    "    def setTeacher(self, teacher):\n",
    "        self.teacher = teacher\n",
    "    def getTeacher(self):\n",
    "        return self.teacher\n",
    "    def setCourse(self,course):\n",
    "        self.course = course\n",
    "    def getCourse(self):\n",
    "        return self.course\n",
    "    def setClassNumber(self,class_num):\n",
    "        self.class_num = class_num\n",
    "    def getClassNumber(self):\n",
    "        return self.class_num\n",
    "    def __str__(self):\n",
    "        return '''Student Name: %s \\nTeacher Name: %s \\nCourse Name: %s \\nClassroom Number: %s \\n''' % (self.name, self.teacher, self.course, self.class_num)\n",
    "    "
   ]
  },
  {
   "cell_type": "code",
   "execution_count": 141,
   "metadata": {},
   "outputs": [
    {
     "name": "stdout",
     "output_type": "stream",
     "text": [
      "Student Name:  \n",
      "Teacher Name:  \n",
      "Course Name:  \n",
      "Classroom Number:  \n",
      "\n"
     ]
    }
   ],
   "source": [
    "clsrmObj_1 = Classroom()\n",
    "print(clsrmObj_1)"
   ]
  },
  {
   "cell_type": "code",
   "execution_count": 142,
   "metadata": {},
   "outputs": [
    {
     "data": {
      "text/plain": [
       "''"
      ]
     },
     "execution_count": 142,
     "metadata": {},
     "output_type": "execute_result"
    }
   ],
   "source": [
    "clsrmObj_1.getName()"
   ]
  },
  {
   "cell_type": "markdown",
   "metadata": {},
   "source": [
    "As we can see, we did not defined in the Classroom class the method getName(), but it works because we inherited it from the Student class. In this case, the Student class is called the Parent Class (or the super-class) and the Classroom class is called the child class. Now we pass some data to the class parameters (attributes) and will print the resutls:"
   ]
  },
  {
   "cell_type": "code",
   "execution_count": 143,
   "metadata": {},
   "outputs": [
    {
     "name": "stdout",
     "output_type": "stream",
     "text": [
      "Student Name: David \n",
      "Teacher Name: Moshe \n",
      "Course Name: Pyhton \n",
      "Classroom Number: 100-A \n",
      "\n",
      "Student Name: Leah \n",
      "Teacher Name: Moshe \n",
      "Course Name: Pyhton \n",
      "Classroom Number: 100-A \n",
      "\n",
      "Student Name: Hannah \n",
      "Teacher Name: Boris \n",
      "Course Name: SQL \n",
      "Classroom Number: 115-C \n",
      "\n"
     ]
    }
   ],
   "source": [
    "clsrmObj_1 = Classroom(\"David\",\"Moshe\",\"Pyhton\",\"100-A\")\n",
    "clsrmObj_2 = Classroom(\"Leah\",\"Moshe\",\"Pyhton\",\"100-A\")\n",
    "clsrmObj_3 = Classroom(\"Hannah\",\"Boris\",\"SQL\",\"115-C\")\n",
    "\n",
    "print(clsrmObj_1)\n",
    "print(clsrmObj_2)\n",
    "print(clsrmObj_3)"
   ]
  },
  {
   "cell_type": "markdown",
   "metadata": {},
   "source": [
    "---\n",
    "---\n",
    "\n",
    "<code></code>\n",
    "\n",
    "### Exercise: \n",
    " \n",
    "1. Write a class for cars. Each car has the following attributes:  \n",
    "    + Company \n",
    "    + Model \n",
    "    + BodyStyle \n",
    "    + Doors \n",
    "    + Cylinders \n",
    "    + Hybrid \n",
    " \n",
    "\n",
    "2. Create a method to retrieve and to set each of the attributes, and a constructor for printing the attribute values.\n",
    " \n",
    "3. Create objects for each of the following car models:\n",
    "\n",
    "    - Toyota Corola Sedan with 4 doors, 4 cylinder, hybrid\n",
    "    - Hyundai i30 Hatchback, 5 doors, 4 cylinder\n",
    "    - Fiat Tipo Wagon, 5 doors, 8 cylinder\n",
    "    - Seat Leon Hatchback, 3 doors, 4 cylinder\n",
    " \n",
    "\n",
    "4. Use the 'print' function to print each object attributes.\n",
    "\n",
    "<code></code>\n",
    "\n",
    "---\n",
    "---\n"
   ]
  },
  {
   "cell_type": "code",
   "execution_count": 149,
   "metadata": {},
   "outputs": [],
   "source": [
    "class Cars:\n",
    "    def __init__(self,Company=\"\",Model=\"\",BodyStyle=\"\",Doors=\"\",Cylinders=\"\",Hybrid=\"\"):\n",
    "        self.Company = Company,   # or in one row: self.Company,self.Model,self.BodyStyle ... = Company,Model,BodyStyle ...\n",
    "        self.Model= Model,\n",
    "        self.BodyStyle = BodyStyle,\n",
    "        self.Doors = Doors,\n",
    "        self.Cylinders = Cylinders,\n",
    "        self.Hybrid = Hybrid\n",
    "        \n",
    "    def setCompany(self,Company):\n",
    "        self.Company = Company\n",
    "    def getCompany(self):\n",
    "        return(self.Company)\n",
    "    \n",
    "    def setModel(self,Model):\n",
    "        self.Model = Model\n",
    "    def getModel(self):\n",
    "        return(self.Model)\n",
    "    \n",
    "    def setBodyStyle(self,BodyStyle):\n",
    "        self.BodyStyle = BodyStyle\n",
    "    def getModel(self):\n",
    "        return(self.BodyStyle)\n",
    "    \n",
    "    def setDoors(self,Doors):\n",
    "        self.Doors = Doors\n",
    "    def getDoors(self):\n",
    "        return(self.Doors)\n",
    "    \n",
    "    def setCylinders(self,Cylinders):\n",
    "        self.Cylinders = Cylinders\n",
    "    def getCylinders(self):\n",
    "        return(self.Cylinders)\n",
    "    \n",
    "    def setHybrid(self,Hybrid):\n",
    "        self.Hybrid = Hybrid\n",
    "    def getHybrid(self):\n",
    "        return(self.Hybrid)\n",
    "      \n",
    "       \n",
    "    def __str__(self):\n",
    "       return(\"The name of the model %s, company: %s\" % (self.Model,self.Company))\n"
   ]
  },
  {
   "cell_type": "code",
   "execution_count": 58,
   "metadata": {},
   "outputs": [
    {
     "name": "stdout",
     "output_type": "stream",
     "text": [
      "The name of the model ('Corola',), company: ('Toyota',)\n"
     ]
    }
   ],
   "source": [
    "# Toyota Corola Sedan with 4 doors, 4 cylinder, hybrid\n",
    "# Company=\"\",Model=\"\",BodyStyle=\"\",Doors=\"\",Cylinders=\"\",Hybrid=\"\"\n",
    "mycar = Cars('Toyota','Corola','Sedan',4,4,'hybrid' )\n",
    "print(mycar)\n"
   ]
  },
  {
   "cell_type": "code",
   "execution_count": null,
   "metadata": {},
   "outputs": [],
   "source": [
    "# Hyundai i30 Hatchback, 5 doors, 4 cylinder\n",
    "Cars('Hyundai','i30','Hatchback','5 doors')"
   ]
  },
  {
<<<<<<< HEAD
   "cell_type": "code",
   "execution_count": 1,
   "metadata": {},
   "outputs": [
    {
     "ename": "NameError",
     "evalue": "name 'Student' is not defined",
     "output_type": "error",
     "traceback": [
      "\u001b[0;31m---------------------------------------------------------------------------\u001b[0m",
      "\u001b[0;31mNameError\u001b[0m                                 Traceback (most recent call last)",
      "\u001b[0;32m<ipython-input-1-239b44f1628d>\u001b[0m in \u001b[0;36m<module>\u001b[0;34m\u001b[0m\n\u001b[0;32m----> 1\u001b[0;31m \u001b[0;32mclass\u001b[0m \u001b[0mClassroom\u001b[0m\u001b[0;34m(\u001b[0m\u001b[0mStudent\u001b[0m\u001b[0;34m)\u001b[0m\u001b[0;34m:\u001b[0m\u001b[0;34m\u001b[0m\u001b[0;34m\u001b[0m\u001b[0m\n\u001b[0m\u001b[1;32m      2\u001b[0m     \u001b[0;32mdef\u001b[0m \u001b[0m__init__\u001b[0m\u001b[0;34m(\u001b[0m\u001b[0mself\u001b[0m\u001b[0;34m,\u001b[0m\u001b[0mname\u001b[0m\u001b[0;34m=\u001b[0m\u001b[0;34m\"\"\u001b[0m\u001b[0;34m,\u001b[0m\u001b[0mteacher\u001b[0m\u001b[0;34m=\u001b[0m\u001b[0;34m\"\"\u001b[0m\u001b[0;34m,\u001b[0m\u001b[0mcourse\u001b[0m\u001b[0;34m=\u001b[0m\u001b[0;34m\"\"\u001b[0m\u001b[0;34m,\u001b[0m\u001b[0mclass_num\u001b[0m\u001b[0;34m=\u001b[0m\u001b[0;34m\"\"\u001b[0m\u001b[0;34m)\u001b[0m\u001b[0;34m:\u001b[0m\u001b[0;34m\u001b[0m\u001b[0;34m\u001b[0m\u001b[0m\n\u001b[1;32m      3\u001b[0m         \u001b[0mself\u001b[0m\u001b[0;34m.\u001b[0m\u001b[0mname\u001b[0m\u001b[0;34m,\u001b[0m \u001b[0mself\u001b[0m\u001b[0;34m.\u001b[0m\u001b[0mteacher\u001b[0m\u001b[0;34m,\u001b[0m \u001b[0mself\u001b[0m\u001b[0;34m.\u001b[0m\u001b[0mcourse\u001b[0m\u001b[0;34m,\u001b[0m \u001b[0mself\u001b[0m\u001b[0;34m.\u001b[0m\u001b[0mclass_num\u001b[0m \u001b[0;34m=\u001b[0m \u001b[0mname\u001b[0m\u001b[0;34m,\u001b[0m \u001b[0mteacher\u001b[0m\u001b[0;34m,\u001b[0m \u001b[0mcourse\u001b[0m\u001b[0;34m,\u001b[0m \u001b[0mclass_num\u001b[0m\u001b[0;34m\u001b[0m\u001b[0;34m\u001b[0m\u001b[0m\n\u001b[1;32m      4\u001b[0m     \u001b[0;32mdef\u001b[0m \u001b[0msetTeacher\u001b[0m\u001b[0;34m(\u001b[0m\u001b[0mself\u001b[0m\u001b[0;34m,\u001b[0m \u001b[0mteacher\u001b[0m\u001b[0;34m)\u001b[0m\u001b[0;34m:\u001b[0m\u001b[0;34m\u001b[0m\u001b[0;34m\u001b[0m\u001b[0m\n\u001b[1;32m      5\u001b[0m         \u001b[0mself\u001b[0m\u001b[0;34m.\u001b[0m\u001b[0mteacher\u001b[0m \u001b[0;34m=\u001b[0m \u001b[0mteacher\u001b[0m\u001b[0;34m\u001b[0m\u001b[0;34m\u001b[0m\u001b[0m\n",
      "\u001b[0;31mNameError\u001b[0m: name 'Student' is not defined"
     ]
    }
   ],
   "source": [
    "class Classroom(Student):\n",
    "    def __init__(self,name=\"\",teacher=\"\",course=\"\",class_num=\"\"):\n",
    "        self.name, self.teacher, self.course, self.class_num = name, teacher, course, class_num\n",
    "    def setTeacher(self, teacher):\n",
    "        self.teacher = teacher\n",
    "    def getTeacher(self):\n",
    "        return self.teacher\n",
    "    def setCourse(self,course):\n",
    "        self.course = course\n",
    "    def getCourse(self):\n",
    "        return self.course\n",
    "    def setClassNumber(self,class_num):\n",
    "        self.class_num = class_num\n",
    "    def getClassNumber(self):\n",
    "        return self.class_num\n",
    "    def __str__(self):\n",
    "        return '''Student Name: %s \\nTeacher Name: %s \\nCourse Name: %s \\nClassroom Number: %s \\n''' % (self.name, self.teacher, self.course, self.class_num)\n",
    "    "
   ]
  },
  {
=======
>>>>>>> 570962f0784e062de9488663f2384163eae166d7
   "cell_type": "markdown",
   "metadata": {},
   "source": [
    "# Modules\n",
    "\n",
    "Modules are python files that contain classes, methods and functions. We use modules to save code that will be reused many times in the same application and that could serve us in multiple different applications. In other words, modules is to write once and use anytime. \n",
    " \n",
    "A collection of modules are used to create Pyhton libraries (packages) that extends the power of Pyhton, permiting us to made things that the base Python language does not have.\n",
    " \n",
    "Module files are accessed in one of the following ways:\n",
    " \n",
    "- In the python library directory (in windows will be in c:\\Users\\<user_name>\\<pyhton_path>\\Libs\\site-packages; in linux is in /usr/[/local/]lib/pyhton<version>/site-packages)\n",
    "- In the current working directory\n",
    "- In a directory defined on the global variable PYTHONPATH.\n",
    "  \n",
    "Lets now create a module named <i>tcds_demo.py</i> tha will contain a class named <i>TCDS</i> and that will get as input the name of a programming language and will return if the language program will be used on our course or not.\n",
    " \n",
    "The code will lock like this:\n",
    "\n",
    "---\n",
    "ds_demo.py \n",
    "--- \n",
    "\n",
    "<code>\n",
    "def checkLanguage(lang):\n",
    "    if(lang == \"R\"):\n",
    "        msg = \"We will use R extensively on machine learning!\"\n",
    "    elif(lang == \"Python\"):\n",
    "        msg = \"We will use Python extensively on machine learning and deep learning!\"\n",
    "    else:\n",
    "        msg = \"Sorry, we will not use %s on machine learning!\" % lang\n",
    "    print(msg)\n",
    "</code>\n",
    " \n",
    "We copy this code to notepad or a similar application and save it. To call the modeule we can use two methods:\n",
    " \n",
    "- import ds_demo as ds\n",
    " \n",
    "or\n",
    " \n",
    "- from ds_demo import DS\n",
    " \n",
    "Now we will see how to use each of those methods:\n"
   ]
  },
  {
   "cell_type": "code",
   "execution_count": 9,
   "metadata": {
    "scrolled": true
   },
   "outputs": [
    {
     "ename": "AttributeError",
     "evalue": "module 'ds_demo' has no attribute 'checkLanguage'",
     "output_type": "error",
     "traceback": [
      "\u001b[0;31m---------------------------------------------------------------------------\u001b[0m",
      "\u001b[0;31mAttributeError\u001b[0m                            Traceback (most recent call last)",
      "\u001b[0;32m<ipython-input-9-37cd1dc6a771>\u001b[0m in \u001b[0;36m<module>\u001b[0;34m\u001b[0m\n\u001b[1;32m      1\u001b[0m \u001b[0;32mimport\u001b[0m \u001b[0mds_demo\u001b[0m \u001b[0;32mas\u001b[0m \u001b[0mds\u001b[0m\u001b[0;34m\u001b[0m\u001b[0;34m\u001b[0m\u001b[0m\n\u001b[0;32m----> 2\u001b[0;31m \u001b[0mds\u001b[0m\u001b[0;34m.\u001b[0m\u001b[0mcheckLanguage\u001b[0m\u001b[0;34m(\u001b[0m\u001b[0;34m\"R\"\u001b[0m\u001b[0;34m)\u001b[0m\u001b[0;34m\u001b[0m\u001b[0;34m\u001b[0m\u001b[0m\n\u001b[0m",
      "\u001b[0;31mAttributeError\u001b[0m: module 'ds_demo' has no attribute 'checkLanguage'"
     ]
    }
   ],
   "source": [
    "import ds_demo as ds\n",
    "ds.checkLanguage(\"R\")\n"
   ]
  },
  {
   "cell_type": "markdown",
   "metadata": {},
   "source": [
    "### the problem is that if the text function is havy, we dont want to call it all so we can onlly the relavent part like that:"
   ]
  },
  {
   "cell_type": "code",
   "execution_count": 10,
   "metadata": {},
   "outputs": [
    {
     "ename": "ImportError",
     "evalue": "cannot import name 'checkLanguage'",
     "output_type": "error",
     "traceback": [
      "\u001b[0;31m---------------------------------------------------------------------------\u001b[0m",
      "\u001b[0;31mImportError\u001b[0m                               Traceback (most recent call last)",
      "\u001b[0;32m<ipython-input-10-b68715069284>\u001b[0m in \u001b[0;36m<module>\u001b[0;34m\u001b[0m\n\u001b[0;32m----> 1\u001b[0;31m \u001b[0;32mfrom\u001b[0m \u001b[0mds_demo\u001b[0m \u001b[0;32mimport\u001b[0m \u001b[0mcheckLanguage\u001b[0m\u001b[0;34m\u001b[0m\u001b[0;34m\u001b[0m\u001b[0m\n\u001b[0m\u001b[1;32m      2\u001b[0m \u001b[0;34m\u001b[0m\u001b[0m\n\u001b[1;32m      3\u001b[0m \u001b[0mcheckLanguage\u001b[0m\u001b[0;34m(\u001b[0m\u001b[0;34m\"R\"\u001b[0m\u001b[0;34m)\u001b[0m\u001b[0;34m\u001b[0m\u001b[0;34m\u001b[0m\u001b[0m\n",
      "\u001b[0;31mImportError\u001b[0m: cannot import name 'checkLanguage'"
     ]
    }
   ],
   "source": [
    "from ds_demo import checkLanguage\n",
    "\n",
    "checkLanguage(\"R\")\n"
   ]
  },
  {
   "cell_type": "markdown",
   "metadata": {},
   "source": [
    "# Common Python Libraries Used IN DS\n",
    "\n",
    "## numpy\n",
    " \n",
    "numpy is a Python module that extends the functionality of Python by adding advanced mathematical capabilities. It is writen in C which performs faster then native Python, and permits the use of large amount of data. This gives Python the possibility of working with what is called \"Big Data\".\n",
    " \n",
    "numpy offers enhanced data types with improved performance for lists, tupples and dictionaries. It also implements simple and multidimentional arrays, which in the base python are implemented as list of lists, which is not the best performing way to work with arrays.\n",
    " \n"
   ]
  },
  {
   "cell_type": "code",
   "execution_count": 153,
   "metadata": {},
   "outputs": [
    {
     "name": "stdout",
     "output_type": "stream",
     "text": [
      "[[1 2 3]\n",
      " [4 5 6]]\n"
     ]
    }
   ],
   "source": [
    "import numpy as np\n",
    " \n",
    "a = np.array([(1,2,3), (4,5,6)], dtype = int)\n",
    "print(a)"
   ]
  },
  {
   "cell_type": "code",
   "execution_count": 158,
   "metadata": {},
   "outputs": [
    {
     "data": {
      "text/plain": [
       "array([[100, 200, 300],\n",
       "       [400, 500, 600]])"
      ]
     },
     "execution_count": 158,
     "metadata": {},
     "output_type": "execute_result"
    }
   ],
   "source": [
    "a * 100\n"
   ]
  },
  {
   "cell_type": "code",
   "execution_count": 152,
   "metadata": {},
   "outputs": [
    {
     "data": {
      "text/plain": [
       "array([[1.5, 3. , 4.5],\n",
       "       [6. , 7.5, 9. ]])"
      ]
     },
     "execution_count": 152,
     "metadata": {},
     "output_type": "execute_result"
    }
   ],
   "source": [
    "a * 1.5"
   ]
  },
  {
   "cell_type": "code",
   "execution_count": 168,
   "metadata": {},
   "outputs": [
    {
     "data": {
      "text/plain": [
       "(2, 3)"
      ]
     },
     "execution_count": 168,
     "metadata": {},
     "output_type": "execute_result"
    }
   ],
   "source": [
    "### shape gives the dimentions of the array \n",
    "a.shape\n"
   ]
  },
  {
   "cell_type": "code",
   "execution_count": 159,
   "metadata": {},
   "outputs": [
    {
     "data": {
      "text/plain": [
       "2"
      ]
     },
     "execution_count": 159,
     "metadata": {},
     "output_type": "execute_result"
    }
   ],
   "source": [
    "### ndim returns the total number of dimentions in the array\n",
    "a.ndim"
   ]
  },
  {
   "cell_type": "code",
   "execution_count": 170,
   "metadata": {},
   "outputs": [
    {
     "data": {
      "text/plain": [
       "2"
      ]
     },
     "execution_count": 170,
     "metadata": {},
     "output_type": "execute_result"
    }
   ],
   "source": [
    "### len also gives the dimentions of array\n",
    "len(a)"
   ]
  },
  {
   "cell_type": "code",
   "execution_count": 171,
   "metadata": {},
   "outputs": [
    {
     "data": {
      "text/plain": [
       "6"
      ]
     },
     "execution_count": 171,
     "metadata": {},
     "output_type": "execute_result"
    }
   ],
   "source": [
    "### size gives the total number of elements composing the array\n",
    "a.size"
   ]
  },
  {
   "cell_type": "code",
   "execution_count": 172,
   "metadata": {},
   "outputs": [
    {
     "data": {
      "text/plain": [
       "dtype('int64')"
      ]
     },
     "execution_count": 172,
     "metadata": {},
     "output_type": "execute_result"
    }
   ],
   "source": [
    "### dtype gives the data type  of the array values. As we created it as dtype int it returns int64\n",
    "a.dtype"
   ]
  },
  {
   "cell_type": "code",
   "execution_count": 173,
   "metadata": {},
   "outputs": [
    {
     "data": {
      "text/plain": [
       "dtype('int64')"
      ]
     },
     "execution_count": 173,
     "metadata": {},
     "output_type": "execute_result"
    }
   ],
   "source": [
    "### The default type is int64\n",
    "a = np.array([(1,2,3), (4,5,6)])\n",
    "a.dtype"
   ]
  },
  {
   "cell_type": "code",
   "execution_count": 175,
   "metadata": {},
   "outputs": [
    {
     "data": {
      "text/plain": [
       "dtype('float64')"
      ]
     },
     "execution_count": 175,
     "metadata": {},
     "output_type": "execute_result"
    }
   ],
   "source": [
    "### but we can change the type when creating the array\n",
    "a = np.array([(1,2,3), (4,5,6)], dtype='float')\n",
    "a.dtype"
   ]
  },
  {
   "cell_type": "code",
   "execution_count": 178,
   "metadata": {},
   "outputs": [
    {
     "name": "stdout",
     "output_type": "stream",
     "text": [
      "[[0. 0. 0. 0. 0.]\n",
      " [0. 0. 0. 0. 0.]]\n"
     ]
    }
   ],
   "source": [
    "### As we did in R, we can create zeros matrices\n",
    "b = np.zeros((2,5))\n",
    "print(b)"
   ]
  },
  {
   "cell_type": "code",
   "execution_count": 179,
   "metadata": {},
   "outputs": [
    {
     "name": "stdout",
     "output_type": "stream",
     "text": [
      "[[1. 1. 1. 1. 1.]\n",
      " [1. 1. 1. 1. 1.]\n",
      " [1. 1. 1. 1. 1.]\n",
      " [1. 1. 1. 1. 1.]]\n"
     ]
    }
   ],
   "source": [
    "### ones matrices\n",
    "b = np.ones((4,5))\n",
    "print(b)"
   ]
  },
  {
   "cell_type": "code",
   "execution_count": 181,
   "metadata": {},
   "outputs": [
    {
     "name": "stdout",
     "output_type": "stream",
     "text": [
      "[[1 0 0 0]\n",
      " [0 2 0 0]\n",
      " [0 0 3 0]\n",
      " [0 0 0 4]]\n"
     ]
    }
   ],
   "source": [
    "### and diagonal matrices\n",
    "b = np.diag((1,2,3,4))\n",
    "print(b)"
   ]
  },
  {
   "cell_type": "code",
   "execution_count": 185,
   "metadata": {},
   "outputs": [
    {
     "name": "stdout",
     "output_type": "stream",
     "text": [
      "[[100 100 100 100 100 100]\n",
      " [100 100 100 100 100 100]\n",
      " [100 100 100 100 100 100]]\n"
     ]
    }
   ],
   "source": [
    "### If we want to get a 3x6 matrix with all the values set to 100 we use the full function\n",
    "b = np.full((3,6),100) \n",
    "print(b)"
   ]
  },
  {
   "cell_type": "code",
   "execution_count": 200,
   "metadata": {},
   "outputs": [
    {
     "name": "stdout",
     "output_type": "stream",
     "text": [
      "[[1. 2. 3.]\n",
      " [4. 5. 6.]]\n",
      "min = 1\n",
      "max = 6\n",
      "mean = 3.500000\n",
      "sum = 21\n"
     ]
    }
   ],
   "source": [
    "### We can make aggregating operations on matrices:\n",
    "print(a)\n",
    "print(\"min = %d\" % a.min())\n",
    "print(\"max = %d\" % a.max())\n",
    "print(\"mean = %f\" % a.mean())\n",
    "print(\"sum = %d\" % a.sum())\n"
   ]
  },
  {
   "cell_type": "code",
   "execution_count": 201,
   "metadata": {},
   "outputs": [
    {
     "data": {
      "text/plain": [
       "array([[0.3323041 , 0.55464924, 0.73123451, 0.02596574],\n",
       "       [0.20240738, 0.37245176, 0.03971438, 0.07656753],\n",
       "       [0.2513412 , 0.16393632, 0.3004933 , 0.79324773],\n",
       "       [0.83256185, 0.72861591, 0.11026509, 0.26812679]])"
      ]
     },
     "execution_count": 201,
     "metadata": {},
     "output_type": "execute_result"
    }
   ],
   "source": [
    "### We can also create an array with random values \n",
    "np.random.random((4,4)) "
   ]
  },
  {
   "cell_type": "code",
   "execution_count": 234,
   "metadata": {},
   "outputs": [
    {
     "data": {
      "text/plain": [
       "array([[ True,  True, False],\n",
       "       [ True, False,  True]])"
      ]
     },
     "execution_count": 234,
     "metadata": {},
     "output_type": "execute_result"
    }
   ],
   "source": [
    "### We can compare two matrices\n",
    "a = np.array([(1,2,3),(4,5,6)])\n",
    "b = np.array([(1,2,4),(4,8,6)])\n",
    "a == b"
   ]
  },
  {
   "cell_type": "code",
   "execution_count": 235,
   "metadata": {},
   "outputs": [
    {
     "data": {
      "text/plain": [
       "array([[False, False,  True],\n",
       "       [False,  True, False]])"
      ]
     },
     "execution_count": 235,
     "metadata": {},
     "output_type": "execute_result"
    }
   ],
   "source": [
    "### or we can check element-wise a condition\n",
    "a < b"
   ]
  },
  {
   "cell_type": "code",
   "execution_count": 236,
   "metadata": {},
   "outputs": [
    {
     "data": {
      "text/plain": [
       "array([[ 2,  4,  7],\n",
       "       [ 8, 13, 12]])"
      ]
     },
     "execution_count": 236,
     "metadata": {},
     "output_type": "execute_result"
    }
   ],
   "source": [
    "### addition of matrices\n",
    "np.add(a,b)"
   ]
  },
  {
   "cell_type": "code",
   "execution_count": 237,
   "metadata": {},
   "outputs": [
    {
     "data": {
      "text/plain": [
       "array([[ 0,  0, -1],\n",
       "       [ 0, -3,  0]])"
      ]
     },
     "execution_count": 237,
     "metadata": {},
     "output_type": "execute_result"
    }
   ],
   "source": [
    "### substraction of matrices\n",
    "np.subtract(a,b)"
   ]
  },
  {
   "cell_type": "code",
   "execution_count": 238,
   "metadata": {},
   "outputs": [
    {
     "data": {
      "text/plain": [
       "array([[ 1,  4, 12],\n",
       "       [16, 40, 36]])"
      ]
     },
     "execution_count": 238,
     "metadata": {},
     "output_type": "execute_result"
    }
   ],
   "source": [
    "### multiplication of matrices\n",
    "np.multiply(a,b)"
   ]
  },
  {
   "cell_type": "code",
   "execution_count": 239,
   "metadata": {},
   "outputs": [
    {
     "data": {
      "text/plain": [
       "array([[1.   , 1.   , 0.75 ],\n",
       "       [1.   , 0.625, 1.   ]])"
      ]
     },
     "execution_count": 239,
     "metadata": {},
     "output_type": "execute_result"
    }
   ],
   "source": [
    "### multiplication of matrices\n",
    "np.divide(a,b)"
   ]
  },
  {
   "cell_type": "markdown",
   "metadata": {},
   "source": [
    "There are many other functionalities on numpy that we will learn later in the course. Check the <a href=\"https://drive.google.com/open?id=1BcU_nw-YmKoc7V5FpX-kS5eeMJjcZwfh\"> Python cheat sheets </a> for more functions and apply them in your own matrices.\n",
    " \n",
    "\n",
    "## scipy\n",
    " \n",
    "scipy is a module that extend Python with linear algebra, that is useful for matematical and scientific applications. It is also writen in C, and requires that numpy is yet installed.\n",
    " \n",
    "Among the functionalities of scipy are sign, logaritmic, exponential, square root and trigonometric functions on matrices.  \n",
    "\n",
    "We will skip for now this part and will go to the next module."
   ]
  },
  {
   "cell_type": "markdown",
   "metadata": {},
   "source": [
    "## matplotlib\n",
    " \n",
    "matplotlib is a graphical library that produce publication quality plots. Those plots can be saved in many known formats like gif, png, jpg, pdf, eps, postcript, etc. This library depends on numpy.\n",
    "\n",
    "Here is an example of how to create a plot with matplotlib:\n"
   ]
  },
  {
   "cell_type": "code",
   "execution_count": 180,
   "metadata": {},
   "outputs": [
    {
     "data": {
      "image/png": "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\n",
      "text/plain": [
       "<Figure size 432x288 with 1 Axes>"
      ]
     },
     "metadata": {
      "needs_background": "light"
     },
     "output_type": "display_data"
    }
   ],
   "source": [
    "import matplotlib.pyplot as plt\n",
    "## prepare data\n",
    "x = [1,2,3,4]\n",
    "y = [10,20,25,30]\n",
    "## create plot container\n",
    "fig = plt.figure()\n",
    "## plot\n",
    "ax = fig.add_subplot(111)\n",
    "\n",
    "ax.plot(x, y, color='lightblue', linewidth=3)\n",
    "ax.scatter([2,4,6],\n",
    " [5,15,25],\n",
    " color='darkgreen',\n",
    " marker='^')\n",
    "## customize plot\n",
    "ax.set_xlim(1, 6.5)\n",
    "## present/save plot\n",
    "plt.savefig('foo.png')\n",
    "plt.show()"
   ]
  },
  {
   "cell_type": "markdown",
   "metadata": {},
   "source": [
    "## We can also define a grid and print multiple plots at a time:"
   ]
  },
  {
   "cell_type": "code",
   "execution_count": 181,
   "metadata": {},
   "outputs": [
    {
     "name": "stderr",
     "output_type": "stream",
     "text": [
      "C:\\Users\\User\\Anaconda3\\lib\\site-packages\\ipykernel_launcher.py:21: UserWarning: Matplotlib is currently using module://ipykernel.pylab.backend_inline, which is a non-GUI backend, so cannot show the figure.\n"
     ]
    },
    {
     "data": {
      "image/png": "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\n",
      "text/plain": [
       "<Figure size 360x360 with 4 Axes>"
      ]
     },
     "metadata": {
      "needs_background": "light"
     },
     "output_type": "display_data"
    }
   ],
   "source": [
    "from numpy.random import seed, rand\n",
    "\n",
    "## prepare the data\n",
    "x = [1,3,5,7,9]\n",
    "y = [3,9,15,21,26]\n",
    "seed(233)\n",
    "p = rand(100)\n",
    "\n",
    "## prepare the plot containers\n",
    "#fig = plt.figure()\n",
    "fig, ax = plt.subplots(2, 2, figsize=(5, 5)) ## print a grid of 2x2\n",
    "\n",
    "## plot\n",
    "ax[0,0].plot(x, y, color='lightblue', linewidth=3)\n",
    "ax[0,1].scatter(x, y, marker=\".\")\n",
    "ax[1,0].hist(p)       # Plot a histogram\n",
    "ax[1,1].boxplot(p)    # Make a box and whisker plot\n",
    "#ax[1,1].violinplot(p) \n",
    "\n",
    "## show\n",
    "fig.show()\n"
   ]
  },
  {
   "cell_type": "markdown",
   "metadata": {},
   "source": [
    "## seaborn\n",
    " \n",
    "Seaborn extends the capabilities of matplotlib by adding more power to the process of graph generation."
   ]
  },
  {
   "cell_type": "code",
   "execution_count": 185,
   "metadata": {},
   "outputs": [],
   "source": [
    "## import the library\n",
    "import matplotlib.pyplot as plt\n",
    "import seaborn as sns"
   ]
  },
  {
   "cell_type": "code",
   "execution_count": 186,
   "metadata": {},
   "outputs": [
    {
     "data": {
      "text/html": [
       "<div>\n",
       "<style scoped>\n",
       "    .dataframe tbody tr th:only-of-type {\n",
       "        vertical-align: middle;\n",
       "    }\n",
       "\n",
       "    .dataframe tbody tr th {\n",
       "        vertical-align: top;\n",
       "    }\n",
       "\n",
       "    .dataframe thead th {\n",
       "        text-align: right;\n",
       "    }\n",
       "</style>\n",
       "<table border=\"1\" class=\"dataframe\">\n",
       "  <thead>\n",
       "    <tr style=\"text-align: right;\">\n",
       "      <th></th>\n",
       "      <th>total_bill</th>\n",
       "      <th>tip</th>\n",
       "      <th>sex</th>\n",
       "      <th>smoker</th>\n",
       "      <th>day</th>\n",
       "      <th>time</th>\n",
       "      <th>size</th>\n",
       "    </tr>\n",
       "  </thead>\n",
       "  <tbody>\n",
       "    <tr>\n",
       "      <td>0</td>\n",
       "      <td>16.99</td>\n",
       "      <td>1.01</td>\n",
       "      <td>Female</td>\n",
       "      <td>No</td>\n",
       "      <td>Sun</td>\n",
       "      <td>Dinner</td>\n",
       "      <td>2</td>\n",
       "    </tr>\n",
       "    <tr>\n",
       "      <td>1</td>\n",
       "      <td>10.34</td>\n",
       "      <td>1.66</td>\n",
       "      <td>Male</td>\n",
       "      <td>No</td>\n",
       "      <td>Sun</td>\n",
       "      <td>Dinner</td>\n",
       "      <td>3</td>\n",
       "    </tr>\n",
       "    <tr>\n",
       "      <td>2</td>\n",
       "      <td>21.01</td>\n",
       "      <td>3.50</td>\n",
       "      <td>Male</td>\n",
       "      <td>No</td>\n",
       "      <td>Sun</td>\n",
       "      <td>Dinner</td>\n",
       "      <td>3</td>\n",
       "    </tr>\n",
       "    <tr>\n",
       "      <td>3</td>\n",
       "      <td>23.68</td>\n",
       "      <td>3.31</td>\n",
       "      <td>Male</td>\n",
       "      <td>No</td>\n",
       "      <td>Sun</td>\n",
       "      <td>Dinner</td>\n",
       "      <td>2</td>\n",
       "    </tr>\n",
       "    <tr>\n",
       "      <td>4</td>\n",
       "      <td>24.59</td>\n",
       "      <td>3.61</td>\n",
       "      <td>Female</td>\n",
       "      <td>No</td>\n",
       "      <td>Sun</td>\n",
       "      <td>Dinner</td>\n",
       "      <td>4</td>\n",
       "    </tr>\n",
       "  </tbody>\n",
       "</table>\n",
       "</div>"
      ],
      "text/plain": [
       "   total_bill   tip     sex smoker  day    time  size\n",
       "0       16.99  1.01  Female     No  Sun  Dinner     2\n",
       "1       10.34  1.66    Male     No  Sun  Dinner     3\n",
       "2       21.01  3.50    Male     No  Sun  Dinner     3\n",
       "3       23.68  3.31    Male     No  Sun  Dinner     2\n",
       "4       24.59  3.61  Female     No  Sun  Dinner     4"
      ]
     },
     "execution_count": 186,
     "metadata": {},
     "output_type": "execute_result"
    }
   ],
   "source": [
    "tips = sns.load_dataset(\"tips\")\n",
    "tips.head()"
   ]
  },
  {
   "cell_type": "code",
   "execution_count": 187,
   "metadata": {},
   "outputs": [
    {
     "data": {
      "image/png": "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\n",
      "text/plain": [
       "<Figure size 432x288 with 1 Axes>"
      ]
     },
     "metadata": {},
     "output_type": "display_data"
    }
   ],
   "source": [
    "sns.set_style(\"whitegrid\")\n",
    "g = sns.boxenplot(x=\"time\",y=\"tip\", data=tips)\n",
    "plt.title(\"Tips by meal time\")\n",
    "plt.show(g)"
   ]
  },
  {
   "cell_type": "code",
   "execution_count": 189,
   "metadata": {},
   "outputs": [
    {
     "data": {
      "image/png": "iVBORw0KGgoAAAANSUhEUgAAAYcAAAESCAYAAAAWtRmOAAAABHNCSVQICAgIfAhkiAAAAAlwSFlzAAALEgAACxIB0t1+/AAAADh0RVh0U29mdHdhcmUAbWF0cGxvdGxpYiB2ZXJzaW9uMy4xLjEsIGh0dHA6Ly9tYXRwbG90bGliLm9yZy8QZhcZAAAgAElEQVR4nO3de3hU1bk/8O+e+2SSkBBILOCFKEKijUIwXETUUgVPoRaJAoEo2oPc1IIUof4goaVWEUUExSCtokBEEKr86jlqG6vUQCONFBRSQLQo14RcSjLJXPc+f4SZzGTPTGaSmdmZ5Pt5Hp/HTOayZgP7Xetd71pLkCRJAhERkQeV0g0gIqLOh8GBiIhkGByIiEiGwYGIiGQYHIiISIbBgYiIZBgciIL00EMPoaamBjNnzsTXX3/t9RgA/OhHP8KXX36pZBOJwkajdAOIYkVpaSkAYOPGjbLHiLoajhyIgvCrX/0KAPDAAw8gIyMDX375pddjZ8+e9Xr+xx9/jHvvvRc/+9nPMGXKFBw4cCDqbSbqCAYHoiA8/fTTAIA33ngDP/jBD/w+BgD//ve/8cILL+DVV1/Fu+++ixUrVuDRRx9FY2Nj9BtO1E5MKxGFWWlpKSorKzFjxgz3Y4Ig4LvvvsOgQYOUaxhRCBgciMJMFEWMGDECa9ascT929uxZpKamKtgqotAwrUQUJLVaDYfD0eZjI0aMQGlpKU6cOAEA+PTTT/HTn/4UFoslam0l6iiOHIiCNG7cOOTn58NsNsseW7dunfuxa665Br/5zW/w+OOPQ5IkaDQavPLKKzCZTEo0m6hdBG7ZTURErTGtREREMgwOREQkE7HgcPDgQeTn5wMATp48ialTpyIvLw+FhYUQRREA8NJLLyE3NxdTpkzBoUOHItUUIiIKUUSCw8aNG7F06VJYrVYAzYuF5s+fj+LiYkiShJKSEhw+fBiff/45duzYgdWrV+PXv/51JJpCRETtEJFqpSuuuALr1q3DE088AQA4fPgwcnJyAACjR49GaWkp+vfvj1GjRkEQBPTp0wdOpxM1NTXo2bNnwPcuLy+HSsVsGNBcT89r0YzXogWvRQteixaCIODGG28M+vkRCQ5jx47FqVOn3D9LkgRBEAAAJpMJ9fX1aGhoQFJSkvs5rsfbCg4qlQqDBw+ORLNjTkVFBTIyMpRuRqfAa9GC16IFr0WLioqKkJ4flZDqGbnNZjMSExMRHx/vVS9uNpuRkJAQjeYQEVEbohIcMjMzUVZWBgDYs2cPhg4diiFDhuCzzz6DKIo4c+YMRFFsc9RARETREZUV0osXL8ayZcuwevVqpKenY+zYsVCr1Rg6dCgmT54MURRRUFAQjaYQEVEQIhYc+vXrh+3btwMA+vfvjy1btsie8+ijj+LRRx+NVBOIiKidOI1PREQyDA5ERCTD4EBERDIMDkREJMPgQEREMgwOREQkw+BAREQyDA5ERCTD4EBERDIMDkREJMPgQEREMgwOREQkw+BAREQyDA5ERCTD4EBERDIMDkREJMPgQEREMgwOREQkw+BAREQyDA5ERCTD4EBERDIMDkREJMPgQEREMgwOREQkw+BAREQyDA5ERCTD4EBERDIMDkREJMPgQEREMgwOREQkw+BAREQyDA5ERCTD4EBERDIMDkREJMPgQEREMppofZDdbseSJUtw+vRpqFQqrFixAhqNBkuWLIEgCBgwYAAKCwuhUjFeEREpLWrB4dNPP4XD4cC2bdtQWlqKNWvWwG63Y/78+Rg2bBgKCgpQUlKCO+64I1pNIiIiP6LWTe/fvz+cTidEUURDQwM0Gg0OHz6MnJwcAMDo0aOxd+/eaDWHiIgCiNrIIS4uDqdPn8Zdd92F2tpaFBUVYf/+/RAEAQBgMplQX1/f5vuIooiKiopINzcmWCwWXotLeC1a8Fq04LVov6gFh02bNmHUqFFYuHAhzp49iwceeAB2u939e7PZjMTExDbfR6VSISMjI5JNjRkVFRW8FpfwWrTgtWjBa9Ei1CAZtbRSYmIiEhISAAA9evSAw+FAZmYmysrKAAB79uzB0KFDo9UcIiIKIGojhxkzZuDJJ59EXl4e7HY7FixYgOuvvx7Lli3D6tWrkZ6ejrFjx0arOUREFEDUgoPJZMKLL74oe3zLli3RagIREQWJiwqIiEiGwYGIiGQYHIiISIbBgYiIZBgciIhIhsGBiIhkGByIiEiGwYGIiGQYHIiISIbBgYiIZBgciIhIhsGBiIhkGByIiEiGwYGIiGQYHIiISIbBgYiIZBgciIhIhsGBiIhkGByIiEiGwYGIiGQYHIiISIbBgYiIZBgciIhIhsGBiIhkGByIiEiGwYGIiGQYHIiISIbBgYiIZBgciIhIhsGBiIhkGByIiEiGwYGIiGQYHIiISIbBgYiIZBgciIhIhsGBiIhkNNH8sA0bNuDjjz+G3W7H1KlTkZOTgyVLlkAQBAwYMACFhYVQqRiviIiUFrU7cVlZGQ4cOIC33noLmzdvxrlz5/D0009j/vz5KC4uhiRJKCkpiVZziIgoAEGSJCkaH/T8889DEAQcP34cDQ0NeOKJJzB37lzs2bMHgiDgL3/5C0pLS1FYWBjwfcrLyxEXFxeNJnd6FosFBoNB6WZ0CrwWLXgtWvBaeMvIyAj6uVFLK9XW1uLMmTMoKirCqVOnMGfOHEiSBEEQAAAmkwn19fVtvo9KpQrpC3ZlFRUVvBaX8Fq04LVowWvRoqKiIqTnRy04JCUlIT09HTqdDunp6dDr9Th37pz792azGYmJidFqDhERBRC1OYfs7Gz87W9/gyRJOH/+PJqamjBixAiUlZUBAPbs2YOhQ4dGqzlERBRA1EYOt99+O/bv34/c3FxIkoSCggL069cPy5Ytw+rVq5Geno6xY8dGqzlERBRAVEtZn3jiCdljW7ZsiWYTiIgoCAGDw9tvv+33d5MnTw57Y4iIqHMIGByqqqqi1Q4iIupEAgaHn/zkJ9FqBxERdSIBg0NBQQEEQUDrdXKCIODNN9+MaMOIiEg5AYPD5s2bo9UOIiLqRAIGh8ceewxr167FqFGjZL/77LPPItYoIiJSVsDgsHbtWgAMBERE3U1QK6S//PJL3HPPPRg9ejSmTJmCY8eORbpdRESkoKAWwT311FN49tlncc011+Do0aNYvnw5iouLI902IiJSSFAjB71ej2uuuQYAMHDgQGi12og2ioiIlBXUCmmNRoPly5fjpptuwqFDhxAfHx+VxhERkTKCWiE9ePBgAMC3336LhIQE7o9ORBQjRFFCtdkGm0MM6XUBg8MjjzwS8MXz5s3Dyy+/HNIHEhFRdIiihKPn6zHzzX/g0SFxuOGHwb+2Q+c5XLx4sSMvJyKiCKo22zDzzX/gVG1TyK/tUHBwHfFJRESdj83hbFdgAKJ4EhwREUWXTqNGv2Rju17L4EBE1EWlmHTYeP/QdgWIDp0E16NHj468nKhLaKkGcUKnUSPFpINK1fVSrt3le4ZLZ7heKpWAgWkJ+OPcm3Hm31+H9NqAweH555/3O6/w+OOPY926dSF9GFFX41kNcqq2Cf2Sjdh4/1AMTEvoUjfO7vI9w6UzXS+VSkDvBD0uaEJLFAV8dnp6Ovr37+/zPyKSV4Ocqm3CzDf/gWqzTeGWhVd3+Z7h0hWuV8CRw8SJEwEADocDX375JRwOByRJQmVlZVQaR9TZ+aoGOVXbBJvDqVCLIqO7fM9w6QrXK6g5h0ceeQR2ux2VlZVwOp1ITU3F+PHjI902ok7PVQ3ieSPol2yETqNWsFXh112+Z7h0hesVVBKqoaEBf/jDH5CVlYVdu3bBarVGul1EMaF1NYgrt5xi0incsvDqLt8zXLrC9Qpq5KBWN0e7pqYmGAwG2O32iDaKuofOUM3RUZ7VILH8PdrSXb5nuHSF6xVUcLjzzjvx8ssvY9CgQbjvvvu4Kyt1WGeq5ugoVzVIV9ddvme4xPr1Cio4jBkzBmlpaRAEAbfeeis0mg4tj6BOQOleu79qjj/OvTmm/0ERdRUB7/LHjh3D+fPn8dxzz2HRokUAAKfTidWrV+O9996LSgMp/DpDr70rVHMQdWUBg8PFixfxP//zP6iursb7778PoHmzvby8vKg0jiKjM/Tau0I1B1FXFjA4DB06FEOHDsXhw4dx3XXXoaamBklJSVCpuCVTLOsMvXZXNUfr0UssVXO4KJ2iI4qEoCYP6uvrMWbMGCQkJODixYtYsWIFbr755ki3jSKkM/Tau0I1B9A5UnREkRDUEODFF19EcXEx3n33Xbz11ltYs2ZNpNtFEdRZarBd1Rx9k+PQO0EfkzfTrrBNApEvQa9zSEtLAwCkpaVBr2c1SSzrKr32zqAzpOiIIiGo4BAfH4/Nmzfjpptuwv79+5GUlBTpdlGExXoNdmfRGVJ0RJEQVFrphz/8Ic6ePYs1a9bg7Nmz6NmzZ6TbRRQTko1aFE3P9krRFU3PRrJRq3DLiDom4Mhhx44deOedd3DixAlcffXVAID9+/fD4XBEpXHUeXWXCp22vmdtkx1rS45h2fhMJBm1qLv081MTszgyo5gWMDjcfffdGDFiBDZs2IDZs2cDAFQqFVJSUtr9gdXV1bjnnnvw2muvQaPRYMmSJRAEAQMGDEBhYSHLZGNAd6nQCeZ72hxOfHSkEh8d8d7GvnAC5xwotgW8E+t0OvTr1w8rVqxA37590bdvX/zgBz+ATte+qha73Y6CggIYDAYAwNNPP4358+ejuLgYkiShpKSkXe9L0dVdKnSC+Z6+DnDnnEP4iKKEqnorTtc2oqreClGUlG5StxHVbvrKlSsxZcoUpKamAgAOHz6MnJwcAMDo0aOxd+/eaDaH2qm7VOgE8z07S1lwV+QauU1cX4qbV/4VE9eX4uj5egaIKInaDnq7du1Cz549ccstt+DVV18FAEiS5D6j2mQyob6+vs33EUURFRUVEW1rrLBYLIpcC1PKZbgzMxWTsi9359l3ln8Pp92KioqTUW8PEJlrYUq5zGclUuvvqTcYUPzgYIhQQQURDnM1jh49Hda2hEKpvxfhZkq5DDPfPCAbuRU/OBjm6nNBvUdXuRZKiFpw2LlzJwRBwL59+1BRUYHFixejpqbG/Xuz2YzExMQ230elUiEjIyOSTY0ZFRUVilwLh0PEY2Ouxewt5e5cfNH0bPTpmQBNanJU2+KaMDY3WWAyGsI6MS6Kks8tPvr1SoAq4PeM7jVoTam/F+F2urbR58hNrdUH/f26yrUIh1CDZNSCw9atW93/n5+fj+XLl2PVqlUoKyvDsGHDsGfPHgwfPjxazaEOqGmyuQMD0PwPdvaWcuyaOxKpCYaotSPSE+NcLKgsriFRlqKlQYsXL8a6deswefJk2O12jB07VsnmUJAsdt+5eItdjGo7ojEx3hW2+IhVnM9RliKn9mzevNn9/1u2bFGiCdQBakHw2aNTR/m+2V0mxrsrjtyUxUUFFDKjTo1VuVlePbpVuVkw6qI73GcZadfHkZtyeN4nhSzJqENaogEr7r4ecTo1Gm1OpCUakGSM7nA/kmdCdJcV4ET+MDhQyFQqAVelmJBg0Cp68/RMO4SzWinUiW4GEuqKGByoXSK5q2soN1tXOy6c+gZXhalkMZRjVAMFEgC4YLbCYndCLQgw6tRIMjJwUGxgcCDFeQYDo06N8xetiu7bFMpEt79AsvuRm2XfY1VuFtISDbgqxRRzAYKjo+6HE9KkqNZbJBz8/j+K79sUykS3v0DSZHPKvseidw7hZHVjzO1BxW0suicGB1JU6553nE6teHlqKPX1/gKJU5J8fo84nTrmSm27y0aL5I1ppTDgkLv916B1z7uuya74qthQ6uv9VUwZtL5X9zbanDFXasv1JN0Tg0MHdZezDQLpyDVovUVC0ScnsCo3C4veORT28tRQBDvhrlIJGNA7HttnjYDdKUKrViE1vrkev3XQcM05ROq7uAK0MaUPquqtYeukcBuL7onBoYNCqWzpqjpyDVr3vKsarEhLNGDX3JGwO8ROPxITRQnHqxp8BsaBaQnYNXckLHYRagERrVaKZCclkutJqPNicOggDrkDTMranRBFKeDNSektEjqaEmwrMEZrI8JIdlKU/jMiZTA4dBCH3P6vwYnKBpitjjZ7r5FcMxFIOHrbnaVzEOl2KPVnRMphtVIHcedI39dg5aQsrC053qmrWsJRhaPVqHxWK2k10f2nxX2mKNw4cuggJYbcDoeIygYr4npfjjN1TUiN10MT5ZtRaynxOmz972EQRQnnLlrw7AdHceD7OgDotCm2cPS2NSpBNoG+KjcLmg78+bcn1cV5AQo3BocwiOaQ2+EQ8a/z9bJT2AalJSgSIHylZlZOynL/XqneazA32HCkBJtsTjz7wVEsG5+JJKMWoiTBKUqw2J04U9cESZJC6jC0N9UVqX2mqPtiWinGVDZYfZ7CVtlgVaQ9vlIzi3cewuzbrlas9xrsit5wpAR1GjWqGqyYtbkcz/zvvyBKwJv7/o1vLzTivg37Ql5R3JFUl6uT0lR9httbU4cxOMQYu1P0mQpxOKN7CpsoSqiqt6LR5vDZnozLmnuxSqz3CPYG69nbLl18e7va6xlgZt92NRbvPIRJ2Zdj8c5D7brBh5rqcv05nK5tRFW9lVtaUNgwrRRjtGqVz1SIRt2+ON+e/LZn6mPZ+Eyf7THqNIpVt4Ryg+1oStAzwLgCZZJR2+65jFBSXf5SUHpD9M7xpq6LI4cYkxqvR9H0bK9UyPppQ+AUxZB7je3dUK3abMMLf27Os/fpYcDLeUM6VbVWtCt3XAEmTqdBv2SjewuQ9nx+KKkufyMkjSmpXd+DoxDyJEiSFFN/Aw4cOIDBgwcr3QxF1TVacaHBDpUAOEUJG/d8g73fVIe84Kmq3oqJ60tlvdS23uf8f5rwdZXZnTq5MzMVS+7KgEYlwKjTKLKIzXMSFoAiW5q4gu0Lfz6KB0b2d1+fUD8/2NHc6dpG3Lzyr7LHP3l8FK5K7dGutne1bWAqKiqQEaZzPmJdqNeCaaUYZLWLOFHVgCSjFnVNdhyvbGjXgqf2lnI6JXjl1D86UokjZ+vx9sPDm9+zrhEGrRq9TJGdFA10Q4tmebHnzTwlXodnJmXB7hCxfdaIkKuVgOBTXf5SUCqEPv/EbWCoNQaHKOvodg2iKOGC2YYVfzriVTr6xt5vQ06btLeUU/KzHbXNKSL/D58H7HmGcwfbC2arzxvarrkjkZpgiMpNTcket7+1DQ5zNYDkkN6rs6z0ps6Dcw5RFI5DU6rNNsza7F3KunjnISz9SWbIef72lnL6y+n/+0JjwAqdcB8aY7H7vqFZ7NGr3FLyrAN/1VZWiyXk9+IKa2qNI4coCsfQ3V8PT60SQu6ptnd1t68e6yvThqDgvcOydnn2PMOdulALAu7MTMWk7MvdKbad5d9D7af5kTh3I1CPOxrnfIRrASZXWFNrDA5RFI6he7g3+mvPzaV1UBEEAacvbbftqXW72lPDH+jmatKr8ciPBmDu1i/cN7T104bApFfL3ueC2YpGqxPfXjBjbclxVDVYg0r/tNUGf38eRp06piZ4ufMqtca0UhSFY+jeWTb6cwWVvslxuCzRgJR4HVblZgVsl7/vLwgCRFHyKqWsMVvbTEHZnJI7MADNgWbu1i9gc7Y8x5XKumf9Xtz23CdY9t5X+OXYgegdr28z/RNMGizZqJWVFhdNz4bDKUU03RSJslPPP1OusCaOHKIoXEN3vUaF5+69Ab3idVCrBBg0qjbPTQgXfz3pq1JMSIrT4u2Hh8MpAQatSlat5Ov7r5yUheW7v8KCHw9EUpwGp+ssqDbb0MOoxS93HAyYgrI7fK8Wtzta5hz8be+xbHwmZm0uDzhqCyYNVttkx9qSY+69leou/bx0fGbEJni7atkpdS4MDlEUjqF7tdmGtz8/ick5V6LGbEO12Yad5d/jFz++FhmXJYZc+RRKTrytm1JPkx4wBf6ctEQ9ts8agTN1Tag22/Dch827tx45W48Vd1+PBzftR79kI954KKfNm2swKTZ/qawko7bNUVswaTCbw4mPjlTioyOVXs8rnHBdxM75YNkpRQPTSlHW0aG7KIr4r6y+uP+1z5FbtA8r/nQED4zsjxf/ciyklEV7KofaU5nT+nN++lIpbA4RuUX7MGtzuXtb71O1TYjTqd3//111Y5spuGBSbP5SWY02Z5ujtmDSgP6eY9SpO5z+85c6ilTZKVdIkycGhxjjlIB5xV/I0iSTsi+HzeEM+h93e270bR0H2prrbAez1YFl4zMx+PIknKptwrcXzD5vqHVNdvfPa0uO45VpgbflUKkEDOgdj+2zRuDTX96K7bNGYEDveJ+pLM/32TA9Gzdc3qPNNEwwwcffc5KMug5t6hcoeEei7DTcZcYU+5hWijGSJKF3vN4rx130yQmkmHRwipJ7O4y28tDt6X2Gchyov3MenvvwKNaWHMeG/Gz3eg1XKezmfSfd71vVYEWveB12zR0Ju0P0mfYSRQnHqxoC5t47ksoL5rWeAcrhFKFRq5Aa3zIibG+aJ1DqKBJlp0xVUWsMDjHGqFPjiXEDZSeP9UkyYPnuw0H/4w61JFYUJUiQsOXnw7zKQV03/KoGq9dnBZoI3ln+PfQaFVbcfT3idGo02pwQJQnThl+B45UNqGqwYkN+NnrHGwIeYBTsDa0jawHaem0wAao9AgXvSJSdcoU0tcbgEGMcouQODEDzP+BF7xzC9lkjZJOigf5xh9L79DUKeGXaEDRYHX6PA/V3s0kx6bD0J5nI+30ZesfrMfu2q5Fk1KLGbEe8XoOX8ga3ebNzTXD7O0vC13eO1IK0SPW42wre4T59MNzrZyj2cc4hxvgr33SIUkh56FAOuvF1A5yz9Qv0TY7D8/fdgD8vGI1Zt1wV1ERtnyQj1CoBveP1KPxpJnQe51AkxWmguXTTCxQYXLnxf52rD7huwtdrwp1Pj1SPO9rrWTrL+hnqPDhyiDH+engGrco9Eugdr8djYwagfy8TJEheayDa04P2dwO0O0RcaLCi0eZE7k1XIMnQ8tfJ18hkQ3421ALghIAn/ysDTTYnlr33lVd6rIcx8M3IM1AVfXICL+UNRq3Z7k5P9Us24HRtEyx2J65KMUGlEiKaT9dp1D638OhojzvaK5a5QppaY3CIMf7SQb1MevQy6bH7kZtxts6CWVvKvX4/MC0BQPDnHHgGEZUg+AxI39U0utclrMrNQg+DFoLF4d5So3e8zr1ttVOU8Nv3j+CjI5W4MzMVy8Zfh6kb/y5Lj217eHjA7986UFntoleAef7eG/CHz77Bgzf3R1KcFj1N+ojm05ONWjw25lr3ud6uFdLJRm2H3zvcqaPO9nnUuUUtrWS327Fo0SLk5eUhNzcXJSUlOHnyJKZOnYq8vDwUFhZCFKN7DnKsitersenBHHy88FZsejAH8fqWPLRThDswAN4lqsGWr3qmYR4pPoDKeotsa4xVuVlYW3Lc/T6L3jkEm1N0p27u27APR883YPnur1DXZHcHBqD5/Ad/Z2G3lerxTFfNvu1qLGy1inrhjoOYlH05Xi/9Fk02J07XNkK4tEGfp3Dl02ub7O7A4GrD7C3lqPUoyyWKRVEbOezevRtJSUlYtWoVamtrMXHiRAwaNAjz58/HsGHDUFBQgJKSEtxxxx3RapIiOjoxWtdkc9+MPdMxJr0mqF5yMD1ozyCybHwm5hUf8CqfTU3U4/G3D7onol3v4xAlr5uk5zYVy8Znek2Y15htPkcj2gDVSYD3yMnfWc2pCXo8MLI/Jr/6d6/ePNAcmMKZT2eVD3VVUQsO48aNw9ixY90/q9VqHD58GDk5OQCA0aNHo7S0tM3gIIoiKioqItrWcNEbDNCYkiBCBRVECPZG/EeKw+ytB1puWtMGI85eF/Qe/AlpV/isVto2cxjOf/cNTCmX+bzpSpIENRw+f+e0W1FR0bLGwJjSx/0c1w34VG0TZm0uB4DmMtMEHTbkZ3vl2S+26i27tqlwVSl5kiTghftuwILtB93X4oX7bgBER5t/vnqDAcUPDoZKo/P5feL1Gjz61gFZb37bzGF4cty1UEGEw1yNo0dPB3XNA/F3vVtf02iyWCwx828k0ngt2i9qwcFkat50p6GhAY899hjmz5+PlStXQhAE9+/r6+vbfB+VShUTZ8K6UjP3v+49Ibu25Jj3TWvrAfxx7s1IDzLX+12N2Xc6BgIyMjIgipLPze1+86cjWHDHQLz5UA7uf63ltLYN07MRbzKgX69B7hFMVb3VfcOra7LLbn5f/Lsaj465FnO2eC9iUwneI6A7M1PR06TDO7NH4LIeBtyZmeruufdO0GP9X7/G6zNugloluM/C/sWPB3j9+TocIiobrLA7RWgvLTBzrX1wOEQUTc/2yvevnzYEguB7hCQIgsfZyqGdlOaPr+u98f6h6NcrAarU8HxGqHhucgteixahBsmoTkifPXsW8+bNQ15eHiZMmIBVq1a5f2c2m5GYmBjN5kSUr/y+r/RK6xREW2kng9Z3dYxB23zDdFWd+Nvcbteckdg1d6T7bIOl734lO9vAM3VT9MkJrMrN8kpj5Q2/CtN+XyYrbd328HC8PuMmrC05jt4JOjzyowF4cNN+r+C44u7roVKpoFJJmDikr9fvV+VmwahrmQdwOET863y9bLJ3UFoCNBoVappssh1RX/r4eEQ3vWuNVT7UVUUtOFy4cAEPPfQQCgoKMGLECABAZmYmysrKMGzYMOzZswfDhweuVIklgRaBefK8aQWzFXNPo85ndUxPo/eeQ5IkIbdon+zzG21OxOnVmP4H70VoDRYHzl+0QJQkGHVqpCbosO3h4XCKEnQaFd57ZCQstuZtLJr8LD6z2JtLU1+Zlo1kkxZTXv27LDjumjsSvRP0qKy3+EyP7Zo70v2elQ1Wn5O922eNQJ8kIyx23zuiLrkrQzaiiGTNPqt8qCuKWrVSUVERLl68iPXr1yM/Px/5+fmYP38+1q1bh8mTJ8Nut3vNSXRWwe5c6W8RWGqC3u9Co2CqiYKtjvH3+d9eMMNid6J3vB6/HDsQK/50BM/877/gEEXcu2EfHtWebroAABIrSURBVCk+gO9rGnHsfAOmvPp33LrqE9xbtA+VF234QY/mdJBGrfK9cV6j/dIoohxOj8lpl+YA0lyRZgviLAZ/FU0OZ/Nz1JdKbFu3QwCwtuQYts8a0a5N74goiiOHpUuXYunSpbLHt2zZEq0mdFgoh6z4W4/Qp4fRbwoi2PMDgqmOSTHpsOnBm/B9TZN7gViySYtf7z6CoulDsH76YDicwJafD4NaJWDLvm/d1Uk1Zrt77YDr/T0XjakFyFJNq3KzYL900z5V2wS9RoXXZ9yEOJ3avTlgVYMVGqF5TkMAfKZ+PK+1RuV7fYXm0qpqk16NV6YNwRyPY0JfmTYEFy12fHSkEoUTJPRNjnO/X1W9lakfoiBxEVwIQllpGygX7S8FEcz+NtpLvXZZCajHNhSiKKGuyeZzgVjOVUmwOkXUNdq9zl5+ZdoQ1DY6kHRp8VagAGRxiPjjF6dlk8mTsvth8OVJePK/MnChwSZb/Zxo0KDR7sSMV/+Ot2YOw8pJWVi8syXArJyUBUFoCcLvfvE91k8b4tXOounZSI1vvn5OSYIoSbIN/ERJCjldR0TeGBxCEGpNu69A4DnhLAgC1AKg1ajgECVIoiTbyrp1rlytBl6bMRSnay3uG2LfZIP7piqKEo5W1qPyolXW+1+44yC2PTwcFrsoO3t5ztYv8PqMm/DNBTN0fgKQ62Zr0Kjw81uucleaCYKAn99yFSx2EU+MG4gGqwMLtv9TNp/w9sPD3WsPLHYRb+z91msy+Y2936JwwnVeQbi20eEOQnqNCmkJLTu1Wmwi5hUfkLVz889zgkrXcTtqIv8YHELQ0Z0rffVgn7/3Bhi0KvdN7s7MVBT/d3Oqp3X6QxQl2B0S/tNo9+qVv3DfDUg0aHHuogUCJMzaXI7n773Bd8mrKEHlp9RTrRJQ9MkJLP9ppixt5Hmz1WgEWB0S5m5tKYldP20I+iYZ8bP1e/1+tuc8xMY93+CRHw3wGhWsnzYEJr0aZmtLEN5efgrby08BAEoX3+61hbdT8j2voRYEr1EBF6oRhY67soagoztX+urBLtxxEDVmu/uxj45UIu/3ZdBp1F67k7oCi0OU3AvHXO+xYPtBOFw5daeEdVMHo6dJ53OyVqNWQZTg83d6jQov5Q3G5T3jcO1l8Xj74eHY88Tt2DV3pNfN1mKTjzzmbv0C1kuTzK61Eb4+2/X49vJT2LLvJDY9mINPFt2GTQ/mIDlOi0SDLuiTzgxa388z6NRe6aJInJxG1NUxOIQglG2uffHXg43TqWWP+dvSQvRTBSSKEhIMGkz7fRkmrt+LVR/+C+t9HLOZGq+HXiPIjuAsmp6NtAQD+ibHoadJjxRT8/9f0TMOqQkGr+/o8NMG17bhRZ+cwMpJWbL3790quO79phpWhxNGjQo9jFr0TYrzWmfRVhDuZdJjY36r5+U3b0LoidtRE4WOaaUQdaSm3V9aqtHmHQh89WpdgUWlEnwuglOrBPz2/SNeIxAA2PRgDtQqASa9Gr1MzSORyxIMEC/9TiUAogToNMFPzPqrIlKrBLwyPRtztpTjuQ+PYsXd1+OKlDicrWvC2pJjeGpiVlALxkJZWKbXep8op9fK+ztcqEYUOgaHKGpd3npnZip+dVcGIADbHh4OSZKat4hI0Mu2fHYFFp1a8Jmr16oF2WKwj45U4v/9JBN9exi9cvVVZhue+tMRd4CxO0XoNWpIEhCn0yDZqEVNkw0WuxNqQYBRp0aSseVmatCqfJaQNljsWFdyDG8/PNydXvrl9pYN+gonON3B1TUxf/Y/TX7PZm4rCFebbe6tQFz6JRv9Vo9x8pkoeAwOIWi9tUWyUYvaJnvQvVHPHqwoirjQYEO+xz5Hq3Kz8NT7FbLtLICWwGJ3Snj/oHcZ6Tv/+A73j+zfvGeRx6rnRpsT8Qa1j3OYJfx8VLp7u2vXpPb8bf9E7wT5CuxVuVlISzS4D8+x2EVs3nfSZynrR0cqsXT8dV5baQOhrwQPBieaiSKHwSFIvm5oRdObN9Lz3AY62BucQ5Rk5y4seqdli+uZb/7DfVCOK/AMTEvAhQYLfnKD955E66cNgVYjoHjmMDicEmound2ws/x7XNZjIJKNrY/dFGTnICzYfhDP3PNDmG1O2QrsRe8cwoq7r0eCQYveCXroNGrs/abaXUUENN/8x2SmNU8Ie5xK56vaKVylpTz3mChyOCEdJF83tNlbyjEp+3L3z74OzvHkeYjOqdomn73e1Es3x1O1TThT1+R15jEA2J2Sz0ohSQTqLQ7c/9rnyC3ahxV/OoIHRvbHC38+irP/afLa6sPhZ1uKy3oY/J6REKdTu3vkviZ4V07Kws7y792n0gWauA9Xj58TzUSRw5FDkPzd0JI85gbausFdMFvxwp+PYtn4TPceS617vT2MWgy+PAlVDVZ3oHEFnl1zR/qtFLKLknvxnOsx12E7rpJZz5GNzwllQfC5Rbdr0tzVI289wetazPfUxCyv1Jq/BYBOSXLv3uqaj2hPj9+zHeYmC0xGAyeaicKEI4cg+auVr/PY8K7tG5yEX92VgRSTDqfrmvBy3mBZ7/uZ/63AY2MGYOWkLBR9csL9SteqYlelUOt2+NvoLsWkQ12T3Wtko1EJPo/9PHfRgp3l36Noerbsd1emxHn1yF0TvH2T49AnyYi0S5vy+bsxe46aRj/7CZa99xWeGDcQgy9P6lCP39WOpuozAT+fiELDkUOQfG2k55pzAFpSGslGrc8N3kRRQtVFm3uewbU6+oX7bkTvBD0kScK5ixZU1dvQv7cJv3v/iNcxnM09e0CrbikXdVcKTc/2u+VFT5MOT73ffMiHa2SjUQmI06m9SkBT4nVI0Guw/KfXo7dJh11zR8JiF6EWIKtWag9faTnXlhosLSXqfBgcguSrVj7ZqMVTE7NQOKHl5+9qG3GyutF9070yJQ5XpZhQbbbJJqAX7jiIZeMzIQhAbtE+dy+91mzFAyP748jZencA2DA9GwatCjaniLTElrMWmrfZEKDXCLLgtX7aEBR9ckKWuhFFEa03Gm+0OWG1i5iz9YuIbErnLy0HyNNPRKQ8BocQ+KqV9/y5xmzF+YsW2W6k8XoNbH4mgVNMOq+5hUXvHMKbD+VAo3birZnDcdHSnBJ6seQYfvHja9HLpMOJSrNsu+z0Xiav4KXVqNBgcWDvN9UAvCdrq802rP/r15iUfTnioIbNKbp/jtSmdJGqLHLNYxhT+qCq3soRCFGYMDiEUZPN6fN0s80/z4FK8D0J7Jn2cb2mxmxzjyRccw+uYz63PTzc52dse3i4LHj1Mkk+VwWnmHRYcMdA2TnTz3141P2e4V4r4O98i45UFnErbqLIYXAII3+7hDpFCU9/UIEN07O95hyKpmfj7c9PyuYWPEcSroqjok9OYPZtV/udePZ1Ip2/VcGeKbImuxMnKhvc50y72hDutQKR2MKCW3ETRQ6DQxgZ/KRO6hrtqKq3QadV4aWpg5EUp2s+n0CrwoQb++H9r8777MEDzTe8Pj0M+OXYge5A4esz9NrQy0Bd21iYrQ5UNVjd7xWptQLh3sKCK6SJIofBIYw0asHv8Zm//dn1UAsCkkw6OJwS1v/1a+z9phqvzRiK5+69AWmJBujUAn79/w/LRhIGrdq9j5Frx1PPE9RezmveW6k9YnlTOq6QJoocBocQtN5bqfVNtMnmxLMfHPU63ezZD45i1b1ZaLKL7k3iXJVEAPDQpuZtMi5LNAAAFtwx0LtKKT8beo3KfQM88H0dnvuw+TMGpMbjZHUjJEiwO8R2f69Y3ZQuEvMY4dLW3xWizo7BIUjBTH7qNGpUNVgxa3O5+3X9ko0watWY8fp+2ZYXr8+4CdvLT0GSJPd7+OrFV5ttXj3kA9/XYcWfjrj3YeqXbMT2WSOifEWU11lXSHOinLoCrpAOkr/JT8+9lPzt9eNvywv1pdXOnmkQz5XHrhW//vYycq2gPlXbBEmST0h3B51xhXQwf1eIOjuOHIIUzOSnv/z9uYsWn7lxUUJQaRAlqouo/ThRTl0BRw5B0mpazj926ZdshLbVWQm+ev6p8XrZfkWvTM9Gr3ht0KkG1/v2SzLish6GqFQXUfvwzGrqCjhyCJJrs7rWlUiaIG7sGo0Kg9ISsH3WCDicIjRqFVLj9T4O4WlbZ82zU4vOPFFOFCwGhyD5q0R6KW8wYGr79RqNCn2SjG0/MQiuUcSFU9/gqoyMsLwnhU8slwcTuTA4BMlfJRJTBeRLrJYHE7lwziFIPHWMiLoTjhyCpFIJGNA7XjZvwFQBEXVFDA5BEkUJx6sauLCJiLoFppWCxIVNRNSdMDgEiQubiKg7YXAIEhc2EVF3wuAQJFYrEVF3wgnpIHFhExF1J4oHB1EUsXz5chw9ehQ6nQ6//e1vceWVVyrdLJ+4sImIugvF00p/+ctfYLPZ8Pbbb2PhwoV45plnlG4SEVG3p3hwKC8vxy233AIAuPHGG/HVV18p3CIiIlI8rdTQ0ID4+Hj3z2q1Gg6HAxqN76YJgoCKiopoNa/T47VowWvRgteiBa9FM6vVGtLzFQ8O8fHxMJvN7p9FUfQbGIDm0QUREUWW4mmlIUOGYM+ePQCAf/7zn7j22msVbhEREQmSwocPu6qVjh07BkmS8Lvf/Q5XX321kk0iIur2FA8ORETU+SieViIios6HwYGIiGQYHIiISCYmgoMoiigoKMDkyZORn5+PkydPKt0kxdjtdixatAh5eXnIzc1FSUmJ0k1SXHV1NW699VacOHFC6aYoasOGDZg8eTLuuece7NixQ+nmKMZut2PhwoWYMmUK8vLyuu3fi4MHDyI/Px8AcPLkSUydOhV5eXkoLCyEKIptvj4mggO32Gixe/duJCUlobi4GBs3bsSKFSuUbpKi7HY7CgoKYDAYlG6KosrKynDgwAG89dZb2Lx5M86dO6d0kxTz6aefwuFwYNu2bZg3bx7WrFmjdJOibuPGjVi6dKl74dvTTz+N+fPno7i4GJIkBdWpjIngwC02WowbNw6/+MUv3D+r1d37PImVK1diypQpSE1NVbopivrss89w7bXXYt68eZg9ezZuu+02pZukmP79+8PpdEIURTQ0NARcVNtVXXHFFVi3bp3758OHDyMnJwcAMHr0aOzdu7fN94iJqxbqFhtdmclkAtB8TR577DHMnz9f4RYpZ9euXejZsyduueUWvPrqq0o3R1G1tbU4c+YMioqKcOrUKcyZMwcffPABBKH7bSkfFxeH06dP46677kJtbS2KioqUblLUjR07FqdOnXL/LEmS+++CyWRCfX19m+8REyOHULfY6OrOnj2L+++/H3fffTcmTJigdHMUs3PnTuzduxf5+fmoqKjA4sWLUVVVpXSzFJGUlIRRo0ZBp9MhPT0der0eNTU1SjdLEZs2bcKoUaPw4Ycf4r333sOSJUtC3leoq1GpWm71ZrMZiYmJbb8mkg0KF26x0eLChQt46KGHsGjRIuTm5irdHEVt3boVW7ZswebNm5GRkYGVK1eid+/eSjdLEdnZ2fjb3/4GSZJw/vx5NDU1ISkpSelmKSIxMREJCQkAgB49esDhcMDp7N5nvWdmZqKsrAwAsGfPHgwdOrTN18RE9/uOO+5AaWkppkyZ4t5io7sqKirCxYsXsX79eqxfvx5A8+RTd5+Q7e5uv/127N+/H7m5uZAkCQUFBd12PmrGjBl48sknkZeXB7vdjgULFiAuLk7pZilq8eLFWLZsGVavXo309HSMHTu2zddw+wwiIpKJibQSERFFF4MDERHJMDgQEZEMgwMREckwOBARkUxMlLISdTZWqxW7d++GWq1Gjx49MGbMGKWbRBRWDA5E7VBVVYUdO3Zg+/btSjeFKCIYHIjaoaioCF9//TUGDRqEwsJCpKeno6ioCCqVClVVVZg8eTKmTZumdDOJ2o3BgagdZs+ejWPHjrl3CwaA8+fP491334UoipgwYQLGjRuHlJQUBVtJ1H6ckCYKk8GDB0On08FgMGDAgAH47rvvlG4SUbtx5EDUDiqVSnaaVkVFBZxOJ2w2G77++mtceeWVCrWOqOMYHIjaISUlBXa7HRaLxf2Yw+HAzJkzUVdXhzlz5qBnz54KtpCoY7jxHlEYlJWVYdu2bXjhhReUbgpRWHDOgYiIZDhyICIiGY4ciIhIhsGBiIhkGByIiEiGwYGIiGQYHIiISOb/APUZwdUpb/F6AAAAAElFTkSuQmCC\n",
      "text/plain": [
       "<Figure size 432x288 with 1 Axes>"
      ]
     },
     "metadata": {},
     "output_type": "display_data"
    }
   ],
   "source": [
    "# scatterplot\n",
    "g = sns.scatterplot(x=\"tip\", y=\"total_bill\", data=tips)\n",
    "g.set(xlim=(0,10),ylim=(0,100))\n",
    "plt.title(\"title\")\n",
    "plt.show(g)"
   ]
  },
  {
   "cell_type": "code",
   "execution_count": 190,
   "metadata": {},
   "outputs": [
    {
     "data": {
      "text/plain": [
       "<seaborn.axisgrid.FacetGrid at 0x1dc82a96f88>"
      ]
     },
     "execution_count": 190,
     "metadata": {},
     "output_type": "execute_result"
    },
    {
     "data": {
      "image/png": "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\n",
      "text/plain": [
       "<Figure size 416.625x360 with 1 Axes>"
      ]
     },
     "metadata": {},
     "output_type": "display_data"
    }
   ],
   "source": [
    "### The `factorplot` function has been renamed to `catplot`\n",
    "sns.catplot(x=\"tip\", y=\"total_bill\", hue=\"day\",  data=tips) "
   ]
  },
  {
   "cell_type": "code",
   "execution_count": 332,
   "metadata": {},
   "outputs": [
    {
     "data": {
      "text/plain": [
       "<seaborn.axisgrid.FacetGrid at 0x7f05554b4668>"
      ]
     },
     "execution_count": 332,
     "metadata": {},
     "output_type": "execute_result"
    },
    {
     "data": {
      "image/png": "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\n",
      "text/plain": [
       "<Figure size 416.625x360 with 1 Axes>"
      ]
     },
     "metadata": {},
     "output_type": "display_data"
    }
   ],
   "source": [
    "### Regression lines by day of week\n",
    "sns.lmplot(x=\"tip\", y=\"total_bill\", hue=\"day\",  data=tips) "
   ]
  },
  {
   "cell_type": "markdown",
   "metadata": {},
   "source": [
    "## pandas\n",
    " \n",
    "Pandas is a library specialized in data manipulation, transformacion and saving data.\n",
    " \n",
    "It is the equivalent to 'dplyr' in R.\n",
    " \n",
    "One of the main functions of pandas are the dataframes. Dataframes are tables on which the columns are the variables and the rows are the observations (as in R). The columns can contain any data type. All the columns must have the same numer of rows.\n",
    " \n",
    "We can create datasets by passing a dictionary to the dataframe function:"
   ]
  },
  {
   "cell_type": "code",
<<<<<<< HEAD
   "execution_count": 11,
=======
   "execution_count": 191,
>>>>>>> 570962f0784e062de9488663f2384163eae166d7
   "metadata": {},
   "outputs": [],
   "source": [
    "### First we have to import the pandas and numpy libraries to the environment\n",
    "import pandas as pd\n",
    "import numpy as np"
   ]
  },
  {
   "cell_type": "code",
<<<<<<< HEAD
   "execution_count": 12,
=======
   "execution_count": 192,
>>>>>>> 570962f0784e062de9488663f2384163eae166d7
   "metadata": {},
   "outputs": [
    {
     "data": {
      "text/html": [
       "<div>\n",
       "<style scoped>\n",
       "    .dataframe tbody tr th:only-of-type {\n",
       "        vertical-align: middle;\n",
       "    }\n",
       "\n",
       "    .dataframe tbody tr th {\n",
       "        vertical-align: top;\n",
       "    }\n",
       "\n",
       "    .dataframe thead th {\n",
       "        text-align: right;\n",
       "    }\n",
       "</style>\n",
       "<table border=\"1\" class=\"dataframe\">\n",
       "  <thead>\n",
       "    <tr style=\"text-align: right;\">\n",
       "      <th></th>\n",
       "      <th>Var1</th>\n",
       "      <th>Var2</th>\n",
       "      <th>Var3</th>\n",
       "    </tr>\n",
       "  </thead>\n",
       "  <tbody>\n",
       "    <tr>\n",
       "      <td>0</td>\n",
       "      <td>1</td>\n",
       "      <td>A</td>\n",
       "      <td>True</td>\n",
       "    </tr>\n",
       "    <tr>\n",
       "      <td>1</td>\n",
       "      <td>2</td>\n",
       "      <td>B</td>\n",
       "      <td>False</td>\n",
       "    </tr>\n",
       "    <tr>\n",
       "      <td>2</td>\n",
       "      <td>3</td>\n",
       "      <td>C</td>\n",
       "      <td>False</td>\n",
       "    </tr>\n",
       "    <tr>\n",
       "      <td>3</td>\n",
       "      <td>4</td>\n",
       "      <td>D</td>\n",
       "      <td>True</td>\n",
       "    </tr>\n",
       "    <tr>\n",
       "      <td>4</td>\n",
       "      <td>5</td>\n",
       "      <td>E</td>\n",
       "      <td>False</td>\n",
       "    </tr>\n",
       "    <tr>\n",
       "      <td>5</td>\n",
       "      <td>6</td>\n",
       "      <td>a</td>\n",
       "      <td>True</td>\n",
       "    </tr>\n",
       "    <tr>\n",
       "      <td>6</td>\n",
       "      <td>7</td>\n",
       "      <td>b</td>\n",
       "      <td>False</td>\n",
       "    </tr>\n",
       "    <tr>\n",
       "      <td>7</td>\n",
       "      <td>8</td>\n",
       "      <td>c</td>\n",
       "      <td>True</td>\n",
       "    </tr>\n",
       "    <tr>\n",
       "      <td>8</td>\n",
       "      <td>9</td>\n",
       "      <td>d</td>\n",
       "      <td>False</td>\n",
       "    </tr>\n",
       "    <tr>\n",
       "      <td>9</td>\n",
       "      <td>10</td>\n",
       "      <td>e</td>\n",
       "      <td>False</td>\n",
       "    </tr>\n",
       "  </tbody>\n",
       "</table>\n",
       "</div>"
      ],
      "text/plain": [
       "   Var1 Var2   Var3\n",
       "0     1    A   True\n",
       "1     2    B  False\n",
       "2     3    C  False\n",
       "3     4    D   True\n",
       "4     5    E  False\n",
       "5     6    a   True\n",
       "6     7    b  False\n",
       "7     8    c   True\n",
       "8     9    d  False\n",
       "9    10    e  False"
      ]
     },
<<<<<<< HEAD
     "execution_count": 12,
=======
     "execution_count": 192,
>>>>>>> 570962f0784e062de9488663f2384163eae166d7
     "metadata": {},
     "output_type": "execute_result"
    }
   ],
   "source": [
    "df = pd.DataFrame({'Var1':[1,2,3,4,5,6,7,8,9,10],\n",
    "                   'Var2':['A','B','C','D','E','a','b','c','d','e'],\n",
    "                   'Var3':[True,False,False,True,False,True,False,True,False,False]})\n",
    "\n",
    "df\n",
    "\n",
    "# np.NAN"
   ]
  },
  {
   "cell_type": "code",
   "execution_count": 193,
   "metadata": {},
   "outputs": [
    {
     "data": {
      "text/html": [
       "<div>\n",
       "<style scoped>\n",
       "    .dataframe tbody tr th:only-of-type {\n",
       "        vertical-align: middle;\n",
       "    }\n",
       "\n",
       "    .dataframe tbody tr th {\n",
       "        vertical-align: top;\n",
       "    }\n",
       "\n",
       "    .dataframe thead th {\n",
       "        text-align: right;\n",
       "    }\n",
       "</style>\n",
       "<table border=\"1\" class=\"dataframe\">\n",
       "  <thead>\n",
       "    <tr style=\"text-align: right;\">\n",
       "      <th></th>\n",
       "      <th>Var1</th>\n",
       "      <th>Var2</th>\n",
       "      <th>Var3</th>\n",
       "    </tr>\n",
       "  </thead>\n",
       "  <tbody>\n",
       "    <tr>\n",
       "      <td>0</td>\n",
       "      <td>1</td>\n",
       "      <td>A</td>\n",
       "      <td>True</td>\n",
       "    </tr>\n",
       "    <tr>\n",
       "      <td>1</td>\n",
       "      <td>2</td>\n",
       "      <td>B</td>\n",
       "      <td>False</td>\n",
       "    </tr>\n",
       "    <tr>\n",
       "      <td>2</td>\n",
       "      <td>3</td>\n",
       "      <td>C</td>\n",
       "      <td>False</td>\n",
       "    </tr>\n",
       "    <tr>\n",
       "      <td>3</td>\n",
       "      <td>4</td>\n",
       "      <td>D</td>\n",
       "      <td>True</td>\n",
       "    </tr>\n",
       "    <tr>\n",
       "      <td>4</td>\n",
       "      <td>5</td>\n",
       "      <td>E</td>\n",
       "      <td>False</td>\n",
       "    </tr>\n",
       "  </tbody>\n",
       "</table>\n",
       "</div>"
      ],
      "text/plain": [
       "   Var1 Var2   Var3\n",
       "0     1    A   True\n",
       "1     2    B  False\n",
       "2     3    C  False\n",
       "3     4    D   True\n",
       "4     5    E  False"
      ]
     },
     "execution_count": 193,
     "metadata": {},
     "output_type": "execute_result"
    }
   ],
   "source": [
    "df.head()"
   ]
  },
  {
   "cell_type": "code",
   "execution_count": 6,
   "metadata": {},
   "outputs": [
    {
     "data": {
      "text/html": [
       "<div>\n",
       "<style scoped>\n",
       "    .dataframe tbody tr th:only-of-type {\n",
       "        vertical-align: middle;\n",
       "    }\n",
       "\n",
       "    .dataframe tbody tr th {\n",
       "        vertical-align: top;\n",
       "    }\n",
       "\n",
       "    .dataframe thead th {\n",
       "        text-align: right;\n",
       "    }\n",
       "</style>\n",
       "<table border=\"1\" class=\"dataframe\">\n",
       "  <thead>\n",
       "    <tr style=\"text-align: right;\">\n",
       "      <th></th>\n",
       "      <th>Var1</th>\n",
       "      <th>Var2</th>\n",
       "      <th>Var3</th>\n",
       "    </tr>\n",
       "  </thead>\n",
       "  <tbody>\n",
       "    <tr>\n",
       "      <th>0</th>\n",
       "      <td>1</td>\n",
       "      <td>A</td>\n",
       "      <td>True</td>\n",
       "    </tr>\n",
       "    <tr>\n",
       "      <th>1</th>\n",
       "      <td>2</td>\n",
       "      <td>B</td>\n",
       "      <td>False</td>\n",
       "    </tr>\n",
       "  </tbody>\n",
       "</table>\n",
       "</div>"
      ],
      "text/plain": [
       "   Var1 Var2   Var3\n",
       "0     1    A   True\n",
       "1     2    B  False"
      ]
     },
     "execution_count": 6,
     "metadata": {},
     "output_type": "execute_result"
    }
   ],
   "source": [
    "df.head(2)"
   ]
  },
  {
   "cell_type": "code",
   "execution_count": 7,
   "metadata": {},
   "outputs": [
    {
     "data": {
      "text/html": [
       "<div>\n",
       "<style scoped>\n",
       "    .dataframe tbody tr th:only-of-type {\n",
       "        vertical-align: middle;\n",
       "    }\n",
       "\n",
       "    .dataframe tbody tr th {\n",
       "        vertical-align: top;\n",
       "    }\n",
       "\n",
       "    .dataframe thead th {\n",
       "        text-align: right;\n",
       "    }\n",
       "</style>\n",
       "<table border=\"1\" class=\"dataframe\">\n",
       "  <thead>\n",
       "    <tr style=\"text-align: right;\">\n",
       "      <th></th>\n",
       "      <th>Var1</th>\n",
       "      <th>Var2</th>\n",
       "      <th>Var3</th>\n",
       "    </tr>\n",
       "  </thead>\n",
       "  <tbody>\n",
       "    <tr>\n",
       "      <th>5</th>\n",
       "      <td>6</td>\n",
       "      <td>a</td>\n",
       "      <td>True</td>\n",
       "    </tr>\n",
       "    <tr>\n",
       "      <th>6</th>\n",
       "      <td>7</td>\n",
       "      <td>b</td>\n",
       "      <td>False</td>\n",
       "    </tr>\n",
       "    <tr>\n",
       "      <th>7</th>\n",
       "      <td>8</td>\n",
       "      <td>c</td>\n",
       "      <td>True</td>\n",
       "    </tr>\n",
       "    <tr>\n",
       "      <th>8</th>\n",
       "      <td>9</td>\n",
       "      <td>d</td>\n",
       "      <td>False</td>\n",
       "    </tr>\n",
       "    <tr>\n",
       "      <th>9</th>\n",
       "      <td>10</td>\n",
       "      <td>e</td>\n",
       "      <td>False</td>\n",
       "    </tr>\n",
       "  </tbody>\n",
       "</table>\n",
       "</div>"
      ],
      "text/plain": [
       "   Var1 Var2   Var3\n",
       "5     6    a   True\n",
       "6     7    b  False\n",
       "7     8    c   True\n",
       "8     9    d  False\n",
       "9    10    e  False"
      ]
     },
     "execution_count": 7,
     "metadata": {},
     "output_type": "execute_result"
    }
   ],
   "source": [
    "df.tail()"
   ]
  },
  {
   "cell_type": "code",
   "execution_count": 10,
   "metadata": {},
   "outputs": [
    {
     "data": {
      "text/plain": [
       "Var1     int64\n",
       "Var2    object\n",
       "Var3      bool\n",
       "dtype: object"
      ]
     },
     "execution_count": 10,
     "metadata": {},
     "output_type": "execute_result"
    }
   ],
   "source": [
    "df.dtypes"
   ]
  },
  {
   "cell_type": "code",
   "execution_count": 13,
   "metadata": {},
   "outputs": [
    {
     "data": {
      "text/html": [
       "<div>\n",
       "<style scoped>\n",
       "    .dataframe tbody tr th:only-of-type {\n",
       "        vertical-align: middle;\n",
       "    }\n",
       "\n",
       "    .dataframe tbody tr th {\n",
       "        vertical-align: top;\n",
       "    }\n",
       "\n",
       "    .dataframe thead th {\n",
       "        text-align: right;\n",
       "    }\n",
       "</style>\n",
       "<table border=\"1\" class=\"dataframe\">\n",
       "  <thead>\n",
       "    <tr style=\"text-align: right;\">\n",
       "      <th></th>\n",
       "      <th>Var1</th>\n",
       "    </tr>\n",
       "  </thead>\n",
       "  <tbody>\n",
       "    <tr>\n",
       "      <th>count</th>\n",
       "      <td>10.00000</td>\n",
       "    </tr>\n",
       "    <tr>\n",
       "      <th>mean</th>\n",
       "      <td>5.50000</td>\n",
       "    </tr>\n",
       "    <tr>\n",
       "      <th>std</th>\n",
       "      <td>3.02765</td>\n",
       "    </tr>\n",
       "    <tr>\n",
       "      <th>min</th>\n",
       "      <td>1.00000</td>\n",
       "    </tr>\n",
       "    <tr>\n",
       "      <th>25%</th>\n",
       "      <td>3.25000</td>\n",
       "    </tr>\n",
       "    <tr>\n",
       "      <th>50%</th>\n",
       "      <td>5.50000</td>\n",
       "    </tr>\n",
       "    <tr>\n",
       "      <th>75%</th>\n",
       "      <td>7.75000</td>\n",
       "    </tr>\n",
       "    <tr>\n",
       "      <th>max</th>\n",
       "      <td>10.00000</td>\n",
       "    </tr>\n",
       "  </tbody>\n",
       "</table>\n",
       "</div>"
      ],
      "text/plain": [
       "           Var1\n",
       "count  10.00000\n",
       "mean    5.50000\n",
       "std     3.02765\n",
       "min     1.00000\n",
       "25%     3.25000\n",
       "50%     5.50000\n",
       "75%     7.75000\n",
       "max    10.00000"
      ]
     },
     "execution_count": 13,
     "metadata": {},
     "output_type": "execute_result"
    }
   ],
   "source": [
    "df.describe()"
   ]
  },
  {
   "cell_type": "code",
   "execution_count": 14,
   "metadata": {},
   "outputs": [
    {
     "data": {
      "text/plain": [
       "Index(['Var1', 'Var2', 'Var3'], dtype='object')"
      ]
     },
     "execution_count": 14,
     "metadata": {},
     "output_type": "execute_result"
    }
   ],
   "source": [
    "df.columns"
   ]
  },
  {
   "cell_type": "code",
   "execution_count": 15,
   "metadata": {},
   "outputs": [
    {
     "data": {
      "text/plain": [
       "array([[1, 'A', True],\n",
       "       [2, 'B', False],\n",
       "       [3, 'C', False],\n",
       "       [4, 'D', True],\n",
       "       [5, 'E', False],\n",
       "       [6, 'a', True],\n",
       "       [7, 'b', False],\n",
       "       [8, 'c', True],\n",
       "       [9, 'd', False],\n",
       "       [10, 'e', False]], dtype=object)"
      ]
     },
     "execution_count": 15,
     "metadata": {},
     "output_type": "execute_result"
    }
   ],
   "source": [
    "df.values"
   ]
  },
  {
   "cell_type": "code",
   "execution_count": 18,
   "metadata": {},
   "outputs": [
    {
     "data": {
      "text/html": [
       "<div>\n",
       "<style scoped>\n",
       "    .dataframe tbody tr th:only-of-type {\n",
       "        vertical-align: middle;\n",
       "    }\n",
       "\n",
       "    .dataframe tbody tr th {\n",
       "        vertical-align: top;\n",
       "    }\n",
       "\n",
       "    .dataframe thead th {\n",
       "        text-align: right;\n",
       "    }\n",
       "</style>\n",
       "<table border=\"1\" class=\"dataframe\">\n",
       "  <thead>\n",
       "    <tr style=\"text-align: right;\">\n",
       "      <th></th>\n",
       "      <th>Var1</th>\n",
       "      <th>Var2</th>\n",
       "      <th>Var3</th>\n",
       "    </tr>\n",
       "  </thead>\n",
       "  <tbody>\n",
       "    <tr>\n",
       "      <th>9</th>\n",
       "      <td>10</td>\n",
       "      <td>e</td>\n",
       "      <td>False</td>\n",
       "    </tr>\n",
       "    <tr>\n",
       "      <th>8</th>\n",
       "      <td>9</td>\n",
       "      <td>d</td>\n",
       "      <td>False</td>\n",
       "    </tr>\n",
       "    <tr>\n",
       "      <th>7</th>\n",
       "      <td>8</td>\n",
       "      <td>c</td>\n",
       "      <td>True</td>\n",
       "    </tr>\n",
       "    <tr>\n",
       "      <th>6</th>\n",
       "      <td>7</td>\n",
       "      <td>b</td>\n",
       "      <td>False</td>\n",
       "    </tr>\n",
       "    <tr>\n",
       "      <th>5</th>\n",
       "      <td>6</td>\n",
       "      <td>a</td>\n",
       "      <td>True</td>\n",
       "    </tr>\n",
       "    <tr>\n",
       "      <th>4</th>\n",
       "      <td>5</td>\n",
       "      <td>E</td>\n",
       "      <td>False</td>\n",
       "    </tr>\n",
       "    <tr>\n",
       "      <th>3</th>\n",
       "      <td>4</td>\n",
       "      <td>D</td>\n",
       "      <td>True</td>\n",
       "    </tr>\n",
       "    <tr>\n",
       "      <th>2</th>\n",
       "      <td>3</td>\n",
       "      <td>C</td>\n",
       "      <td>False</td>\n",
       "    </tr>\n",
       "    <tr>\n",
       "      <th>1</th>\n",
       "      <td>2</td>\n",
       "      <td>B</td>\n",
       "      <td>False</td>\n",
       "    </tr>\n",
       "    <tr>\n",
       "      <th>0</th>\n",
       "      <td>1</td>\n",
       "      <td>A</td>\n",
       "      <td>True</td>\n",
       "    </tr>\n",
       "  </tbody>\n",
       "</table>\n",
       "</div>"
      ],
      "text/plain": [
       "   Var1 Var2   Var3\n",
       "9    10    e  False\n",
       "8     9    d  False\n",
       "7     8    c   True\n",
       "6     7    b  False\n",
       "5     6    a   True\n",
       "4     5    E  False\n",
       "3     4    D   True\n",
       "2     3    C  False\n",
       "1     2    B  False\n",
       "0     1    A   True"
      ]
     },
     "execution_count": 18,
     "metadata": {},
     "output_type": "execute_result"
    }
   ],
   "source": [
    "df.sort_values(ascending=False,by='Var2')"
   ]
  },
  {
   "cell_type": "code",
   "execution_count": 20,
   "metadata": {},
   "outputs": [
    {
     "data": {
      "text/plain": [
       "0     True\n",
       "1    False\n",
       "2    False\n",
       "3     True\n",
       "4    False\n",
       "5     True\n",
       "6    False\n",
       "7     True\n",
       "8    False\n",
       "9    False\n",
       "Name: Var3, dtype: bool"
      ]
     },
     "execution_count": 20,
     "metadata": {},
     "output_type": "execute_result"
    }
   ],
   "source": [
    "## selectinh a column from the dataframe\n",
    "df['Var3']"
   ]
  },
  {
   "cell_type": "code",
   "execution_count": 27,
   "metadata": {},
   "outputs": [
    {
     "data": {
      "text/html": [
       "<div>\n",
       "<style scoped>\n",
       "    .dataframe tbody tr th:only-of-type {\n",
       "        vertical-align: middle;\n",
       "    }\n",
       "\n",
       "    .dataframe tbody tr th {\n",
       "        vertical-align: top;\n",
       "    }\n",
       "\n",
       "    .dataframe thead th {\n",
       "        text-align: right;\n",
       "    }\n",
       "</style>\n",
       "<table border=\"1\" class=\"dataframe\">\n",
       "  <thead>\n",
       "    <tr style=\"text-align: right;\">\n",
       "      <th></th>\n",
       "      <th>Var1</th>\n",
       "      <th>Var2</th>\n",
       "      <th>Var3</th>\n",
       "    </tr>\n",
       "  </thead>\n",
       "  <tbody>\n",
       "    <tr>\n",
       "      <th>1</th>\n",
       "      <td>2</td>\n",
       "      <td>B</td>\n",
       "      <td>False</td>\n",
       "    </tr>\n",
       "    <tr>\n",
       "      <th>2</th>\n",
       "      <td>3</td>\n",
       "      <td>C</td>\n",
       "      <td>False</td>\n",
       "    </tr>\n",
       "    <tr>\n",
       "      <th>3</th>\n",
       "      <td>4</td>\n",
       "      <td>D</td>\n",
       "      <td>True</td>\n",
       "    </tr>\n",
       "  </tbody>\n",
       "</table>\n",
       "</div>"
      ],
      "text/plain": [
       "   Var1 Var2   Var3\n",
       "1     2    B  False\n",
       "2     3    C  False\n",
       "3     4    D   True"
      ]
     },
     "execution_count": 27,
     "metadata": {},
     "output_type": "execute_result"
    }
   ],
   "source": [
    "## selecting rows\n",
    "df[1:4]"
   ]
  },
  {
   "cell_type": "code",
   "execution_count": 28,
   "metadata": {},
   "outputs": [
    {
     "data": {
      "text/html": [
       "<div>\n",
       "<style scoped>\n",
       "    .dataframe tbody tr th:only-of-type {\n",
       "        vertical-align: middle;\n",
       "    }\n",
       "\n",
       "    .dataframe tbody tr th {\n",
       "        vertical-align: top;\n",
       "    }\n",
       "\n",
       "    .dataframe thead th {\n",
       "        text-align: right;\n",
       "    }\n",
       "</style>\n",
       "<table border=\"1\" class=\"dataframe\">\n",
       "  <thead>\n",
       "    <tr style=\"text-align: right;\">\n",
       "      <th></th>\n",
       "      <th>Var1</th>\n",
       "      <th>Var2</th>\n",
       "      <th>Var3</th>\n",
       "    </tr>\n",
       "  </thead>\n",
       "  <tbody>\n",
       "    <tr>\n",
       "      <th>0</th>\n",
       "      <td>1</td>\n",
       "      <td>A</td>\n",
       "      <td>True</td>\n",
       "    </tr>\n",
       "    <tr>\n",
       "      <th>1</th>\n",
       "      <td>2</td>\n",
       "      <td>B</td>\n",
       "      <td>False</td>\n",
       "    </tr>\n",
       "    <tr>\n",
       "      <th>2</th>\n",
       "      <td>3</td>\n",
       "      <td>C</td>\n",
       "      <td>False</td>\n",
       "    </tr>\n",
       "  </tbody>\n",
       "</table>\n",
       "</div>"
      ],
      "text/plain": [
       "   Var1 Var2   Var3\n",
       "0     1    A   True\n",
       "1     2    B  False\n",
       "2     3    C  False"
      ]
     },
     "execution_count": 28,
     "metadata": {},
     "output_type": "execute_result"
    }
   ],
   "source": [
    "df[0:3]"
   ]
  },
  {
   "cell_type": "code",
   "execution_count": 37,
   "metadata": {},
   "outputs": [
    {
     "data": {
      "text/html": [
       "<div>\n",
       "<style scoped>\n",
       "    .dataframe tbody tr th:only-of-type {\n",
       "        vertical-align: middle;\n",
       "    }\n",
       "\n",
       "    .dataframe tbody tr th {\n",
       "        vertical-align: top;\n",
       "    }\n",
       "\n",
       "    .dataframe thead th {\n",
       "        text-align: right;\n",
       "    }\n",
       "</style>\n",
       "<table border=\"1\" class=\"dataframe\">\n",
       "  <thead>\n",
       "    <tr style=\"text-align: right;\">\n",
       "      <th></th>\n",
       "      <th>Var2</th>\n",
       "      <th>Var3</th>\n",
       "    </tr>\n",
       "  </thead>\n",
       "  <tbody>\n",
       "    <tr>\n",
       "      <th>2</th>\n",
       "      <td>C</td>\n",
       "      <td>False</td>\n",
       "    </tr>\n",
       "    <tr>\n",
       "      <th>3</th>\n",
       "      <td>D</td>\n",
       "      <td>True</td>\n",
       "    </tr>\n",
       "    <tr>\n",
       "      <th>4</th>\n",
       "      <td>E</td>\n",
       "      <td>False</td>\n",
       "    </tr>\n",
       "  </tbody>\n",
       "</table>\n",
       "</div>"
      ],
      "text/plain": [
       "  Var2   Var3\n",
       "2    C  False\n",
       "3    D   True\n",
       "4    E  False"
      ]
     },
     "execution_count": 37,
     "metadata": {},
     "output_type": "execute_result"
    }
   ],
   "source": [
    "## to select specific rows and specific columns we use the function 'loc'\n",
    "## In R we did:  df[3:5,c(\"Var2\",\"Var3\")]\n",
    "## in Python we do this as follows:\n",
    "df.loc[2:4,['Var2','Var3']]"
   ]
  },
  {
   "cell_type": "code",
   "execution_count": 41,
   "metadata": {},
   "outputs": [
    {
     "data": {
      "text/html": [
       "<div>\n",
       "<style scoped>\n",
       "    .dataframe tbody tr th:only-of-type {\n",
       "        vertical-align: middle;\n",
       "    }\n",
       "\n",
       "    .dataframe tbody tr th {\n",
       "        vertical-align: top;\n",
       "    }\n",
       "\n",
       "    .dataframe thead th {\n",
       "        text-align: right;\n",
       "    }\n",
       "</style>\n",
       "<table border=\"1\" class=\"dataframe\">\n",
       "  <thead>\n",
       "    <tr style=\"text-align: right;\">\n",
       "      <th></th>\n",
       "      <th>Var1</th>\n",
       "      <th>Var2</th>\n",
       "      <th>Var3</th>\n",
       "    </tr>\n",
       "  </thead>\n",
       "  <tbody>\n",
       "    <tr>\n",
       "      <th>2</th>\n",
       "      <td>3</td>\n",
       "      <td>C</td>\n",
       "      <td>False</td>\n",
       "    </tr>\n",
       "    <tr>\n",
       "      <th>3</th>\n",
       "      <td>4</td>\n",
       "      <td>D</td>\n",
       "      <td>True</td>\n",
       "    </tr>\n",
       "  </tbody>\n",
       "</table>\n",
       "</div>"
      ],
      "text/plain": [
       "   Var1 Var2   Var3\n",
       "2     3    C  False\n",
       "3     4    D   True"
      ]
     },
     "execution_count": 41,
     "metadata": {},
     "output_type": "execute_result"
    }
   ],
   "source": [
    "## iloc is used to access rows\n",
    "df.iloc[2:4]"
   ]
  },
  {
   "cell_type": "code",
   "execution_count": 43,
   "metadata": {},
   "outputs": [
    {
     "data": {
      "text/plain": [
       "'E'"
      ]
     },
     "execution_count": 43,
     "metadata": {},
     "output_type": "execute_result"
    }
   ],
   "source": [
    "# to retrieve the content of a specific cell we use the function 'at'\n",
    "df.at[4,\"Var2\"]"
   ]
  },
  {
   "cell_type": "code",
   "execution_count": 56,
   "metadata": {},
   "outputs": [
    {
     "data": {
      "text/plain": [
       "'E'"
      ]
     },
     "execution_count": 56,
     "metadata": {},
     "output_type": "execute_result"
    }
   ],
   "source": [
    "## An alternative way of obtaining a cell are:\n",
    "a = df.loc[4,\"Var2\"]\n",
    "a"
   ]
  },
  {
   "cell_type": "markdown",
   "metadata": {},
   "source": [
    "The functions loc and iloc are the equivalent of the function 'reduce' that was in the base python 2.7. In Python 3 the 'reduce' fuction was moved from the base to the 'functools' library."
   ]
  },
  {
   "cell_type": "code",
   "execution_count": 58,
   "metadata": {},
   "outputs": [
    {
     "data": {
      "text/html": [
       "<div>\n",
       "<style scoped>\n",
       "    .dataframe tbody tr th:only-of-type {\n",
       "        vertical-align: middle;\n",
       "    }\n",
       "\n",
       "    .dataframe tbody tr th {\n",
       "        vertical-align: top;\n",
       "    }\n",
       "\n",
       "    .dataframe thead th {\n",
       "        text-align: right;\n",
       "    }\n",
       "</style>\n",
       "<table border=\"1\" class=\"dataframe\">\n",
       "  <thead>\n",
       "    <tr style=\"text-align: right;\">\n",
       "      <th></th>\n",
       "      <th>Var1</th>\n",
       "      <th>Var2</th>\n",
       "      <th>Var3</th>\n",
       "    </tr>\n",
       "  </thead>\n",
       "  <tbody>\n",
       "    <tr>\n",
       "      <th>6</th>\n",
       "      <td>7</td>\n",
       "      <td>b</td>\n",
       "      <td>False</td>\n",
       "    </tr>\n",
       "    <tr>\n",
       "      <th>7</th>\n",
       "      <td>8</td>\n",
       "      <td>c</td>\n",
       "      <td>True</td>\n",
       "    </tr>\n",
       "    <tr>\n",
       "      <th>8</th>\n",
       "      <td>9</td>\n",
       "      <td>d</td>\n",
       "      <td>False</td>\n",
       "    </tr>\n",
       "    <tr>\n",
       "      <th>9</th>\n",
       "      <td>10</td>\n",
       "      <td>e</td>\n",
       "      <td>False</td>\n",
       "    </tr>\n",
       "  </tbody>\n",
       "</table>\n",
       "</div>"
      ],
      "text/plain": [
       "   Var1 Var2   Var3\n",
       "6     7    b  False\n",
       "7     8    c   True\n",
       "8     9    d  False\n",
       "9    10    e  False"
      ]
     },
     "execution_count": 58,
     "metadata": {},
     "output_type": "execute_result"
    }
   ],
   "source": [
    "## We can get a subset of the dataframe:\n",
    "\n",
    "df[df.Var1>6]"
   ]
  },
  {
   "cell_type": "code",
   "execution_count": 67,
   "metadata": {},
   "outputs": [
    {
     "data": {
      "text/html": [
       "<div>\n",
       "<style scoped>\n",
       "    .dataframe tbody tr th:only-of-type {\n",
       "        vertical-align: middle;\n",
       "    }\n",
       "\n",
       "    .dataframe tbody tr th {\n",
       "        vertical-align: top;\n",
       "    }\n",
       "\n",
       "    .dataframe thead th {\n",
       "        text-align: right;\n",
       "    }\n",
       "</style>\n",
       "<table border=\"1\" class=\"dataframe\">\n",
       "  <thead>\n",
       "    <tr style=\"text-align: right;\">\n",
       "      <th></th>\n",
       "      <th>Var1</th>\n",
       "      <th>Var2</th>\n",
       "      <th>Var3</th>\n",
       "    </tr>\n",
       "  </thead>\n",
       "  <tbody>\n",
       "    <tr>\n",
       "      <th>6</th>\n",
       "      <td>7</td>\n",
       "      <td>b</td>\n",
       "      <td>False</td>\n",
       "    </tr>\n",
       "    <tr>\n",
       "      <th>7</th>\n",
       "      <td>8</td>\n",
       "      <td>c</td>\n",
       "      <td>True</td>\n",
       "    </tr>\n",
       "    <tr>\n",
       "      <th>8</th>\n",
       "      <td>9</td>\n",
       "      <td>d</td>\n",
       "      <td>False</td>\n",
       "    </tr>\n",
       "    <tr>\n",
       "      <th>9</th>\n",
       "      <td>10</td>\n",
       "      <td>e</td>\n",
       "      <td>False</td>\n",
       "    </tr>\n",
       "  </tbody>\n",
       "</table>\n",
       "</div>"
      ],
      "text/plain": [
       "   Var1 Var2   Var3\n",
       "6     7    b  False\n",
       "7     8    c   True\n",
       "8     9    d  False\n",
       "9    10    e  False"
      ]
     },
     "execution_count": 67,
     "metadata": {},
     "output_type": "execute_result"
    }
   ],
   "source": [
    "df[df.Var2>'a']"
   ]
  },
  {
   "cell_type": "code",
   "execution_count": 65,
   "metadata": {},
   "outputs": [
    {
     "data": {
      "text/html": [
       "<div>\n",
       "<style scoped>\n",
       "    .dataframe tbody tr th:only-of-type {\n",
       "        vertical-align: middle;\n",
       "    }\n",
       "\n",
       "    .dataframe tbody tr th {\n",
       "        vertical-align: top;\n",
       "    }\n",
       "\n",
       "    .dataframe thead th {\n",
       "        text-align: right;\n",
       "    }\n",
       "</style>\n",
       "<table border=\"1\" class=\"dataframe\">\n",
       "  <thead>\n",
       "    <tr style=\"text-align: right;\">\n",
       "      <th></th>\n",
       "      <th>Var1</th>\n",
       "      <th>Var2</th>\n",
       "      <th>Var3</th>\n",
       "    </tr>\n",
       "  </thead>\n",
       "  <tbody>\n",
       "    <tr>\n",
       "      <th>0</th>\n",
       "      <td>1</td>\n",
       "      <td>A</td>\n",
       "      <td>True</td>\n",
       "    </tr>\n",
       "    <tr>\n",
       "      <th>3</th>\n",
       "      <td>4</td>\n",
       "      <td>D</td>\n",
       "      <td>True</td>\n",
       "    </tr>\n",
       "    <tr>\n",
       "      <th>5</th>\n",
       "      <td>6</td>\n",
       "      <td>a</td>\n",
       "      <td>True</td>\n",
       "    </tr>\n",
       "    <tr>\n",
       "      <th>7</th>\n",
       "      <td>8</td>\n",
       "      <td>c</td>\n",
       "      <td>True</td>\n",
       "    </tr>\n",
       "  </tbody>\n",
       "</table>\n",
       "</div>"
      ],
      "text/plain": [
       "   Var1 Var2  Var3\n",
       "0     1    A  True\n",
       "3     4    D  True\n",
       "5     6    a  True\n",
       "7     8    c  True"
      ]
     },
     "execution_count": 65,
     "metadata": {},
     "output_type": "execute_result"
    }
   ],
   "source": [
    "df2 = df[df.Var3==True]\n",
    "df2"
   ]
  },
  {
   "cell_type": "code",
   "execution_count": 78,
   "metadata": {},
   "outputs": [
    {
     "data": {
      "text/html": [
       "<div>\n",
       "<style scoped>\n",
       "    .dataframe tbody tr th:only-of-type {\n",
       "        vertical-align: middle;\n",
       "    }\n",
       "\n",
       "    .dataframe tbody tr th {\n",
       "        vertical-align: top;\n",
       "    }\n",
       "\n",
       "    .dataframe thead th {\n",
       "        text-align: right;\n",
       "    }\n",
       "</style>\n",
       "<table border=\"1\" class=\"dataframe\">\n",
       "  <thead>\n",
       "    <tr style=\"text-align: right;\">\n",
       "      <th></th>\n",
       "      <th>Var1</th>\n",
       "      <th>Var2</th>\n",
       "      <th>Var3</th>\n",
       "    </tr>\n",
       "  </thead>\n",
       "  <tbody>\n",
       "    <tr>\n",
       "      <th>0</th>\n",
       "      <td>1</td>\n",
       "      <td>A</td>\n",
       "      <td>1.0</td>\n",
       "    </tr>\n",
       "    <tr>\n",
       "      <th>1</th>\n",
       "      <td>2</td>\n",
       "      <td>B</td>\n",
       "      <td>NaN</td>\n",
       "    </tr>\n",
       "    <tr>\n",
       "      <th>2</th>\n",
       "      <td>3</td>\n",
       "      <td>C</td>\n",
       "      <td>NaN</td>\n",
       "    </tr>\n",
       "    <tr>\n",
       "      <th>3</th>\n",
       "      <td>4</td>\n",
       "      <td>D</td>\n",
       "      <td>1.0</td>\n",
       "    </tr>\n",
       "    <tr>\n",
       "      <th>4</th>\n",
       "      <td>5</td>\n",
       "      <td>E</td>\n",
       "      <td>NaN</td>\n",
       "    </tr>\n",
       "    <tr>\n",
       "      <th>5</th>\n",
       "      <td>6</td>\n",
       "      <td>a</td>\n",
       "      <td>1.0</td>\n",
       "    </tr>\n",
       "    <tr>\n",
       "      <th>6</th>\n",
       "      <td>7</td>\n",
       "      <td>b</td>\n",
       "      <td>NaN</td>\n",
       "    </tr>\n",
       "    <tr>\n",
       "      <th>7</th>\n",
       "      <td>8</td>\n",
       "      <td>c</td>\n",
       "      <td>1.0</td>\n",
       "    </tr>\n",
       "    <tr>\n",
       "      <th>8</th>\n",
       "      <td>9</td>\n",
       "      <td>d</td>\n",
       "      <td>NaN</td>\n",
       "    </tr>\n",
       "    <tr>\n",
       "      <th>9</th>\n",
       "      <td>10</td>\n",
       "      <td>e</td>\n",
       "      <td>NaN</td>\n",
       "    </tr>\n",
       "  </tbody>\n",
       "</table>\n",
       "</div>"
      ],
      "text/plain": [
       "   Var1 Var2  Var3\n",
       "0     1    A   1.0\n",
       "1     2    B   NaN\n",
       "2     3    C   NaN\n",
       "3     4    D   1.0\n",
       "4     5    E   NaN\n",
       "5     6    a   1.0\n",
       "6     7    b   NaN\n",
       "7     8    c   1.0\n",
       "8     9    d   NaN\n",
       "9    10    e   NaN"
      ]
     },
     "execution_count": 78,
     "metadata": {},
     "output_type": "execute_result"
    }
   ],
   "source": [
    "df2 = df[df>0]\n",
    "df2"
   ]
  },
  {
   "cell_type": "code",
   "execution_count": 79,
   "metadata": {},
   "outputs": [
    {
     "data": {
      "text/html": [
       "<div>\n",
       "<style scoped>\n",
       "    .dataframe tbody tr th:only-of-type {\n",
       "        vertical-align: middle;\n",
       "    }\n",
       "\n",
       "    .dataframe tbody tr th {\n",
       "        vertical-align: top;\n",
       "    }\n",
       "\n",
       "    .dataframe thead th {\n",
       "        text-align: right;\n",
       "    }\n",
       "</style>\n",
       "<table border=\"1\" class=\"dataframe\">\n",
       "  <thead>\n",
       "    <tr style=\"text-align: right;\">\n",
       "      <th></th>\n",
       "      <th>Var1</th>\n",
       "      <th>Var2</th>\n",
       "      <th>Var3</th>\n",
       "    </tr>\n",
       "  </thead>\n",
       "  <tbody>\n",
       "    <tr>\n",
       "      <th>0</th>\n",
       "      <td>1</td>\n",
       "      <td>A</td>\n",
       "      <td>1.0</td>\n",
       "    </tr>\n",
       "    <tr>\n",
       "      <th>3</th>\n",
       "      <td>4</td>\n",
       "      <td>D</td>\n",
       "      <td>1.0</td>\n",
       "    </tr>\n",
       "    <tr>\n",
       "      <th>5</th>\n",
       "      <td>6</td>\n",
       "      <td>a</td>\n",
       "      <td>1.0</td>\n",
       "    </tr>\n",
       "    <tr>\n",
       "      <th>7</th>\n",
       "      <td>8</td>\n",
       "      <td>c</td>\n",
       "      <td>1.0</td>\n",
       "    </tr>\n",
       "  </tbody>\n",
       "</table>\n",
       "</div>"
      ],
      "text/plain": [
       "   Var1 Var2  Var3\n",
       "0     1    A   1.0\n",
       "3     4    D   1.0\n",
       "5     6    a   1.0\n",
       "7     8    c   1.0"
      ]
     },
     "execution_count": 79,
     "metadata": {},
     "output_type": "execute_result"
    }
   ],
   "source": [
    "df2.dropna()"
   ]
  },
  {
   "cell_type": "code",
   "execution_count": 80,
   "metadata": {},
   "outputs": [
    {
     "data": {
      "text/html": [
       "<div>\n",
       "<style scoped>\n",
       "    .dataframe tbody tr th:only-of-type {\n",
       "        vertical-align: middle;\n",
       "    }\n",
       "\n",
       "    .dataframe tbody tr th {\n",
       "        vertical-align: top;\n",
       "    }\n",
       "\n",
       "    .dataframe thead th {\n",
       "        text-align: right;\n",
       "    }\n",
       "</style>\n",
       "<table border=\"1\" class=\"dataframe\">\n",
       "  <thead>\n",
       "    <tr style=\"text-align: right;\">\n",
       "      <th></th>\n",
       "      <th>Var1</th>\n",
       "      <th>Var2</th>\n",
       "      <th>Var3</th>\n",
       "    </tr>\n",
       "  </thead>\n",
       "  <tbody>\n",
       "    <tr>\n",
       "      <th>0</th>\n",
       "      <td>1</td>\n",
       "      <td>A</td>\n",
       "      <td>1.0</td>\n",
       "    </tr>\n",
       "    <tr>\n",
       "      <th>1</th>\n",
       "      <td>2</td>\n",
       "      <td>B</td>\n",
       "      <td>0.0</td>\n",
       "    </tr>\n",
       "    <tr>\n",
       "      <th>2</th>\n",
       "      <td>3</td>\n",
       "      <td>C</td>\n",
       "      <td>0.0</td>\n",
       "    </tr>\n",
       "    <tr>\n",
       "      <th>3</th>\n",
       "      <td>4</td>\n",
       "      <td>D</td>\n",
       "      <td>1.0</td>\n",
       "    </tr>\n",
       "    <tr>\n",
       "      <th>4</th>\n",
       "      <td>5</td>\n",
       "      <td>E</td>\n",
       "      <td>0.0</td>\n",
       "    </tr>\n",
       "    <tr>\n",
       "      <th>5</th>\n",
       "      <td>6</td>\n",
       "      <td>a</td>\n",
       "      <td>1.0</td>\n",
       "    </tr>\n",
       "    <tr>\n",
       "      <th>6</th>\n",
       "      <td>7</td>\n",
       "      <td>b</td>\n",
       "      <td>0.0</td>\n",
       "    </tr>\n",
       "    <tr>\n",
       "      <th>7</th>\n",
       "      <td>8</td>\n",
       "      <td>c</td>\n",
       "      <td>1.0</td>\n",
       "    </tr>\n",
       "    <tr>\n",
       "      <th>8</th>\n",
       "      <td>9</td>\n",
       "      <td>d</td>\n",
       "      <td>0.0</td>\n",
       "    </tr>\n",
       "    <tr>\n",
       "      <th>9</th>\n",
       "      <td>10</td>\n",
       "      <td>e</td>\n",
       "      <td>0.0</td>\n",
       "    </tr>\n",
       "  </tbody>\n",
       "</table>\n",
       "</div>"
      ],
      "text/plain": [
       "   Var1 Var2  Var3\n",
       "0     1    A   1.0\n",
       "1     2    B   0.0\n",
       "2     3    C   0.0\n",
       "3     4    D   1.0\n",
       "4     5    E   0.0\n",
       "5     6    a   1.0\n",
       "6     7    b   0.0\n",
       "7     8    c   1.0\n",
       "8     9    d   0.0\n",
       "9    10    e   0.0"
      ]
     },
     "execution_count": 80,
     "metadata": {},
     "output_type": "execute_result"
    }
   ],
   "source": [
    "df2 = df[df>0]\n",
    "df2.fillna(value=0)"
   ]
  },
  {
   "cell_type": "code",
   "execution_count": 81,
   "metadata": {},
   "outputs": [
    {
     "data": {
      "text/plain": [
       "Var1    5.5\n",
       "Var3    0.4\n",
       "dtype: float64"
      ]
     },
     "execution_count": 81,
     "metadata": {},
     "output_type": "execute_result"
    }
   ],
   "source": [
    "df.mean()"
   ]
  },
  {
   "cell_type": "code",
   "execution_count": 82,
   "metadata": {},
   "outputs": [
    {
     "data": {
      "text/plain": [
       "Var1    5.5\n",
       "Var3    0.0\n",
       "dtype: float64"
      ]
     },
     "execution_count": 82,
     "metadata": {},
     "output_type": "execute_result"
    }
   ],
   "source": [
    "df.median()"
   ]
  },
  {
   "cell_type": "code",
   "execution_count": 84,
   "metadata": {},
   "outputs": [
    {
     "data": {
      "text/plain": [
       "Var1            55\n",
       "Var2    ABCDEabcde\n",
       "Var3             4\n",
       "dtype: object"
      ]
     },
     "execution_count": 84,
     "metadata": {},
     "output_type": "execute_result"
    }
   ],
   "source": [
    "df.sum()"
   ]
  },
  {
   "cell_type": "code",
   "execution_count": null,
   "metadata": {},
   "outputs": [],
   "source": [
    "### Pandas has also functions for import data...\n",
    "\n",
    "df2 = pd.read_csv(\"mytest.csv\")\n"
   ]
  },
  {
   "cell_type": "markdown",
   "metadata": {},
   "source": [
    "## Scikit-Learn\n",
    " \n",
    "Scikit-Learn is the most popular library for machine learning in Python. It includes functions for read, write and manipulate data, as lots of optimized machine learning algorithms.\n",
    " i\n",
    "The name derives from the combination <b>SCI</b>py tool<b>KIT</b> for machine <b>LEARN</b>ing. The library expands the capabilities of numpy, scipy, and pandas.\n",
    " \n"
   ]
  },
  {
   "cell_type": "markdown",
   "metadata": {},
   "source": [
    "# Homework\n",
    " \n",
    "1. Create a module called <i><b>DSCourse</b></i> using object oriented programming. The module must receive a pandas dataframe and output a summary for each of the numeric columns of the dataframe. The summary must be called using a 'summary' function that returns: \n",
    " \n",
    "    + the minimum value\n",
    "    + the mean value\n",
    "    + the median value\n",
    "    + the maximum value\n",
    " \n",
    "\n",
    "2. Create a jupyter notebook that call the DSCourse module and the summary function.\n",
    " \n",
    "3. Use the <i>mtcars.csv</i> dataset (found in the data directory) and apply to it your summary function.\n",
    "\n",
    "  \n",
    "You can get some hints for this homework from the <a href=\"https://drive.google.com/open?id=1BcU_nw-YmKoc7V5FpX-kS5eeMJjcZwfh\"> Python cheat sheets </a>"
   ]
  }
 ],
 "metadata": {
  "kernelspec": {
   "display_name": "Python 3",
   "language": "python",
   "name": "python3"
  },
  "language_info": {
   "codemirror_mode": {
    "name": "ipython",
    "version": 3
   },
   "file_extension": ".py",
   "mimetype": "text/x-python",
   "name": "python",
   "nbconvert_exporter": "python",
   "pygments_lexer": "ipython3",
   "version": "3.7.4"
  }
 },
 "nbformat": 4,
 "nbformat_minor": 2
}
